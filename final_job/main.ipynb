{
  "cells": [
    {
      "cell_type": "code",
      "source": [
        "!pip install transformers"
      ],
      "metadata": {
        "colab": {
          "base_uri": "https://localhost:8080/"
        },
        "id": "Oq2x6qxkS3ja",
        "outputId": "60cf7dcb-82e8-4a94-ce94-91aacca1c66d"
      },
      "id": "Oq2x6qxkS3ja",
      "execution_count": 2,
      "outputs": [
        {
          "output_type": "stream",
          "name": "stdout",
          "text": [
            "Looking in indexes: https://pypi.org/simple, https://us-python.pkg.dev/colab-wheels/public/simple/\n",
            "Collecting transformers\n",
            "  Downloading transformers-4.26.1-py3-none-any.whl (6.3 MB)\n",
            "\u001b[2K     \u001b[90m━━━━━━━━━━━━━━━━━━━━━━━━━━━━━━━━━━━━━━━━\u001b[0m \u001b[32m6.3/6.3 MB\u001b[0m \u001b[31m49.7 MB/s\u001b[0m eta \u001b[36m0:00:00\u001b[0m\n",
            "\u001b[?25hRequirement already satisfied: filelock in /usr/local/lib/python3.9/dist-packages (from transformers) (3.9.0)\n",
            "Collecting huggingface-hub<1.0,>=0.11.0\n",
            "  Downloading huggingface_hub-0.13.2-py3-none-any.whl (199 kB)\n",
            "\u001b[2K     \u001b[90m━━━━━━━━━━━━━━━━━━━━━━━━━━━━━━━━━━━━━━\u001b[0m \u001b[32m199.2/199.2 KB\u001b[0m \u001b[31m23.1 MB/s\u001b[0m eta \u001b[36m0:00:00\u001b[0m\n",
            "\u001b[?25hRequirement already satisfied: packaging>=20.0 in /usr/local/lib/python3.9/dist-packages (from transformers) (23.0)\n",
            "Requirement already satisfied: regex!=2019.12.17 in /usr/local/lib/python3.9/dist-packages (from transformers) (2022.6.2)\n",
            "Requirement already satisfied: numpy>=1.17 in /usr/local/lib/python3.9/dist-packages (from transformers) (1.22.4)\n",
            "Requirement already satisfied: requests in /usr/local/lib/python3.9/dist-packages (from transformers) (2.25.1)\n",
            "Requirement already satisfied: tqdm>=4.27 in /usr/local/lib/python3.9/dist-packages (from transformers) (4.65.0)\n",
            "Requirement already satisfied: pyyaml>=5.1 in /usr/local/lib/python3.9/dist-packages (from transformers) (6.0)\n",
            "Collecting tokenizers!=0.11.3,<0.14,>=0.11.1\n",
            "  Downloading tokenizers-0.13.2-cp39-cp39-manylinux_2_17_x86_64.manylinux2014_x86_64.whl (7.6 MB)\n",
            "\u001b[2K     \u001b[90m━━━━━━━━━━━━━━━━━━━━━━━━━━━━━━━━━━━━━━━━\u001b[0m \u001b[32m7.6/7.6 MB\u001b[0m \u001b[31m101.9 MB/s\u001b[0m eta \u001b[36m0:00:00\u001b[0m\n",
            "\u001b[?25hRequirement already satisfied: typing-extensions>=3.7.4.3 in /usr/local/lib/python3.9/dist-packages (from huggingface-hub<1.0,>=0.11.0->transformers) (4.5.0)\n",
            "Requirement already satisfied: chardet<5,>=3.0.2 in /usr/local/lib/python3.9/dist-packages (from requests->transformers) (4.0.0)\n",
            "Requirement already satisfied: certifi>=2017.4.17 in /usr/local/lib/python3.9/dist-packages (from requests->transformers) (2022.12.7)\n",
            "Requirement already satisfied: urllib3<1.27,>=1.21.1 in /usr/local/lib/python3.9/dist-packages (from requests->transformers) (1.26.14)\n",
            "Requirement already satisfied: idna<3,>=2.5 in /usr/local/lib/python3.9/dist-packages (from requests->transformers) (2.10)\n",
            "Installing collected packages: tokenizers, huggingface-hub, transformers\n",
            "Successfully installed huggingface-hub-0.13.2 tokenizers-0.13.2 transformers-4.26.1\n"
          ]
        }
      ]
    },
    {
      "cell_type": "code",
      "source": [
        "!pip install deeppavlov"
      ],
      "metadata": {
        "colab": {
          "base_uri": "https://localhost:8080/"
        },
        "id": "1fkmWV1VS99A",
        "outputId": "66d831a0-b334-4dce-adf5-6857a233eed2"
      },
      "id": "1fkmWV1VS99A",
      "execution_count": 3,
      "outputs": [
        {
          "output_type": "stream",
          "name": "stdout",
          "text": [
            "Looking in indexes: https://pypi.org/simple, https://us-python.pkg.dev/colab-wheels/public/simple/\n",
            "Collecting deeppavlov\n",
            "  Downloading deeppavlov-1.1.0-py3-none-any.whl (433 kB)\n",
            "\u001b[2K     \u001b[90m━━━━━━━━━━━━━━━━━━━━━━━━━━━━━━━━━━━━━━━\u001b[0m \u001b[32m433.7/433.7 KB\u001b[0m \u001b[31m9.4 MB/s\u001b[0m eta \u001b[36m0:00:00\u001b[0m\n",
            "\u001b[?25hCollecting fastapi<0.78.0,>=0.47.0\n",
            "  Downloading fastapi-0.77.1-py3-none-any.whl (54 kB)\n",
            "\u001b[2K     \u001b[90m━━━━━━━━━━━━━━━━━━━━━━━━━━━━━━━━━━━━━━━━\u001b[0m \u001b[32m54.5/54.5 KB\u001b[0m \u001b[31m3.8 MB/s\u001b[0m eta \u001b[36m0:00:00\u001b[0m\n",
            "\u001b[?25hCollecting overrides==4.1.2\n",
            "  Downloading overrides-4.1.2-py3-none-any.whl (11 kB)\n",
            "Collecting pybind11==2.2.4\n",
            "  Downloading pybind11-2.2.4-py2.py3-none-any.whl (145 kB)\n",
            "\u001b[2K     \u001b[90m━━━━━━━━━━━━━━━━━━━━━━━━━━━━━━━━━━━━━━\u001b[0m \u001b[32m145.2/145.2 KB\u001b[0m \u001b[31m17.5 MB/s\u001b[0m eta \u001b[36m0:00:00\u001b[0m\n",
            "\u001b[?25hCollecting scikit-learn<1.1.0,>=0.24\n",
            "  Downloading scikit_learn-1.0.2-cp39-cp39-manylinux_2_17_x86_64.manylinux2014_x86_64.whl (26.4 MB)\n",
            "\u001b[2K     \u001b[90m━━━━━━━━━━━━━━━━━━━━━━━━━━━━━━━━━━━━━━━━\u001b[0m \u001b[32m26.4/26.4 MB\u001b[0m \u001b[31m40.9 MB/s\u001b[0m eta \u001b[36m0:00:00\u001b[0m\n",
            "\u001b[?25hCollecting scipy<1.10.0\n",
            "  Downloading scipy-1.9.3-cp39-cp39-manylinux_2_17_x86_64.manylinux2014_x86_64.whl (33.8 MB)\n",
            "\u001b[2K     \u001b[90m━━━━━━━━━━━━━━━━━━━━━━━━━━━━━━━━━━━━━━━━\u001b[0m \u001b[32m33.8/33.8 MB\u001b[0m \u001b[31m14.7 MB/s\u001b[0m eta \u001b[36m0:00:00\u001b[0m\n",
            "\u001b[?25hCollecting uvicorn<0.19.0,>=0.13.0\n",
            "  Downloading uvicorn-0.18.3-py3-none-any.whl (57 kB)\n",
            "\u001b[2K     \u001b[90m━━━━━━━━━━━━━━━━━━━━━━━━━━━━━━━━━━━━━━━━\u001b[0m \u001b[32m57.4/57.4 KB\u001b[0m \u001b[31m7.2 MB/s\u001b[0m eta \u001b[36m0:00:00\u001b[0m\n",
            "\u001b[?25hRequirement already satisfied: pandas<1.6.0,>=1.0.0 in /usr/local/lib/python3.9/dist-packages (from deeppavlov) (1.4.4)\n",
            "Requirement already satisfied: filelock<3.10.0,>=3.0.0 in /usr/local/lib/python3.9/dist-packages (from deeppavlov) (3.9.0)\n",
            "Collecting aio-pika<6.9.0,>=3.2.2\n",
            "  Downloading aio_pika-6.8.2-py3-none-any.whl (42 kB)\n",
            "\u001b[2K     \u001b[90m━━━━━━━━━━━━━━━━━━━━━━━━━━━━━━━━━━━━━━━━\u001b[0m \u001b[32m42.3/42.3 KB\u001b[0m \u001b[31m5.5 MB/s\u001b[0m eta \u001b[36m0:00:00\u001b[0m\n",
            "\u001b[?25hRequirement already satisfied: requests<3.0.0,>=2.19.0 in /usr/local/lib/python3.9/dist-packages (from deeppavlov) (2.25.1)\n",
            "Requirement already satisfied: nltk<3.10.0,>=3.2.5 in /usr/local/lib/python3.9/dist-packages (from deeppavlov) (3.7)\n",
            "Requirement already satisfied: pydantic in /usr/local/lib/python3.9/dist-packages (from deeppavlov) (1.10.6)\n",
            "Requirement already satisfied: numpy<1.24 in /usr/local/lib/python3.9/dist-packages (from deeppavlov) (1.22.4)\n",
            "Collecting prometheus-client<0.15.0,>=0.13.0\n",
            "  Downloading prometheus_client-0.14.1-py3-none-any.whl (59 kB)\n",
            "\u001b[2K     \u001b[90m━━━━━━━━━━━━━━━━━━━━━━━━━━━━━━━━━━━━━━━━\u001b[0m \u001b[32m59.5/59.5 KB\u001b[0m \u001b[31m6.3 MB/s\u001b[0m eta \u001b[36m0:00:00\u001b[0m\n",
            "\u001b[?25hCollecting tqdm<4.65.0,>=4.42.0\n",
            "  Downloading tqdm-4.64.1-py2.py3-none-any.whl (78 kB)\n",
            "\u001b[2K     \u001b[90m━━━━━━━━━━━━━━━━━━━━━━━━━━━━━━━━━━━━━━━━\u001b[0m \u001b[32m78.5/78.5 KB\u001b[0m \u001b[31m9.5 MB/s\u001b[0m eta \u001b[36m0:00:00\u001b[0m\n",
            "\u001b[?25hCollecting typing-utils>=0.0.3\n",
            "  Downloading typing_utils-0.1.0-py3-none-any.whl (10 kB)\n",
            "Collecting yarl\n",
            "  Downloading yarl-1.8.2-cp39-cp39-manylinux_2_17_x86_64.manylinux2014_x86_64.whl (264 kB)\n",
            "\u001b[2K     \u001b[90m━━━━━━━━━━━━━━━━━━━━━━━━━━━━━━━━━━━━━━\u001b[0m \u001b[32m264.6/264.6 KB\u001b[0m \u001b[31m32.1 MB/s\u001b[0m eta \u001b[36m0:00:00\u001b[0m\n",
            "\u001b[?25hCollecting aiormq<4,>=3.2.3\n",
            "  Downloading aiormq-3.3.1-py3-none-any.whl (28 kB)\n",
            "Collecting starlette==0.19.1\n",
            "  Downloading starlette-0.19.1-py3-none-any.whl (63 kB)\n",
            "\u001b[2K     \u001b[90m━━━━━━━━━━━━━━━━━━━━━━━━━━━━━━━━━━━━━━━━\u001b[0m \u001b[32m63.3/63.3 KB\u001b[0m \u001b[31m7.7 MB/s\u001b[0m eta \u001b[36m0:00:00\u001b[0m\n",
            "\u001b[?25hCollecting anyio<5,>=3.4.0\n",
            "  Downloading anyio-3.6.2-py3-none-any.whl (80 kB)\n",
            "\u001b[2K     \u001b[90m━━━━━━━━━━━━━━━━━━━━━━━━━━━━━━━━━━━━━━━━\u001b[0m \u001b[32m80.6/80.6 KB\u001b[0m \u001b[31m11.0 MB/s\u001b[0m eta \u001b[36m0:00:00\u001b[0m\n",
            "\u001b[?25hRequirement already satisfied: typing-extensions>=3.10.0 in /usr/local/lib/python3.9/dist-packages (from starlette==0.19.1->fastapi<0.78.0,>=0.47.0->deeppavlov) (4.5.0)\n",
            "Requirement already satisfied: regex>=2021.8.3 in /usr/local/lib/python3.9/dist-packages (from nltk<3.10.0,>=3.2.5->deeppavlov) (2022.6.2)\n",
            "Requirement already satisfied: click in /usr/local/lib/python3.9/dist-packages (from nltk<3.10.0,>=3.2.5->deeppavlov) (8.1.3)\n",
            "Requirement already satisfied: joblib in /usr/local/lib/python3.9/dist-packages (from nltk<3.10.0,>=3.2.5->deeppavlov) (1.1.1)\n",
            "Requirement already satisfied: python-dateutil>=2.8.1 in /usr/local/lib/python3.9/dist-packages (from pandas<1.6.0,>=1.0.0->deeppavlov) (2.8.2)\n",
            "Requirement already satisfied: pytz>=2020.1 in /usr/local/lib/python3.9/dist-packages (from pandas<1.6.0,>=1.0.0->deeppavlov) (2022.7.1)\n",
            "Requirement already satisfied: idna<3,>=2.5 in /usr/local/lib/python3.9/dist-packages (from requests<3.0.0,>=2.19.0->deeppavlov) (2.10)\n",
            "Requirement already satisfied: certifi>=2017.4.17 in /usr/local/lib/python3.9/dist-packages (from requests<3.0.0,>=2.19.0->deeppavlov) (2022.12.7)\n",
            "Requirement already satisfied: urllib3<1.27,>=1.21.1 in /usr/local/lib/python3.9/dist-packages (from requests<3.0.0,>=2.19.0->deeppavlov) (1.26.14)\n",
            "Requirement already satisfied: chardet<5,>=3.0.2 in /usr/local/lib/python3.9/dist-packages (from requests<3.0.0,>=2.19.0->deeppavlov) (4.0.0)\n",
            "Requirement already satisfied: threadpoolctl>=2.0.0 in /usr/local/lib/python3.9/dist-packages (from scikit-learn<1.1.0,>=0.24->deeppavlov) (3.1.0)\n",
            "Collecting h11>=0.8\n",
            "  Downloading h11-0.14.0-py3-none-any.whl (58 kB)\n",
            "\u001b[2K     \u001b[90m━━━━━━━━━━━━━━━━━━━━━━━━━━━━━━━━━━━━━━━━\u001b[0m \u001b[32m58.3/58.3 KB\u001b[0m \u001b[31m9.6 MB/s\u001b[0m eta \u001b[36m0:00:00\u001b[0m\n",
            "\u001b[?25hCollecting pamqp==2.3.0\n",
            "  Downloading pamqp-2.3.0-py2.py3-none-any.whl (28 kB)\n",
            "Requirement already satisfied: six>=1.5 in /usr/local/lib/python3.9/dist-packages (from python-dateutil>=2.8.1->pandas<1.6.0,>=1.0.0->deeppavlov) (1.15.0)\n",
            "Collecting multidict>=4.0\n",
            "  Downloading multidict-6.0.4-cp39-cp39-manylinux_2_17_x86_64.manylinux2014_x86_64.whl (114 kB)\n",
            "\u001b[2K     \u001b[90m━━━━━━━━━━━━━━━━━━━━━━━━━━━━━━━━━━━━━━\u001b[0m \u001b[32m114.2/114.2 KB\u001b[0m \u001b[31m15.5 MB/s\u001b[0m eta \u001b[36m0:00:00\u001b[0m\n",
            "\u001b[?25hCollecting sniffio>=1.1\n",
            "  Downloading sniffio-1.3.0-py3-none-any.whl (10 kB)\n",
            "Installing collected packages: pybind11, pamqp, typing-utils, tqdm, sniffio, scipy, prometheus-client, multidict, h11, yarl, uvicorn, scikit-learn, overrides, anyio, starlette, aiormq, fastapi, aio-pika, deeppavlov\n",
            "  Attempting uninstall: tqdm\n",
            "    Found existing installation: tqdm 4.65.0\n",
            "    Uninstalling tqdm-4.65.0:\n",
            "      Successfully uninstalled tqdm-4.65.0\n",
            "  Attempting uninstall: scipy\n",
            "    Found existing installation: scipy 1.10.1\n",
            "    Uninstalling scipy-1.10.1:\n",
            "      Successfully uninstalled scipy-1.10.1\n",
            "  Attempting uninstall: prometheus-client\n",
            "    Found existing installation: prometheus-client 0.16.0\n",
            "    Uninstalling prometheus-client-0.16.0:\n",
            "      Successfully uninstalled prometheus-client-0.16.0\n",
            "  Attempting uninstall: scikit-learn\n",
            "    Found existing installation: scikit-learn 1.2.2\n",
            "    Uninstalling scikit-learn-1.2.2:\n",
            "      Successfully uninstalled scikit-learn-1.2.2\n",
            "Successfully installed aio-pika-6.8.2 aiormq-3.3.1 anyio-3.6.2 deeppavlov-1.1.0 fastapi-0.77.1 h11-0.14.0 multidict-6.0.4 overrides-4.1.2 pamqp-2.3.0 prometheus-client-0.14.1 pybind11-2.2.4 scikit-learn-1.0.2 scipy-1.9.3 sniffio-1.3.0 starlette-0.19.1 tqdm-4.64.1 typing-utils-0.1.0 uvicorn-0.18.3 yarl-1.8.2\n"
          ]
        }
      ]
    },
    {
      "cell_type": "code",
      "execution_count": 13,
      "id": "8d18e171",
      "metadata": {
        "id": "8d18e171"
      },
      "outputs": [],
      "source": [
        "import tensorflow as tf\n",
        "from transformers import AutoTokenizer, AutoModelForCausalLM\n",
        "import torch\n",
        "import pickle\n",
        "import numpy as np\n",
        "import os\n",
        "import time\n",
        "from stuff import generate_text, respond_to_dialog\n",
        "from deeppavlov import build_model, configs\n",
        "import transformers"
      ]
    },
    {
      "cell_type": "code",
      "execution_count": 34,
      "id": "038553c9",
      "metadata": {
        "id": "038553c9"
      },
      "outputs": [],
      "source": [
        "tokenizer_classif = AutoTokenizer.from_pretrained(\"bert-base-cased\")\n",
        "def tokenize_classif(sentence):\n",
        "    tokens = tokenizer_classif.encode_plus(sentence, max_length=30,\n",
        "                                   truncation=True, padding='max_length',\n",
        "                                   add_special_tokens=True, return_attention_mask=True,\n",
        "                                   return_token_type_ids=False, return_tensors='tf')\n",
        "    return tokens['input_ids'], tokens['attention_mask']"
      ]
    },
    {
      "cell_type": "code",
      "source": [
        "first_classif_model = tf.keras.models.load_model('models/first_classif.h5', custom_objects={\"TFBertModel\": transformers.TFBertModel})"
      ],
      "metadata": {
        "colab": {
          "base_uri": "https://localhost:8080/"
        },
        "id": "SqYi1MYFStsr",
        "outputId": "f8939bfb-db12-4700-88f2-2dc8ef1c0be4"
      },
      "id": "SqYi1MYFStsr",
      "execution_count": 28,
      "outputs": [
        {
          "output_type": "stream",
          "name": "stderr",
          "text": [
            "WARNING:tensorflow:Error in loading the saved optimizer state. As a result, your model is starting with a freshly initialized optimizer.\n"
          ]
        }
      ]
    },
    {
      "cell_type": "code",
      "source": [
        "device = torch.device(\"cuda\")"
      ],
      "metadata": {
        "id": "WjixbLPlZ9Dy"
      },
      "id": "WjixbLPlZ9Dy",
      "execution_count": 27,
      "outputs": []
    },
    {
      "cell_type": "code",
      "execution_count": 26,
      "id": "e343e6ed",
      "metadata": {
        "colab": {
          "base_uri": "https://localhost:8080/"
        },
        "id": "e343e6ed",
        "outputId": "0ac0eadc-a9e3-4bca-e2a1-7b94845a3c49"
      },
      "outputs": [
        {
          "output_type": "stream",
          "name": "stderr",
          "text": [
            "Special tokens have been added in the vocabulary, make sure the associated word embeddings are fine-tuned or trained.\n"
          ]
        }
      ],
      "source": [
        "tokenizer_boltalka = AutoTokenizer.from_pretrained('sberbank-ai/rugpt3small_based_on_gpt2')\n",
        "model_boltalka = AutoModelForCausalLM.from_pretrained('sberbank-ai/rugpt3small_based_on_gpt2').to(device)"
      ]
    },
    {
      "cell_type": "code",
      "execution_count": 19,
      "id": "b9867771",
      "metadata": {
        "colab": {
          "base_uri": "https://localhost:8080/"
        },
        "id": "b9867771",
        "outputId": "6052dfe5-cc4f-4eab-b556-ad20b2ef2e43"
      },
      "outputs": [
        {
          "output_type": "stream",
          "name": "stderr",
          "text": [
            "WARNING:tensorflow:No training configuration found in the save file, so the model was *not* compiled. Compile it manually.\n"
          ]
        }
      ],
      "source": [
        "model_stihov = tf.keras.models.load_model('models/generator_stihov.h5')"
      ]
    },
    {
      "cell_type": "code",
      "execution_count": 20,
      "id": "099ffc9c",
      "metadata": {
        "colab": {
          "base_uri": "https://localhost:8080/"
        },
        "id": "099ffc9c",
        "outputId": "0404c302-4b94-40d4-9c75-4672c91093d9"
      },
      "outputs": [
        {
          "output_type": "stream",
          "name": "stderr",
          "text": [
            "2023-03-14 14:00:51.741 INFO in 'deeppavlov.download'['download'] at line 138: Skipped http://files.deeppavlov.ai/v1/squad/squad_ru_torch_bert.tar.gz download because of matching hashes\n",
            "INFO:deeppavlov.download:Skipped http://files.deeppavlov.ai/v1/squad/squad_ru_torch_bert.tar.gz download because of matching hashes\n",
            "Some weights of the model checkpoint at DeepPavlov/rubert-base-cased were not used when initializing BertForQuestionAnswering: ['cls.predictions.decoder.bias', 'cls.predictions.bias', 'cls.seq_relationship.bias', 'cls.seq_relationship.weight', 'cls.predictions.decoder.weight', 'cls.predictions.transform.dense.weight', 'cls.predictions.transform.LayerNorm.bias', 'cls.predictions.transform.LayerNorm.weight', 'cls.predictions.transform.dense.bias']\n",
            "- This IS expected if you are initializing BertForQuestionAnswering from the checkpoint of a model trained on another task or with another architecture (e.g. initializing a BertForSequenceClassification model from a BertForPreTraining model).\n",
            "- This IS NOT expected if you are initializing BertForQuestionAnswering from the checkpoint of a model that you expect to be exactly identical (initializing a BertForSequenceClassification model from a BertForSequenceClassification model).\n",
            "Some weights of BertForQuestionAnswering were not initialized from the model checkpoint at DeepPavlov/rubert-base-cased and are newly initialized: ['qa_outputs.weight', 'qa_outputs.bias']\n",
            "You should probably TRAIN this model on a down-stream task to be able to use it for predictions and inference.\n"
          ]
        }
      ],
      "source": [
        "\n",
        "model_context = build_model(configs.squad.squad_ru_bert, download=True)\n",
        "context = open('sh.txt', 'rb').read().decode(encoding='utf-8', errors=\"ignore\")"
      ]
    },
    {
      "cell_type": "code",
      "source": [
        "test = 'Где был подрыв?'"
      ],
      "metadata": {
        "id": "mG4JxfnPg5GV"
      },
      "id": "mG4JxfnPg5GV",
      "execution_count": 37,
      "outputs": []
    },
    {
      "cell_type": "code",
      "source": [
        "model_context([context], [test])[0][0]"
      ],
      "metadata": {
        "colab": {
          "base_uri": "https://localhost:8080/",
          "height": 35
        },
        "id": "sQTH_ezSg_vf",
        "outputId": "cc7b55e9-2c3e-4a45-dca2-45046007b3a8"
      },
      "id": "sQTH_ezSg_vf",
      "execution_count": 42,
      "outputs": [
        {
          "output_type": "execute_result",
          "data": {
            "text/plain": [
              "'в Панама-Сити'"
            ],
            "application/vnd.google.colaboratory.intrinsic+json": {
              "type": "string"
            }
          },
          "metadata": {},
          "execution_count": 42
        }
      ]
    },
    {
      "cell_type": "code",
      "execution_count": 47,
      "id": "af2d11b4",
      "metadata": {
        "id": "af2d11b4"
      },
      "outputs": [],
      "source": [
        "def answer(mytext):\n",
        "    Xids, Xmask = tokenize_classif(mytext)\n",
        "    classif_text = {'input_ids': Xids, 'attention_mask': Xmask}\n",
        "    result = first_classif_model(classif_text)\n",
        "    numclass = np.argmax(result[0])\n",
        "    prob = np.max(result[0])\n",
        "    \n",
        "    try:\n",
        "        if numclass == 0 and prob > 0.8:\n",
        "            answ = generate_text(model_stihov, mytext)\n",
        "        elif numclass == 1 and prob > 0.8:\n",
        "            answ = model_context([context], [mytext])[0][0]\n",
        "        else:\n",
        "            answ = respond_to_dialog(model_boltalka, tokenizer_boltalka, [mytext])\n",
        "\n",
        "    except:\n",
        "        answ = respond_to_dialog(model_boltalka, tokenizer_boltalka, [mytext])\n",
        "    print(answ)"
      ]
    },
    {
      "cell_type": "code",
      "execution_count": 52,
      "id": "afb33fdb",
      "metadata": {
        "colab": {
          "base_uri": "https://localhost:8080/"
        },
        "id": "afb33fdb",
        "outputId": "a4543823-37c1-4ead-ccfc-ac326a9cce38"
      },
      "outputs": [
        {
          "output_type": "stream",
          "name": "stdout",
          "text": [
            "Байден этого попросту не понял или проигнорировал\n"
          ]
        }
      ],
      "source": [
        "answer('Что сказал Байден?')"
      ]
    },
    {
      "cell_type": "code",
      "source": [
        "answer('Продолжи стих: Я вас любил')"
      ],
      "metadata": {
        "colab": {
          "base_uri": "https://localhost:8080/"
        },
        "id": "9FSVsgtxhzQh",
        "outputId": "7121a21e-cb37-42b6-c361-191e07dc4e32"
      },
      "id": "9FSVsgtxhzQh",
      "execution_count": 50,
      "outputs": [
        {
          "output_type": "stream",
          "name": "stdout",
          "text": [
            "Продолжи стих: Я вас любил! таков и ныне я:\r\n",
            "\t\tБеспечный, влюбчивый. Вы встретлов он.\r\n",
            "\t\tНа серебро, на злачное супруты,\r\n",
            "\t\tОбнимет вас, и тихою рукою\r\n",
            "\t\tНа мягкой молоденечи под отзорстие неподогда, гонят от него рукой,\r\n",
            "\t\tПр\n"
          ]
        }
      ]
    },
    {
      "cell_type": "code",
      "source": [
        "answer('Кто готовил водолазов для подрыва?')"
      ],
      "metadata": {
        "colab": {
          "base_uri": "https://localhost:8080/"
        },
        "id": "XxTO96M6iBqI",
        "outputId": "b95bdfda-ae35-4424-9aca-2887ed73ae29"
      },
      "id": "XxTO96M6iBqI",
      "execution_count": 51,
      "outputs": [
        {
          "output_type": "stream",
          "name": "stdout",
          "text": [
            "из Панама-Сити\n"
          ]
        }
      ]
    },
    {
      "cell_type": "code",
      "source": [
        "answer('Ты любишь кушать мороженное?')"
      ],
      "metadata": {
        "colab": {
          "base_uri": "https://localhost:8080/"
        },
        "id": "3kiaUBDGiVkz",
        "outputId": "db68b571-22f7-4b1e-b9f0-b33dbe1d9040"
      },
      "id": "3kiaUBDGiVkz",
      "execution_count": 55,
      "outputs": [
        {
          "output_type": "stream",
          "name": "stdout",
          "text": [
            "Я люблю мороженое.\n"
          ]
        }
      ]
    },
    {
      "cell_type": "code",
      "source": [
        "answer('Придумай продолжение: Буря небо мглою кроет')"
      ],
      "metadata": {
        "colab": {
          "base_uri": "https://localhost:8080/"
        },
        "id": "hln4BZ20ivOm",
        "outputId": "979a3420-c894-47ac-9753-c8d289484a54"
      },
      "id": "hln4BZ20ivOm",
      "execution_count": 56,
      "outputs": [
        {
          "output_type": "stream",
          "name": "stdout",
          "text": [
            "Придумай продолжение: Буря небо мглою кроет покрывала,\r\n",
            "\t\tИ слабо в бледных облаках\r\n",
            "\t\tУвидел их Махров Головку прекрасных мечтаний\r\n",
            "\t\tС коленом пеною поразил\r\n",
            "\t\tВо мне надежду, скорбь и радость\r\n",
            "\t\t[И душу] [бурную]\r\n",
            "\t\t[Готова холодна?\r\n",
            "\t\tУжел\n"
          ]
        }
      ]
    }
  ],
  "metadata": {
    "kernelspec": {
      "display_name": "Python 3 (ipykernel)",
      "language": "python",
      "name": "python3"
    },
    "language_info": {
      "codemirror_mode": {
        "name": "ipython",
        "version": 3
      },
      "file_extension": ".py",
      "mimetype": "text/x-python",
      "name": "python",
      "nbconvert_exporter": "python",
      "pygments_lexer": "ipython3",
      "version": "3.9.12"
    },
    "colab": {
      "provenance": []
    },
    "accelerator": "GPU",
    "gpuClass": "standard"
  },
  "nbformat": 4,
  "nbformat_minor": 5
}