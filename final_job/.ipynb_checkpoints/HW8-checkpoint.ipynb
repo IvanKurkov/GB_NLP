{
 "cells": [
  {
   "cell_type": "markdown",
   "id": "c55f8996",
   "metadata": {},
   "source": [
    "#### Рекуррентные нейронные сети RNN LSTM GRU\n",
    "\n",
    "Практическое задание к уроку 8. Рекуррентные нейронные сети RNN LSTM GRU\n",
    "Данные берем отызывы за лето\n",
    "\n",
    "На вебинаре мы говорили, что долгое время CNN и RNN архитектуры были конурируещими выяснить какая архитектура больше подходит для нашей задачи\n",
    "\n",
    "построить свёрточные архитектуры\n",
    "\n",
    "построить различные архитектуры с RNN\n",
    "\n",
    "построить совместные архитектуры CNN -> RNN или (RNN -> CNN)"
   ]
  },
  {
   "cell_type": "code",
   "execution_count": 2,
   "id": "9768c4e7",
   "metadata": {},
   "outputs": [],
   "source": [
    "import pandas as pd\n",
    "from sklearn.model_selection import train_test_split\n",
    "from string import punctuation\n",
    "from stop_words import get_stop_words\n",
    "from pymorphy2 import MorphAnalyzer\n",
    "import re"
   ]
  },
  {
   "cell_type": "code",
   "execution_count": 3,
   "id": "ad921114",
   "metadata": {},
   "outputs": [],
   "source": [
    "data = pd.read_excel('data.xls')\n",
    "data = data[(data['Rating'] != 3)]\n",
    "data['Rating'] = (data['Rating'] > 3).astype(int)\n",
    "X_train, X_test, y_train, y_test = train_test_split(data['Content'], data['Rating'], test_size=0.33, random_state=42)"
   ]
  },
  {
   "cell_type": "markdown",
   "id": "33b66a5b",
   "metadata": {},
   "source": [
    "#### Подготовим текст, уберем стопслова, пунктуацию, приведем слова к нормальной форме."
   ]
  },
  {
   "cell_type": "code",
   "execution_count": 4,
   "id": "346dc492",
   "metadata": {},
   "outputs": [],
   "source": [
    "sw = set(get_stop_words(\"ru\"))\n",
    "exclude = set(punctuation)\n",
    "morpher = MorphAnalyzer()\n",
    "\n",
    "def preprocess_text(txt):\n",
    "    txt = str(txt)\n",
    "    txt = \"\".join(c for c in txt if c not in exclude)\n",
    "    txt = txt.lower()\n",
    "    txt = re.sub(\"\\sне\", \"не\", txt)\n",
    "    txt = [morpher.parse(word)[0].normal_form for word in txt.split() if word not in sw]\n",
    "    return \" \".join(txt)\n"
   ]
  },
  {
   "cell_type": "code",
   "execution_count": 5,
   "id": "a1af6cad",
   "metadata": {},
   "outputs": [],
   "source": [
    "X_train = X_train.apply(preprocess_text)\n",
    "X_test = X_test.apply(preprocess_text)"
   ]
  },
  {
   "cell_type": "markdown",
   "id": "1b05582d",
   "metadata": {},
   "source": [
    "#### Создадим модели для сравненияRNN, CNN, CNN + RNN,  RNN + CNN, LSTM"
   ]
  },
  {
   "cell_type": "code",
   "execution_count": 6,
   "id": "02d93ad5",
   "metadata": {},
   "outputs": [],
   "source": [
    "import keras\n",
    "from keras.models import Sequential, Model\n",
    "from keras.layers import Dense, Dropout, Activation, Input, Embedding, Conv1D, GlobalMaxPool1D, SimpleRNN, LSTM, GRU, Masking\n",
    "from keras.preprocessing.text import Tokenizer\n",
    "from keras.utils import pad_sequences\n",
    "from keras.callbacks import TensorBoard \n",
    "from keras.losses import BinaryCrossentropy \n",
    "from keras.callbacks import EarlyStopping  "
   ]
  },
  {
   "cell_type": "code",
   "execution_count": 7,
   "id": "90155e86",
   "metadata": {},
   "outputs": [],
   "source": [
    "tokenizer = Tokenizer(num_words=None, \n",
    "                     filters='#$%&()*+-<=>@[\\\\]^_`{|}~\\t\\n',\n",
    "                     lower = False, split = ' ')"
   ]
  },
  {
   "cell_type": "code",
   "execution_count": 8,
   "id": "35d1d9c8",
   "metadata": {},
   "outputs": [],
   "source": [
    "tokenizer.fit_on_texts(X_train)\n"
   ]
  },
  {
   "cell_type": "code",
   "execution_count": 9,
   "id": "9fb56b9f",
   "metadata": {},
   "outputs": [
    {
     "ename": "TypeError",
     "evalue": "'Tokenizer' object is not callable",
     "output_type": "error",
     "traceback": [
      "\u001b[1;31m---------------------------------------------------------------------------\u001b[0m",
      "\u001b[1;31mTypeError\u001b[0m                                 Traceback (most recent call last)",
      "Input \u001b[1;32mIn [9]\u001b[0m, in \u001b[0;36m<cell line: 1>\u001b[1;34m()\u001b[0m\n\u001b[1;32m----> 1\u001b[0m \u001b[43mtokenizer\u001b[49m\u001b[43m(\u001b[49m\u001b[38;5;124;43m'\u001b[39;49m\u001b[38;5;124;43mПривет как дела\u001b[39;49m\u001b[38;5;124;43m'\u001b[39;49m\u001b[43m)\u001b[49m\n",
      "\u001b[1;31mTypeError\u001b[0m: 'Tokenizer' object is not callable"
     ]
    }
   ],
   "source": [
    "tokenizer('Привет как дела')"
   ]
  },
  {
   "cell_type": "code",
   "execution_count": 11,
   "id": "16c27447",
   "metadata": {},
   "outputs": [],
   "source": [
    "\n",
    "tokenizer.fit_on_texts(X_train)\n",
    "\n",
    "sequences_train = tokenizer.texts_to_sequences(X_train)\n",
    "sequences_test = tokenizer.texts_to_sequences(X_test)\n",
    "\n",
    "word_count = len(tokenizer.index_word) + 1\n",
    "training_length = max([len(i.split()) for i in X_train])\n",
    "\n",
    "X_train = pad_sequences(sequences_train, maxlen=training_length)\n",
    "X_test = pad_sequences(sequences_test, maxlen=training_length)\n"
   ]
  },
  {
   "cell_type": "markdown",
   "id": "ae14854c",
   "metadata": {},
   "source": [
    "#### RNN"
   ]
  },
  {
   "cell_type": "code",
   "execution_count": 68,
   "id": "3131b8cd",
   "metadata": {},
   "outputs": [],
   "source": [
    "model = Sequential()\n",
    "\n",
    "model.add(\n",
    "    Embedding(input_dim=word_count,\n",
    "              input_length=training_length,\n",
    "              output_dim=30,\n",
    "              trainable=True,\n",
    "              mask_zero=True))\n",
    "model.add(Masking(mask_value=0.0))\n",
    "model.add(SimpleRNN(64))\n",
    "model.add(Dense(64, activation='relu'))\n",
    "model.add(Dropout(0.5))\n",
    "model.add(Dense(1, activation='sigmoid'))\n",
    "\n",
    "model.compile(\n",
    "    optimizer='adam', loss='binary_crossentropy', metrics=['accuracy'])"
   ]
  },
  {
   "cell_type": "code",
   "execution_count": 32,
   "id": "460721b4",
   "metadata": {},
   "outputs": [
    {
     "name": "stdout",
     "output_type": "stream",
     "text": [
      "Epoch 1/5\n",
      "24/24 [==============================] - 7s 230ms/step - loss: 0.5357 - accuracy: 0.7786 - val_loss: 0.3948 - val_accuracy: 0.8557\n",
      "Epoch 2/5\n",
      "24/24 [==============================] - 5s 215ms/step - loss: 0.3698 - accuracy: 0.8523 - val_loss: 0.3086 - val_accuracy: 0.8678\n",
      "Epoch 3/5\n",
      "24/24 [==============================] - 5s 210ms/step - loss: 0.2795 - accuracy: 0.8865 - val_loss: 0.2473 - val_accuracy: 0.8935\n",
      "Epoch 4/5\n",
      "24/24 [==============================] - 5s 215ms/step - loss: 0.2225 - accuracy: 0.9154 - val_loss: 0.2197 - val_accuracy: 0.9056\n",
      "Epoch 5/5\n",
      "24/24 [==============================] - 5s 212ms/step - loss: 0.1725 - accuracy: 0.9347 - val_loss: 0.2045 - val_accuracy: 0.9109\n"
     ]
    }
   ],
   "source": [
    "early_stopping=EarlyStopping(monitor='val_loss')  \n",
    "\n",
    "\n",
    "history = model.fit(X_train, y_train,\n",
    "                    batch_size=512,\n",
    "                    epochs=5,\n",
    "                    verbose=1,\n",
    "                    validation_split=0.1\n",
    "                    )"
   ]
  },
  {
   "cell_type": "code",
   "execution_count": 33,
   "id": "73ff34f2",
   "metadata": {},
   "outputs": [
    {
     "name": "stdout",
     "output_type": "stream",
     "text": [
      "13/13 [==============================] - 1s 34ms/step\n"
     ]
    }
   ],
   "source": [
    "results = model.predict(X_test, batch_size=512, verbose=1)"
   ]
  },
  {
   "cell_type": "code",
   "execution_count": 20,
   "id": "242a3e48",
   "metadata": {},
   "outputs": [],
   "source": [
    "from sklearn.metrics import f1_score, classification_report, roc_auc_score"
   ]
  },
  {
   "cell_type": "code",
   "execution_count": 34,
   "id": "4ef3bfb9",
   "metadata": {},
   "outputs": [],
   "source": [
    "results_tresh = (results > 0.5) * 1"
   ]
  },
  {
   "cell_type": "code",
   "execution_count": 35,
   "id": "fdf22819",
   "metadata": {},
   "outputs": [
    {
     "data": {
      "text/plain": [
       "array([[1],\n",
       "       [1],\n",
       "       [0],\n",
       "       ...,\n",
       "       [1],\n",
       "       [1],\n",
       "       [1]])"
      ]
     },
     "execution_count": 35,
     "metadata": {},
     "output_type": "execute_result"
    }
   ],
   "source": [
    "results_tresh"
   ]
  },
  {
   "cell_type": "code",
   "execution_count": 22,
   "id": "5fc2c770",
   "metadata": {},
   "outputs": [
    {
     "name": "stdout",
     "output_type": "stream",
     "text": [
      "              precision    recall  f1-score   support\n",
      "\n",
      "           0       0.80      0.51      0.62      1029\n",
      "           1       0.91      0.98      0.94      5488\n",
      "\n",
      "    accuracy                           0.90      6517\n",
      "   macro avg       0.85      0.74      0.78      6517\n",
      "weighted avg       0.89      0.90      0.89      6517\n",
      "\n"
     ]
    }
   ],
   "source": [
    "print(classification_report(y_test, results_tresh))"
   ]
  },
  {
   "cell_type": "markdown",
   "id": "c4b51212",
   "metadata": {},
   "source": [
    "#### CNN"
   ]
  },
  {
   "cell_type": "code",
   "execution_count": 62,
   "id": "3b649f18",
   "metadata": {},
   "outputs": [],
   "source": [
    "model = Sequential()\n",
    "model.add(Embedding(input_dim=word_count, output_dim=30, input_length=training_length, mask_zero=True))\n",
    "model.add(Masking(mask_value=0.0))\n",
    "model.add(Conv1D(128, 3, activation='relu'))\n",
    "model.add(GlobalMaxPool1D())\n",
    "model.add(Dense(64, activation='relu'))\n",
    "model.add(Dropout(0.5))\n",
    "model.add(Dense(1, activation='sigmoid'))\n",
    "model.compile(\n",
    "    optimizer='adam', loss='binary_crossentropy', metrics=['accuracy'])"
   ]
  },
  {
   "cell_type": "code",
   "execution_count": 63,
   "id": "f162a846",
   "metadata": {},
   "outputs": [
    {
     "name": "stdout",
     "output_type": "stream",
     "text": [
      "Epoch 1/5\n",
      "24/24 [==============================] - 1s 23ms/step - loss: 0.5727 - accuracy: 0.8207 - val_loss: 0.4116 - val_accuracy: 0.8557\n",
      "Epoch 2/5\n",
      "24/24 [==============================] - 0s 9ms/step - loss: 0.4136 - accuracy: 0.8485 - val_loss: 0.3612 - val_accuracy: 0.8557\n",
      "Epoch 3/5\n",
      "24/24 [==============================] - 0s 9ms/step - loss: 0.2996 - accuracy: 0.8631 - val_loss: 0.2150 - val_accuracy: 0.9109\n",
      "Epoch 4/5\n",
      "24/24 [==============================] - 0s 9ms/step - loss: 0.1826 - accuracy: 0.9268 - val_loss: 0.1793 - val_accuracy: 0.9252\n",
      "Epoch 5/5\n",
      "24/24 [==============================] - 0s 9ms/step - loss: 0.1406 - accuracy: 0.9463 - val_loss: 0.1754 - val_accuracy: 0.9260\n"
     ]
    }
   ],
   "source": [
    "early_stopping=EarlyStopping(monitor='val_loss')  \n",
    "\n",
    "\n",
    "history = model.fit(X_train, y_train,\n",
    "                    batch_size=512,\n",
    "                    epochs=5,\n",
    "                    verbose=1,\n",
    "                    validation_split=0.1\n",
    "                    )"
   ]
  },
  {
   "cell_type": "code",
   "execution_count": 64,
   "id": "0d50eb57",
   "metadata": {},
   "outputs": [
    {
     "name": "stdout",
     "output_type": "stream",
     "text": [
      "13/13 [==============================] - 0s 2ms/step\n"
     ]
    }
   ],
   "source": [
    "results = model.predict(X_test, batch_size=512, verbose=1)\n"
   ]
  },
  {
   "cell_type": "code",
   "execution_count": 65,
   "id": "abdfce3a",
   "metadata": {},
   "outputs": [],
   "source": [
    "results_tresh = (results > 0.5) * 1\n"
   ]
  },
  {
   "cell_type": "code",
   "execution_count": 66,
   "id": "73bf3aa7",
   "metadata": {},
   "outputs": [
    {
     "name": "stdout",
     "output_type": "stream",
     "text": [
      "              precision    recall  f1-score   support\n",
      "\n",
      "           0       0.77      0.73      0.75      1029\n",
      "           1       0.95      0.96      0.95      5488\n",
      "\n",
      "    accuracy                           0.92      6517\n",
      "   macro avg       0.86      0.85      0.85      6517\n",
      "weighted avg       0.92      0.92      0.92      6517\n",
      "\n"
     ]
    }
   ],
   "source": [
    "print(classification_report(y_test, results_tresh))"
   ]
  },
  {
   "cell_type": "markdown",
   "id": "4d5e25ca",
   "metadata": {},
   "source": [
    "#### CNN + RNN"
   ]
  },
  {
   "cell_type": "code",
   "execution_count": 73,
   "id": "8355bfd0",
   "metadata": {},
   "outputs": [],
   "source": [
    "model = Sequential()\n",
    "model.add(Embedding(input_dim=word_count, output_dim=30, input_length=training_length, mask_zero=True))\n",
    "model.add(Masking(mask_value=0.0))\n",
    "model.add(Conv1D(128, 3, activation='relu'))\n",
    "model.add(SimpleRNN(64))\n",
    "model.add(Dense(64, activation='relu'))\n",
    "model.add(Dropout(0.5))\n",
    "model.add(Dense(1, activation='sigmoid'))\n",
    "model.compile(\n",
    "    optimizer='adam', loss='binary_crossentropy', metrics=['accuracy'])"
   ]
  },
  {
   "cell_type": "code",
   "execution_count": 74,
   "id": "7d5c3270",
   "metadata": {},
   "outputs": [
    {
     "name": "stdout",
     "output_type": "stream",
     "text": [
      "Epoch 1/4\n",
      "24/24 [==============================] - 5s 151ms/step - loss: 0.4593 - accuracy: 0.8424 - val_loss: 0.3687 - val_accuracy: 0.8565\n",
      "Epoch 2/4\n",
      "24/24 [==============================] - 3s 141ms/step - loss: 0.3085 - accuracy: 0.8760 - val_loss: 0.2526 - val_accuracy: 0.8897\n",
      "Epoch 3/4\n",
      "24/24 [==============================] - 3s 127ms/step - loss: 0.2221 - accuracy: 0.9113 - val_loss: 0.2101 - val_accuracy: 0.9184\n",
      "Epoch 4/4\n",
      "24/24 [==============================] - 3s 140ms/step - loss: 0.1645 - accuracy: 0.9347 - val_loss: 0.1863 - val_accuracy: 0.9237\n"
     ]
    }
   ],
   "source": [
    "early_stopping=EarlyStopping(monitor='val_loss')  \n",
    "\n",
    "\n",
    "history = model.fit(X_train, y_train,\n",
    "                    batch_size=512,\n",
    "                    epochs=4,\n",
    "                    verbose=1,\n",
    "                    validation_split=0.1\n",
    "                    )"
   ]
  },
  {
   "cell_type": "code",
   "execution_count": 75,
   "id": "f1480a5c",
   "metadata": {},
   "outputs": [
    {
     "name": "stdout",
     "output_type": "stream",
     "text": [
      "13/13 [==============================] - 1s 31ms/step\n"
     ]
    }
   ],
   "source": [
    "results = model.predict(X_test, batch_size=512, verbose=1)\n"
   ]
  },
  {
   "cell_type": "code",
   "execution_count": 76,
   "id": "a13a8287",
   "metadata": {},
   "outputs": [],
   "source": [
    "results_tresh = (results > 0.5) * 1"
   ]
  },
  {
   "cell_type": "code",
   "execution_count": 77,
   "id": "4cfa1d9e",
   "metadata": {},
   "outputs": [
    {
     "name": "stdout",
     "output_type": "stream",
     "text": [
      "              precision    recall  f1-score   support\n",
      "\n",
      "           0       0.73      0.74      0.73      1029\n",
      "           1       0.95      0.95      0.95      5488\n",
      "\n",
      "    accuracy                           0.91      6517\n",
      "   macro avg       0.84      0.84      0.84      6517\n",
      "weighted avg       0.92      0.91      0.91      6517\n",
      "\n"
     ]
    }
   ],
   "source": [
    "print(classification_report(y_test, results_tresh))"
   ]
  },
  {
   "cell_type": "markdown",
   "id": "e36fa5c3",
   "metadata": {},
   "source": [
    "#### RNN + CNN"
   ]
  },
  {
   "cell_type": "code",
   "execution_count": 82,
   "id": "2d07f20e",
   "metadata": {},
   "outputs": [],
   "source": [
    "model = Sequential()\n",
    "model.add(Embedding(input_dim=word_count, output_dim=30, input_length=training_length, mask_zero=True))\n",
    "model.add(Masking(mask_value=0.0))\n",
    "model.add(SimpleRNN(64, return_sequences=True))\n",
    "model.add(Conv1D(128, 3, activation='relu'))\n",
    "model.add(GlobalMaxPool1D())\n",
    "model.add(Dense(64, activation='relu'))\n",
    "model.add(Dropout(0.5))\n",
    "model.add(Dense(1, activation='sigmoid'))\n",
    "model.compile(\n",
    "    optimizer='adam', loss='binary_crossentropy', metrics=['accuracy'])"
   ]
  },
  {
   "cell_type": "code",
   "execution_count": 83,
   "id": "66556115",
   "metadata": {},
   "outputs": [
    {
     "name": "stdout",
     "output_type": "stream",
     "text": [
      "Epoch 1/4\n",
      "24/24 [==============================] - 7s 232ms/step - loss: 0.4469 - accuracy: 0.8254 - val_loss: 0.3414 - val_accuracy: 0.8814\n",
      "Epoch 2/4\n",
      "24/24 [==============================] - 6s 231ms/step - loss: 0.3157 - accuracy: 0.8751 - val_loss: 0.2662 - val_accuracy: 0.8912\n",
      "Epoch 3/4\n",
      "24/24 [==============================] - 5s 229ms/step - loss: 0.2515 - accuracy: 0.9043 - val_loss: 0.2282 - val_accuracy: 0.9071\n",
      "Epoch 4/4\n",
      "24/24 [==============================] - 6s 232ms/step - loss: 0.1966 - accuracy: 0.9289 - val_loss: 0.2179 - val_accuracy: 0.9162\n"
     ]
    }
   ],
   "source": [
    "early_stopping=EarlyStopping(monitor='val_loss')  \n",
    "\n",
    "\n",
    "history = model.fit(X_train, y_train,\n",
    "                    batch_size=512,\n",
    "                    epochs=4,\n",
    "                    verbose=1,\n",
    "                    validation_split=0.1\n",
    "                    )"
   ]
  },
  {
   "cell_type": "code",
   "execution_count": 84,
   "id": "88bcd08b",
   "metadata": {},
   "outputs": [
    {
     "name": "stdout",
     "output_type": "stream",
     "text": [
      "13/13 [==============================] - 1s 40ms/step\n"
     ]
    }
   ],
   "source": [
    "results = model.predict(X_test, batch_size=512, verbose=1)"
   ]
  },
  {
   "cell_type": "code",
   "execution_count": 85,
   "id": "ad47ec01",
   "metadata": {},
   "outputs": [],
   "source": [
    "results_tresh = (results > 0.5) * 1"
   ]
  },
  {
   "cell_type": "code",
   "execution_count": 86,
   "id": "f5b10486",
   "metadata": {},
   "outputs": [
    {
     "name": "stdout",
     "output_type": "stream",
     "text": [
      "              precision    recall  f1-score   support\n",
      "\n",
      "           0       0.78      0.60      0.68      1029\n",
      "           1       0.93      0.97      0.95      5488\n",
      "\n",
      "    accuracy                           0.91      6517\n",
      "   macro avg       0.85      0.78      0.81      6517\n",
      "weighted avg       0.91      0.91      0.91      6517\n",
      "\n"
     ]
    }
   ],
   "source": [
    "print(classification_report(y_test, results_tresh))"
   ]
  },
  {
   "cell_type": "markdown",
   "id": "73286e78",
   "metadata": {},
   "source": [
    "#### LSTM"
   ]
  },
  {
   "cell_type": "code",
   "execution_count": 87,
   "id": "4cacefa2",
   "metadata": {},
   "outputs": [],
   "source": [
    "model = Sequential()\n",
    "\n",
    "model.add(\n",
    "    Embedding(input_dim=word_count,\n",
    "              input_length=training_length,\n",
    "              output_dim=30,\n",
    "              trainable=True,\n",
    "              mask_zero=True))\n",
    "model.add(Masking(mask_value=0.0))\n",
    "model.add(LSTM(64))\n",
    "model.add(Dense(64, activation='relu'))\n",
    "model.add(Dropout(0.5))\n",
    "model.add(Dense(1, activation='sigmoid'))\n",
    "\n",
    "model.compile(\n",
    "    optimizer='adam', loss='binary_crossentropy', metrics=['accuracy'])"
   ]
  },
  {
   "cell_type": "code",
   "execution_count": 89,
   "id": "dd6e89e7",
   "metadata": {},
   "outputs": [
    {
     "name": "stdout",
     "output_type": "stream",
     "text": [
      "Epoch 1/5\n",
      "24/24 [==============================] - 8s 69ms/step - loss: 0.5549 - accuracy: 0.8261 - val_loss: 0.3879 - val_accuracy: 0.8557\n",
      "Epoch 2/5\n",
      "24/24 [==============================] - 0s 16ms/step - loss: 0.3756 - accuracy: 0.8502 - val_loss: 0.2981 - val_accuracy: 0.8724\n",
      "Epoch 3/5\n",
      "24/24 [==============================] - 0s 15ms/step - loss: 0.2717 - accuracy: 0.8881 - val_loss: 0.2415 - val_accuracy: 0.8935\n",
      "Epoch 4/5\n",
      "24/24 [==============================] - 0s 16ms/step - loss: 0.2118 - accuracy: 0.9188 - val_loss: 0.2052 - val_accuracy: 0.9109\n",
      "Epoch 5/5\n",
      "24/24 [==============================] - 0s 15ms/step - loss: 0.1596 - accuracy: 0.9395 - val_loss: 0.1944 - val_accuracy: 0.9139\n"
     ]
    }
   ],
   "source": [
    "early_stopping=EarlyStopping(monitor='val_loss')  \n",
    "\n",
    "\n",
    "history = model.fit(X_train, y_train,\n",
    "                    batch_size=512,\n",
    "                    epochs=5,\n",
    "                    verbose=1,\n",
    "                    validation_split=0.1\n",
    "                    )"
   ]
  },
  {
   "cell_type": "code",
   "execution_count": 90,
   "id": "36c903a3",
   "metadata": {},
   "outputs": [
    {
     "name": "stdout",
     "output_type": "stream",
     "text": [
      "13/13 [==============================] - 1s 21ms/step\n"
     ]
    }
   ],
   "source": [
    "results = model.predict(X_test, batch_size=512, verbose=1)"
   ]
  },
  {
   "cell_type": "code",
   "execution_count": 91,
   "id": "05afb2e3",
   "metadata": {},
   "outputs": [],
   "source": [
    "results_tresh = (results > 0.5) * 1"
   ]
  },
  {
   "cell_type": "code",
   "execution_count": 92,
   "id": "f45d28af",
   "metadata": {},
   "outputs": [
    {
     "name": "stdout",
     "output_type": "stream",
     "text": [
      "              precision    recall  f1-score   support\n",
      "\n",
      "           0       0.76      0.66      0.70      1029\n",
      "           1       0.94      0.96      0.95      5488\n",
      "\n",
      "    accuracy                           0.91      6517\n",
      "   macro avg       0.85      0.81      0.83      6517\n",
      "weighted avg       0.91      0.91      0.91      6517\n",
      "\n"
     ]
    }
   ],
   "source": [
    "print(classification_report(y_test, results_tresh))"
   ]
  },
  {
   "cell_type": "markdown",
   "id": "1ebdc3f3",
   "metadata": {},
   "source": [
    "### Старался делать максимально похожие сетки, что бы увидеть эффект именно от конкретного слоя. Для решения конкретно нашей задачи, лучше всего подошла сетка на сверточном слое. Рекуррентные сети обучались довольно долго, в сравнению с CNN. На мой взгляд RNN обучалась хуже изза коротких последовательностей, ведь твиты короткие, а после предобработки стали вообще крошечными."
   ]
  },
  {
   "cell_type": "code",
   "execution_count": null,
   "id": "f934878f",
   "metadata": {},
   "outputs": [],
   "source": []
  }
 ],
 "metadata": {
  "kernelspec": {
   "display_name": "Python 3 (ipykernel)",
   "language": "python",
   "name": "python3"
  },
  "language_info": {
   "codemirror_mode": {
    "name": "ipython",
    "version": 3
   },
   "file_extension": ".py",
   "mimetype": "text/x-python",
   "name": "python",
   "nbconvert_exporter": "python",
   "pygments_lexer": "ipython3",
   "version": "3.9.12"
  }
 },
 "nbformat": 4,
 "nbformat_minor": 5
}
