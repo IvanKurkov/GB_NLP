{
 "cells": [
  {
   "cell_type": "code",
   "execution_count": 4,
   "id": "8d18e171",
   "metadata": {},
   "outputs": [],
   "source": [
    "import tensorflow as tf\n",
    "from transformers import AutoTokenizer, AutoModelForCausalLM\n",
    "import torch\n",
    "import pickle\n",
    "import numpy as np\n",
    "import os\n",
    "import time\n",
    "from stuff import generate_text, respond_to_dialog\n",
    "from deeppavlov import build_model, configs\n"
   ]
  },
  {
   "cell_type": "code",
   "execution_count": 6,
   "id": "038553c9",
   "metadata": {},
   "outputs": [],
   "source": [
    "tokenizer_classif = AutoTokenizer.from_pretrained(\"bert-base-cased\")\n",
    "def tokenize_classif(sentence):\n",
    "    tokens = tokenizer_classif.encode_plus(sentence, max_length=20,\n",
    "                                   truncation=True, padding='max_length',\n",
    "                                   add_special_tokens=True, return_attention_mask=True,\n",
    "                                   return_token_type_ids=False, return_tensors='tf')\n",
    "    return tokens['input_ids'], tokens['attention_mask']"
   ]
  },
  {
   "cell_type": "code",
   "execution_count": 3,
   "id": "e343e6ed",
   "metadata": {},
   "outputs": [
    {
     "name": "stderr",
     "output_type": "stream",
     "text": [
      "Special tokens have been added in the vocabulary, make sure the associated word embeddings are fine-tuned or trained.\n"
     ]
    }
   ],
   "source": [
    "tokenizer_boltalka = AutoTokenizer.from_pretrained('sberbank-ai/rugpt3small_based_on_gpt2')\n",
    "model_boltalka = AutoModelForCausalLM.from_pretrained('sberbank-ai/rugpt3small_based_on_gpt2').to(device)"
   ]
  },
  {
   "cell_type": "code",
   "execution_count": null,
   "id": "b9867771",
   "metadata": {},
   "outputs": [],
   "source": [
    "model_stihov = tf.keras.models.load_model('models/generator_stihov.h5')"
   ]
  },
  {
   "cell_type": "code",
   "execution_count": null,
   "id": "099ffc9c",
   "metadata": {},
   "outputs": [],
   "source": [
    "model_context = build_model(configs.squad.squad_ru_bert, download=True)\n",
    "context = open('sh.txt', 'rb').read().decode(encoding='utf-8', errors=\"ignore\")"
   ]
  },
  {
   "cell_type": "code",
   "execution_count": 13,
   "id": "af2d11b4",
   "metadata": {},
   "outputs": [],
   "source": [
    "def answer(cont=0, mytext='привет'):\n",
    "    Xids, Xmask = tokenize_classif(mytext)\n",
    "    classif_text = {'input_ids': Xids, 'attention_mask': Xmask}\n",
    "    result = first_classif_model(mytext)\n",
    "    numclass = np.argmax(result[0])\n",
    "    prob = np.max(result[0])\n",
    "    \n",
    "    try:\n",
    "        if numclass == 0 and prob > 0.8:\n",
    "            answ = generate_text(model_stihov, mytext)\n",
    "        elif numclass == 1 and prob > 0.8:\n",
    "            model_context([context], [mytext])[0]\n",
    "        else:\n",
    "            answ = respond_to_dialog(model_boltalka, tokenizer_boltalka, [mytext])\n",
    "\n",
    "    except:\n",
    "        answ = respond_to_dialog(model_boltalka, tokenizer_boltalka, [mytext])\n",
    "    print(answ)"
   ]
  },
  {
   "cell_type": "code",
   "execution_count": null,
   "id": "afb33fdb",
   "metadata": {},
   "outputs": [],
   "source": [
    "answer(1, 'Где был подрыв?')"
   ]
  }
 ],
 "metadata": {
  "kernelspec": {
   "display_name": "Python 3 (ipykernel)",
   "language": "python",
   "name": "python3"
  },
  "language_info": {
   "codemirror_mode": {
    "name": "ipython",
    "version": 3
   },
   "file_extension": ".py",
   "mimetype": "text/x-python",
   "name": "python",
   "nbconvert_exporter": "python",
   "pygments_lexer": "ipython3",
   "version": "3.9.12"
  }
 },
 "nbformat": 4,
 "nbformat_minor": 5
}
