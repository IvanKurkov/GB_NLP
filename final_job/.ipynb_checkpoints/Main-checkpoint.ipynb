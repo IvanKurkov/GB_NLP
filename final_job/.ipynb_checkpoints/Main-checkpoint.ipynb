{
 "cells": [
  {
   "cell_type": "markdown",
   "id": "18e42041",
   "metadata": {
    "colab": {
     "base_uri": "https://localhost:8080/"
    },
    "id": "Oq2x6qxkS3ja",
    "outputId": "60cf7dcb-82e8-4a94-ce94-91aacca1c66d"
   },
   "source": [
    "!pip install transformers"
   ]
  },
  {
   "cell_type": "markdown",
   "id": "5afd29a5",
   "metadata": {
    "colab": {
     "base_uri": "https://localhost:8080/"
    },
    "id": "1fkmWV1VS99A",
    "outputId": "66d831a0-b334-4dce-adf5-6857a233eed2"
   },
   "source": [
    "!pip install deeppavlov"
   ]
  },
  {
   "cell_type": "code",
   "execution_count": 13,
   "id": "8d18e171",
   "metadata": {
    "id": "8d18e171"
   },
   "outputs": [],
   "source": [
    "import tensorflow as tf\n",
    "from transformers import AutoTokenizer, AutoModelForCausalLM\n",
    "import torch\n",
    "import pickle\n",
    "import numpy as np\n",
    "import os\n",
    "import time\n",
    "from stuff import generate_text, respond_to_dialog\n",
    "from deeppavlov import build_model, configs\n",
    "import transformers"
   ]
  },
  {
   "cell_type": "code",
   "execution_count": 34,
   "id": "038553c9",
   "metadata": {
    "id": "038553c9"
   },
   "outputs": [],
   "source": [
    "tokenizer_classif = AutoTokenizer.from_pretrained(\"bert-base-cased\")\n",
    "def tokenize_classif(sentence):\n",
    "    tokens = tokenizer_classif.encode_plus(sentence, max_length=30,\n",
    "                                   truncation=True, padding='max_length',\n",
    "                                   add_special_tokens=True, return_attention_mask=True,\n",
    "                                   return_token_type_ids=False, return_tensors='tf')\n",
    "    return tokens['input_ids'], tokens['attention_mask']"
   ]
  },
  {
   "cell_type": "code",
   "execution_count": 28,
   "id": "SqYi1MYFStsr",
   "metadata": {
    "colab": {
     "base_uri": "https://localhost:8080/"
    },
    "id": "SqYi1MYFStsr",
    "outputId": "f8939bfb-db12-4700-88f2-2dc8ef1c0be4"
   },
   "outputs": [
    {
     "name": "stderr",
     "output_type": "stream",
     "text": [
      "WARNING:tensorflow:Error in loading the saved optimizer state. As a result, your model is starting with a freshly initialized optimizer.\n"
     ]
    }
   ],
   "source": [
    "first_classif_model = tf.keras.models.load_model('models/first_classif.h5', custom_objects={\"TFBertModel\": transformers.TFBertModel})"
   ]
  },
  {
   "cell_type": "code",
   "execution_count": 27,
   "id": "WjixbLPlZ9Dy",
   "metadata": {
    "id": "WjixbLPlZ9Dy"
   },
   "outputs": [],
   "source": [
    "device = torch.device(\"cuda\")"
   ]
  },
  {
   "cell_type": "code",
   "execution_count": 26,
   "id": "e343e6ed",
   "metadata": {
    "colab": {
     "base_uri": "https://localhost:8080/"
    },
    "id": "e343e6ed",
    "outputId": "0ac0eadc-a9e3-4bca-e2a1-7b94845a3c49"
   },
   "outputs": [
    {
     "name": "stderr",
     "output_type": "stream",
     "text": [
      "Special tokens have been added in the vocabulary, make sure the associated word embeddings are fine-tuned or trained.\n"
     ]
    }
   ],
   "source": [
    "tokenizer_boltalka = AutoTokenizer.from_pretrained('sberbank-ai/rugpt3small_based_on_gpt2')\n",
    "model_boltalka = AutoModelForCausalLM.from_pretrained('sberbank-ai/rugpt3small_based_on_gpt2').to(device)"
   ]
  },
  {
   "cell_type": "code",
   "execution_count": 19,
   "id": "b9867771",
   "metadata": {
    "colab": {
     "base_uri": "https://localhost:8080/"
    },
    "id": "b9867771",
    "outputId": "6052dfe5-cc4f-4eab-b556-ad20b2ef2e43"
   },
   "outputs": [
    {
     "name": "stderr",
     "output_type": "stream",
     "text": [
      "WARNING:tensorflow:No training configuration found in the save file, so the model was *not* compiled. Compile it manually.\n"
     ]
    }
   ],
   "source": [
    "model_stihov = tf.keras.models.load_model('models/generator_stihov.h5')"
   ]
  },
  {
   "cell_type": "code",
   "execution_count": 20,
   "id": "099ffc9c",
   "metadata": {
    "colab": {
     "base_uri": "https://localhost:8080/"
    },
    "id": "099ffc9c",
    "outputId": "0404c302-4b94-40d4-9c75-4672c91093d9"
   },
   "outputs": [
    {
     "name": "stderr",
     "output_type": "stream",
     "text": [
      "2023-03-14 14:00:51.741 INFO in 'deeppavlov.download'['download'] at line 138: Skipped http://files.deeppavlov.ai/v1/squad/squad_ru_torch_bert.tar.gz download because of matching hashes\n",
      "INFO:deeppavlov.download:Skipped http://files.deeppavlov.ai/v1/squad/squad_ru_torch_bert.tar.gz download because of matching hashes\n",
      "Some weights of the model checkpoint at DeepPavlov/rubert-base-cased were not used when initializing BertForQuestionAnswering: ['cls.predictions.decoder.bias', 'cls.predictions.bias', 'cls.seq_relationship.bias', 'cls.seq_relationship.weight', 'cls.predictions.decoder.weight', 'cls.predictions.transform.dense.weight', 'cls.predictions.transform.LayerNorm.bias', 'cls.predictions.transform.LayerNorm.weight', 'cls.predictions.transform.dense.bias']\n",
      "- This IS expected if you are initializing BertForQuestionAnswering from the checkpoint of a model trained on another task or with another architecture (e.g. initializing a BertForSequenceClassification model from a BertForPreTraining model).\n",
      "- This IS NOT expected if you are initializing BertForQuestionAnswering from the checkpoint of a model that you expect to be exactly identical (initializing a BertForSequenceClassification model from a BertForSequenceClassification model).\n",
      "Some weights of BertForQuestionAnswering were not initialized from the model checkpoint at DeepPavlov/rubert-base-cased and are newly initialized: ['qa_outputs.weight', 'qa_outputs.bias']\n",
      "You should probably TRAIN this model on a down-stream task to be able to use it for predictions and inference.\n"
     ]
    }
   ],
   "source": [
    "\n",
    "model_context = build_model(configs.squad.squad_ru_bert, download=True)\n",
    "context = open('sh.txt', 'rb').read().decode(encoding='utf-8', errors=\"ignore\")"
   ]
  },
  {
   "cell_type": "code",
   "execution_count": 47,
   "id": "af2d11b4",
   "metadata": {
    "id": "af2d11b4"
   },
   "outputs": [],
   "source": [
    "def answer(mytext):\n",
    "    Xids, Xmask = tokenize_classif(mytext)\n",
    "    classif_text = {'input_ids': Xids, 'attention_mask': Xmask}\n",
    "    result = first_classif_model(classif_text)\n",
    "    numclass = np.argmax(result[0])\n",
    "    prob = np.max(result[0])\n",
    "    \n",
    "    try:\n",
    "        if numclass == 0 and prob > 0.8:\n",
    "            answ = generate_text(model_stihov, mytext)\n",
    "        elif numclass == 1 and prob > 0.8:\n",
    "            answ = model_context([context], [mytext])[0][0]\n",
    "        else:\n",
    "            answ = respond_to_dialog(model_boltalka, tokenizer_boltalka, [mytext])\n",
    "\n",
    "    except:\n",
    "        answ = respond_to_dialog(model_boltalka, tokenizer_boltalka, [mytext])\n",
    "    print(answ)"
   ]
  },
  {
   "cell_type": "code",
   "execution_count": 52,
   "id": "afb33fdb",
   "metadata": {
    "colab": {
     "base_uri": "https://localhost:8080/"
    },
    "id": "afb33fdb",
    "outputId": "a4543823-37c1-4ead-ccfc-ac326a9cce38"
   },
   "outputs": [
    {
     "name": "stdout",
     "output_type": "stream",
     "text": [
      "Байден этого попросту не понял или проигнорировал\n"
     ]
    }
   ],
   "source": [
    "answer('Что сказал Байден?')"
   ]
  },
  {
   "cell_type": "code",
   "execution_count": 50,
   "id": "9FSVsgtxhzQh",
   "metadata": {
    "colab": {
     "base_uri": "https://localhost:8080/"
    },
    "id": "9FSVsgtxhzQh",
    "outputId": "7121a21e-cb37-42b6-c361-191e07dc4e32"
   },
   "outputs": [
    {
     "name": "stdout",
     "output_type": "stream",
     "text": [
      "Продолжи стих: Я вас любил! таков и ныне я:\r\n",
      "\t\tБеспечный, влюбчивый. Вы встретлов он.\r\n",
      "\t\tНа серебро, на злачное супруты,\r\n",
      "\t\tОбнимет вас, и тихою рукою\r\n",
      "\t\tНа мягкой молоденечи под отзорстие неподогда, гонят от него рукой,\r\n",
      "\t\tПр\n"
     ]
    }
   ],
   "source": [
    "answer('Продолжи стих: Я вас любил')"
   ]
  },
  {
   "cell_type": "code",
   "execution_count": 51,
   "id": "XxTO96M6iBqI",
   "metadata": {
    "colab": {
     "base_uri": "https://localhost:8080/"
    },
    "id": "XxTO96M6iBqI",
    "outputId": "b95bdfda-ae35-4424-9aca-2887ed73ae29"
   },
   "outputs": [
    {
     "name": "stdout",
     "output_type": "stream",
     "text": [
      "из Панама-Сити\n"
     ]
    }
   ],
   "source": [
    "answer('Кто готовил водолазов для подрыва?')"
   ]
  },
  {
   "cell_type": "code",
   "execution_count": 55,
   "id": "3kiaUBDGiVkz",
   "metadata": {
    "colab": {
     "base_uri": "https://localhost:8080/"
    },
    "id": "3kiaUBDGiVkz",
    "outputId": "db68b571-22f7-4b1e-b9f0-b33dbe1d9040"
   },
   "outputs": [
    {
     "name": "stdout",
     "output_type": "stream",
     "text": [
      "Я люблю мороженое.\n"
     ]
    }
   ],
   "source": [
    "answer('Ты любишь кушать мороженное?')"
   ]
  },
  {
   "cell_type": "code",
   "execution_count": 56,
   "id": "hln4BZ20ivOm",
   "metadata": {
    "colab": {
     "base_uri": "https://localhost:8080/"
    },
    "id": "hln4BZ20ivOm",
    "outputId": "979a3420-c894-47ac-9753-c8d289484a54"
   },
   "outputs": [
    {
     "name": "stdout",
     "output_type": "stream",
     "text": [
      "Придумай продолжение: Буря небо мглою кроет покрывала,\r\n",
      "\t\tИ слабо в бледных облаках\r\n",
      "\t\tУвидел их Махров Головку прекрасных мечтаний\r\n",
      "\t\tС коленом пеною поразил\r\n",
      "\t\tВо мне надежду, скорбь и радость\r\n",
      "\t\t[И душу] [бурную]\r\n",
      "\t\t[Готова холодна?\r\n",
      "\t\tУжел\n"
     ]
    }
   ],
   "source": [
    "answer('Придумай продолжение: Буря небо мглою кроет')"
   ]
  }
 ],
 "metadata": {
  "accelerator": "GPU",
  "colab": {
   "provenance": []
  },
  "gpuClass": "standard",
  "kernelspec": {
   "display_name": "Python 3 (ipykernel)",
   "language": "python",
   "name": "python3"
  },
  "language_info": {
   "codemirror_mode": {
    "name": "ipython",
    "version": 3
   },
   "file_extension": ".py",
   "mimetype": "text/x-python",
   "name": "python",
   "nbconvert_exporter": "python",
   "pygments_lexer": "ipython3",
   "version": "3.9.12"
  }
 },
 "nbformat": 4,
 "nbformat_minor": 5
}
