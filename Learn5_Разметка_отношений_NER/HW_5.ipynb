{
 "cells": [
  {
   "cell_type": "markdown",
   "id": "c88cc19c",
   "metadata": {},
   "source": [
    "### Тема «POS-tagger и NER»\n",
    "\n",
    "- Задание 1.\n",
    "Написать теггер на данных с русским языком\n",
    "\n",
    "проверить UnigramTagger, BigramTagger, TrigramTagger и их комбинации\n",
    "\n",
    "написать свой теггер как на занятии, попробовать разные векторайзеры, добавить знание не только букв но и слов\n",
    "\n",
    "сравнить все реализованные методы, сделать выводы\n",
    "\n",
    "- Задание 2.\n",
    "\n",
    "Проверить, насколько хорошо работает NER\n",
    "\n",
    "Данные брать из http://www.labinform.ru/pub/named_entities/\n",
    "\n",
    "проверить NER из nltk/spacy/deeppavlov.\n",
    "\n",
    "написать свой NER, попробовать разные подходы.\n",
    "\n",
    "передаём в сетку токен и его соседей.\n",
    "\n",
    "передаём в сетку только токен.\n",
    "\n",
    "свой вариант.\n",
    "\n",
    "сравнить свои реализованные подходы на качество — вывести precision/recall/f1_score.\n"
   ]
  },
  {
   "cell_type": "code",
   "execution_count": null,
   "id": "ba0f44e3",
   "metadata": {},
   "outputs": [],
   "source": []
  }
 ],
 "metadata": {
  "kernelspec": {
   "display_name": "Python 3",
   "language": "python",
   "name": "python3"
  },
  "language_info": {
   "codemirror_mode": {
    "name": "ipython",
    "version": 3
   },
   "file_extension": ".py",
   "mimetype": "text/x-python",
   "name": "python",
   "nbconvert_exporter": "python",
   "pygments_lexer": "ipython3",
   "version": "3.8.8"
  }
 },
 "nbformat": 4,
 "nbformat_minor": 5
}
