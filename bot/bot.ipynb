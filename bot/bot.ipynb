{
 "cells": [
  {
   "cell_type": "code",
   "execution_count": 3,
   "id": "be0c712a",
   "metadata": {},
   "outputs": [
    {
     "name": "stdout",
     "output_type": "stream",
     "text": [
      "Collecting python-telegram-bot==13.8\n",
      "  Using cached python_telegram_bot-13.8-py3-none-any.whl (495 kB)\n",
      "Requirement already satisfied: cachetools==4.2.2 in c:\\users\\intelit\\anaconda3\\lib\\site-packages (from python-telegram-bot==13.8) (4.2.2)\n",
      "Requirement already satisfied: APScheduler==3.6.3 in c:\\users\\intelit\\anaconda3\\lib\\site-packages (from python-telegram-bot==13.8) (3.6.3)\n",
      "Requirement already satisfied: pytz>=2018.6 in c:\\users\\intelit\\anaconda3\\lib\\site-packages (from python-telegram-bot==13.8) (2021.1)\n",
      "Requirement already satisfied: certifi in c:\\users\\intelit\\anaconda3\\lib\\site-packages (from python-telegram-bot==13.8) (2020.12.5)\n",
      "Requirement already satisfied: tornado>=6.1 in c:\\users\\intelit\\anaconda3\\lib\\site-packages (from python-telegram-bot==13.8) (6.1)\n",
      "Requirement already satisfied: setuptools>=0.7 in c:\\users\\intelit\\anaconda3\\lib\\site-packages (from APScheduler==3.6.3->python-telegram-bot==13.8) (52.0.0.post20210125)\n",
      "Requirement already satisfied: tzlocal>=1.2 in c:\\users\\intelit\\anaconda3\\lib\\site-packages (from APScheduler==3.6.3->python-telegram-bot==13.8) (4.2)\n",
      "Requirement already satisfied: six>=1.4.0 in c:\\users\\intelit\\anaconda3\\lib\\site-packages (from APScheduler==3.6.3->python-telegram-bot==13.8) (1.15.0)\n",
      "Requirement already satisfied: backports.zoneinfo in c:\\users\\intelit\\anaconda3\\lib\\site-packages (from tzlocal>=1.2->APScheduler==3.6.3->python-telegram-bot==13.8) (0.2.1)\n",
      "Requirement already satisfied: tzdata in c:\\users\\intelit\\anaconda3\\lib\\site-packages (from tzlocal>=1.2->APScheduler==3.6.3->python-telegram-bot==13.8) (2022.7)\n",
      "Requirement already satisfied: pytz-deprecation-shim in c:\\users\\intelit\\anaconda3\\lib\\site-packages (from tzlocal>=1.2->APScheduler==3.6.3->python-telegram-bot==13.8) (0.1.0.post0)\n",
      "Installing collected packages: python-telegram-bot\n",
      "Successfully installed python-telegram-bot-13.8\n"
     ]
    }
   ],
   "source": [
    "!pip install python-telegram-bot==13.8"
   ]
  },
  {
   "cell_type": "code",
   "execution_count": 2,
   "id": "b3cb6d61",
   "metadata": {},
   "outputs": [
    {
     "name": "stdout",
     "output_type": "stream",
     "text": [
      "Requirement already satisfied: python-telegram-bot in c:\\users\\intelit\\anaconda3\\lib\\site-packages (13.8)\n",
      "Collecting python-telegram-bot\n",
      "  Using cached python_telegram_bot-20.0-py3-none-any.whl (484 kB)\n",
      "Requirement already satisfied: httpx~=0.23.1 in c:\\users\\intelit\\anaconda3\\lib\\site-packages (from python-telegram-bot) (0.23.3)\n",
      "Requirement already satisfied: certifi in c:\\users\\intelit\\anaconda3\\lib\\site-packages (from httpx~=0.23.1->python-telegram-bot) (2020.12.5)\n",
      "Requirement already satisfied: rfc3986[idna2008]<2,>=1.3 in c:\\users\\intelit\\anaconda3\\lib\\site-packages (from httpx~=0.23.1->python-telegram-bot) (1.5.0)\n",
      "Requirement already satisfied: httpcore<0.17.0,>=0.15.0 in c:\\users\\intelit\\anaconda3\\lib\\site-packages (from httpx~=0.23.1->python-telegram-bot) (0.16.3)\n",
      "Requirement already satisfied: sniffio in c:\\users\\intelit\\anaconda3\\lib\\site-packages (from httpx~=0.23.1->python-telegram-bot) (1.2.0)\n",
      "Requirement already satisfied: h11<0.15,>=0.13 in c:\\users\\intelit\\anaconda3\\lib\\site-packages (from httpcore<0.17.0,>=0.15.0->httpx~=0.23.1->python-telegram-bot) (0.14.0)\n",
      "Requirement already satisfied: anyio<5.0,>=3.0 in c:\\users\\intelit\\anaconda3\\lib\\site-packages (from httpcore<0.17.0,>=0.15.0->httpx~=0.23.1->python-telegram-bot) (3.6.2)\n",
      "Requirement already satisfied: idna>=2.8 in c:\\users\\intelit\\anaconda3\\lib\\site-packages (from anyio<5.0,>=3.0->httpcore<0.17.0,>=0.15.0->httpx~=0.23.1->python-telegram-bot) (2.10)\n",
      "Installing collected packages: python-telegram-bot\n",
      "  Attempting uninstall: python-telegram-bot\n",
      "    Found existing installation: python-telegram-bot 13.8\n",
      "    Uninstalling python-telegram-bot-13.8:\n",
      "      Successfully uninstalled python-telegram-bot-13.8\n",
      "Successfully installed python-telegram-bot-20.0\n",
      "Requirement already satisfied: dialogflow in c:\\users\\intelit\\anaconda3\\lib\\site-packages (2.0.0)\n",
      "Requirement already satisfied: google-api-core[grpc]<2.0.0dev,>=1.14.0 in c:\\users\\intelit\\anaconda3\\lib\\site-packages (from dialogflow) (1.34.0)\n",
      "Requirement already satisfied: requests<3.0.0dev,>=2.18.0 in c:\\users\\intelit\\anaconda3\\lib\\site-packages (from google-api-core[grpc]<2.0.0dev,>=1.14.0->dialogflow) (2.25.1)\n",
      "Requirement already satisfied: protobuf!=3.20.0,!=3.20.1,!=4.21.0,!=4.21.1,!=4.21.2,!=4.21.3,!=4.21.4,!=4.21.5,<4.0.0dev,>=3.19.5 in c:\\users\\intelit\\anaconda3\\lib\\site-packages (from google-api-core[grpc]<2.0.0dev,>=1.14.0->dialogflow) (3.20.3)\n",
      "Requirement already satisfied: googleapis-common-protos<2.0dev,>=1.56.2 in c:\\users\\intelit\\anaconda3\\lib\\site-packages (from google-api-core[grpc]<2.0.0dev,>=1.14.0->dialogflow) (1.58.0)\n",
      "Requirement already satisfied: google-auth<3.0dev,>=1.25.0 in c:\\users\\intelit\\anaconda3\\lib\\site-packages (from google-api-core[grpc]<2.0.0dev,>=1.14.0->dialogflow) (2.16.0)\n",
      "Requirement already satisfied: grpcio-status<2.0dev,>=1.33.2 in c:\\users\\intelit\\anaconda3\\lib\\site-packages (from google-api-core[grpc]<2.0.0dev,>=1.14.0->dialogflow) (1.48.2)\n",
      "Requirement already satisfied: grpcio<2.0dev,>=1.33.2 in c:\\users\\intelit\\anaconda3\\lib\\site-packages (from google-api-core[grpc]<2.0.0dev,>=1.14.0->dialogflow) (1.51.1)\n",
      "Requirement already satisfied: six>=1.9.0 in c:\\users\\intelit\\anaconda3\\lib\\site-packages (from google-auth<3.0dev,>=1.25.0->google-api-core[grpc]<2.0.0dev,>=1.14.0->dialogflow) (1.15.0)\n",
      "Requirement already satisfied: pyasn1-modules>=0.2.1 in c:\\users\\intelit\\anaconda3\\lib\\site-packages (from google-auth<3.0dev,>=1.25.0->google-api-core[grpc]<2.0.0dev,>=1.14.0->dialogflow) (0.2.8)\n",
      "Requirement already satisfied: cachetools<6.0,>=2.0.0 in c:\\users\\intelit\\anaconda3\\lib\\site-packages (from google-auth<3.0dev,>=1.25.0->google-api-core[grpc]<2.0.0dev,>=1.14.0->dialogflow) (4.2.2)\n",
      "Requirement already satisfied: rsa<5,>=3.1.4 in c:\\users\\intelit\\anaconda3\\lib\\site-packages (from google-auth<3.0dev,>=1.25.0->google-api-core[grpc]<2.0.0dev,>=1.14.0->dialogflow) (4.9)\n",
      "Requirement already satisfied: pyasn1<0.5.0,>=0.4.6 in c:\\users\\intelit\\anaconda3\\lib\\site-packages (from pyasn1-modules>=0.2.1->google-auth<3.0dev,>=1.25.0->google-api-core[grpc]<2.0.0dev,>=1.14.0->dialogflow) (0.4.8)\n",
      "Requirement already satisfied: urllib3<1.27,>=1.21.1 in c:\\users\\intelit\\anaconda3\\lib\\site-packages (from requests<3.0.0dev,>=2.18.0->google-api-core[grpc]<2.0.0dev,>=1.14.0->dialogflow) (1.26.4)\n",
      "Requirement already satisfied: certifi>=2017.4.17 in c:\\users\\intelit\\anaconda3\\lib\\site-packages (from requests<3.0.0dev,>=2.18.0->google-api-core[grpc]<2.0.0dev,>=1.14.0->dialogflow) (2020.12.5)\n",
      "Requirement already satisfied: chardet<5,>=3.0.2 in c:\\users\\intelit\\anaconda3\\lib\\site-packages (from requests<3.0.0dev,>=2.18.0->google-api-core[grpc]<2.0.0dev,>=1.14.0->dialogflow) (4.0.0)\n",
      "Requirement already satisfied: idna<3,>=2.5 in c:\\users\\intelit\\anaconda3\\lib\\site-packages (from requests<3.0.0dev,>=2.18.0->google-api-core[grpc]<2.0.0dev,>=1.14.0->dialogflow) (2.10)\n",
      "Requirement already satisfied: google-cloud-dialogflow in c:\\users\\intelit\\anaconda3\\lib\\site-packages (2.18.0)\n",
      "Requirement already satisfied: proto-plus<2.0.0dev,>=1.22.0 in c:\\users\\intelit\\anaconda3\\lib\\site-packages (from google-cloud-dialogflow) (1.22.2)\n",
      "Requirement already satisfied: google-api-core[grpc]!=2.0.*,!=2.1.*,!=2.10.*,!=2.2.*,!=2.3.*,!=2.4.*,!=2.5.*,!=2.6.*,!=2.7.*,!=2.8.*,!=2.9.*,<3.0.0dev,>=1.34.0 in c:\\users\\intelit\\anaconda3\\lib\\site-packages (from google-cloud-dialogflow) (1.34.0)\n",
      "Requirement already satisfied: protobuf!=3.20.0,!=3.20.1,!=4.21.0,!=4.21.1,!=4.21.2,!=4.21.3,!=4.21.4,!=4.21.5,<5.0.0dev,>=3.19.5 in c:\\users\\intelit\\anaconda3\\lib\\site-packages (from google-cloud-dialogflow) (3.20.3)\n",
      "Requirement already satisfied: google-auth<3.0dev,>=1.25.0 in c:\\users\\intelit\\anaconda3\\lib\\site-packages (from google-api-core[grpc]!=2.0.*,!=2.1.*,!=2.10.*,!=2.2.*,!=2.3.*,!=2.4.*,!=2.5.*,!=2.6.*,!=2.7.*,!=2.8.*,!=2.9.*,<3.0.0dev,>=1.34.0->google-cloud-dialogflow) (2.16.0)\n",
      "Requirement already satisfied: requests<3.0.0dev,>=2.18.0 in c:\\users\\intelit\\anaconda3\\lib\\site-packages (from google-api-core[grpc]!=2.0.*,!=2.1.*,!=2.10.*,!=2.2.*,!=2.3.*,!=2.4.*,!=2.5.*,!=2.6.*,!=2.7.*,!=2.8.*,!=2.9.*,<3.0.0dev,>=1.34.0->google-cloud-dialogflow) (2.25.1)\n",
      "Requirement already satisfied: googleapis-common-protos<2.0dev,>=1.56.2 in c:\\users\\intelit\\anaconda3\\lib\\site-packages (from google-api-core[grpc]!=2.0.*,!=2.1.*,!=2.10.*,!=2.2.*,!=2.3.*,!=2.4.*,!=2.5.*,!=2.6.*,!=2.7.*,!=2.8.*,!=2.9.*,<3.0.0dev,>=1.34.0->google-cloud-dialogflow) (1.58.0)\n",
      "Requirement already satisfied: grpcio-status<2.0dev,>=1.33.2 in c:\\users\\intelit\\anaconda3\\lib\\site-packages (from google-api-core[grpc]!=2.0.*,!=2.1.*,!=2.10.*,!=2.2.*,!=2.3.*,!=2.4.*,!=2.5.*,!=2.6.*,!=2.7.*,!=2.8.*,!=2.9.*,<3.0.0dev,>=1.34.0->google-cloud-dialogflow) (1.48.2)\n",
      "Requirement already satisfied: grpcio<2.0dev,>=1.33.2 in c:\\users\\intelit\\anaconda3\\lib\\site-packages (from google-api-core[grpc]!=2.0.*,!=2.1.*,!=2.10.*,!=2.2.*,!=2.3.*,!=2.4.*,!=2.5.*,!=2.6.*,!=2.7.*,!=2.8.*,!=2.9.*,<3.0.0dev,>=1.34.0->google-cloud-dialogflow) (1.51.1)\n",
      "Requirement already satisfied: six>=1.9.0 in c:\\users\\intelit\\anaconda3\\lib\\site-packages (from google-auth<3.0dev,>=1.25.0->google-api-core[grpc]!=2.0.*,!=2.1.*,!=2.10.*,!=2.2.*,!=2.3.*,!=2.4.*,!=2.5.*,!=2.6.*,!=2.7.*,!=2.8.*,!=2.9.*,<3.0.0dev,>=1.34.0->google-cloud-dialogflow) (1.15.0)\n",
      "Requirement already satisfied: pyasn1-modules>=0.2.1 in c:\\users\\intelit\\anaconda3\\lib\\site-packages (from google-auth<3.0dev,>=1.25.0->google-api-core[grpc]!=2.0.*,!=2.1.*,!=2.10.*,!=2.2.*,!=2.3.*,!=2.4.*,!=2.5.*,!=2.6.*,!=2.7.*,!=2.8.*,!=2.9.*,<3.0.0dev,>=1.34.0->google-cloud-dialogflow) (0.2.8)\n",
      "Requirement already satisfied: rsa<5,>=3.1.4 in c:\\users\\intelit\\anaconda3\\lib\\site-packages (from google-auth<3.0dev,>=1.25.0->google-api-core[grpc]!=2.0.*,!=2.1.*,!=2.10.*,!=2.2.*,!=2.3.*,!=2.4.*,!=2.5.*,!=2.6.*,!=2.7.*,!=2.8.*,!=2.9.*,<3.0.0dev,>=1.34.0->google-cloud-dialogflow) (4.9)\n",
      "Requirement already satisfied: cachetools<6.0,>=2.0.0 in c:\\users\\intelit\\anaconda3\\lib\\site-packages (from google-auth<3.0dev,>=1.25.0->google-api-core[grpc]!=2.0.*,!=2.1.*,!=2.10.*,!=2.2.*,!=2.3.*,!=2.4.*,!=2.5.*,!=2.6.*,!=2.7.*,!=2.8.*,!=2.9.*,<3.0.0dev,>=1.34.0->google-cloud-dialogflow) (4.2.2)\n",
      "Requirement already satisfied: pyasn1<0.5.0,>=0.4.6 in c:\\users\\intelit\\anaconda3\\lib\\site-packages (from pyasn1-modules>=0.2.1->google-auth<3.0dev,>=1.25.0->google-api-core[grpc]!=2.0.*,!=2.1.*,!=2.10.*,!=2.2.*,!=2.3.*,!=2.4.*,!=2.5.*,!=2.6.*,!=2.7.*,!=2.8.*,!=2.9.*,<3.0.0dev,>=1.34.0->google-cloud-dialogflow) (0.4.8)\n",
      "Requirement already satisfied: chardet<5,>=3.0.2 in c:\\users\\intelit\\anaconda3\\lib\\site-packages (from requests<3.0.0dev,>=2.18.0->google-api-core[grpc]!=2.0.*,!=2.1.*,!=2.10.*,!=2.2.*,!=2.3.*,!=2.4.*,!=2.5.*,!=2.6.*,!=2.7.*,!=2.8.*,!=2.9.*,<3.0.0dev,>=1.34.0->google-cloud-dialogflow) (4.0.0)\n",
      "Requirement already satisfied: idna<3,>=2.5 in c:\\users\\intelit\\anaconda3\\lib\\site-packages (from requests<3.0.0dev,>=2.18.0->google-api-core[grpc]!=2.0.*,!=2.1.*,!=2.10.*,!=2.2.*,!=2.3.*,!=2.4.*,!=2.5.*,!=2.6.*,!=2.7.*,!=2.8.*,!=2.9.*,<3.0.0dev,>=1.34.0->google-cloud-dialogflow) (2.10)\n",
      "Requirement already satisfied: urllib3<1.27,>=1.21.1 in c:\\users\\intelit\\anaconda3\\lib\\site-packages (from requests<3.0.0dev,>=2.18.0->google-api-core[grpc]!=2.0.*,!=2.1.*,!=2.10.*,!=2.2.*,!=2.3.*,!=2.4.*,!=2.5.*,!=2.6.*,!=2.7.*,!=2.8.*,!=2.9.*,<3.0.0dev,>=1.34.0->google-cloud-dialogflow) (1.26.4)\n",
      "Requirement already satisfied: certifi>=2017.4.17 in c:\\users\\intelit\\anaconda3\\lib\\site-packages (from requests<3.0.0dev,>=2.18.0->google-api-core[grpc]!=2.0.*,!=2.1.*,!=2.10.*,!=2.2.*,!=2.3.*,!=2.4.*,!=2.5.*,!=2.6.*,!=2.7.*,!=2.8.*,!=2.9.*,<3.0.0dev,>=1.34.0->google-cloud-dialogflow) (2020.12.5)\n"
     ]
    }
   ],
   "source": [
    "#!pip install python-telegram-bot --upgrade\n",
    "!pip install dialogflow\n",
    "!pip install google-cloud-dialogflow"
   ]
  },
  {
   "cell_type": "code",
   "execution_count": 4,
   "id": "8505740a",
   "metadata": {},
   "outputs": [],
   "source": [
    "from telegram import Update\n",
    "from telegram.ext import Updater, CommandHandler, MessageHandler, Filters, CallbackContext"
   ]
  },
  {
   "cell_type": "code",
   "execution_count": 5,
   "id": "88627117",
   "metadata": {},
   "outputs": [],
   "source": [
    "# Define a few command handlers. These usually take the two arguments update and\n",
    "# context. Error handlers also receive the raised TelegramError object in error.\n",
    "def start(update: Update, context: CallbackContext):\n",
    "    update.message.reply_text('Hi!')\n",
    "\n",
    "def echo(update: Update, context: CallbackContext):\n",
    "    txt = update.message.text\n",
    "    \n",
    "    update.message.reply_text('Ваше сообщение! ' + update.message.text)"
   ]
  },
  {
   "cell_type": "code",
   "execution_count": 6,
   "id": "6ae72471",
   "metadata": {},
   "outputs": [],
   "source": [
    "updater = Updater(\"5882343145:AAFRA-PEtby2dDbY7WGTj3mciEfbecT7CzU\", use_context=True)\n",
    "dispatcher = updater.dispatcher\n",
    "\n",
    "# on different commands - answer in Telegram\n",
    "dispatcher.add_handler(CommandHandler(\"start\", start))\n",
    "dispatcher.add_handler(MessageHandler(Filters.text & ~Filters.command, echo))\n",
    "\n",
    "# Start the Bot\n",
    "updater.start_polling()\n",
    "updater.idle()"
   ]
  },
  {
   "cell_type": "code",
   "execution_count": null,
   "id": "d3f807a9",
   "metadata": {},
   "outputs": [],
   "source": []
  }
 ],
 "metadata": {
  "kernelspec": {
   "display_name": "Python 3",
   "language": "python",
   "name": "python3"
  },
  "language_info": {
   "codemirror_mode": {
    "name": "ipython",
    "version": 3
   },
   "file_extension": ".py",
   "mimetype": "text/x-python",
   "name": "python",
   "nbconvert_exporter": "python",
   "pygments_lexer": "ipython3",
   "version": "3.8.8"
  }
 },
 "nbformat": 4,
 "nbformat_minor": 5
}
