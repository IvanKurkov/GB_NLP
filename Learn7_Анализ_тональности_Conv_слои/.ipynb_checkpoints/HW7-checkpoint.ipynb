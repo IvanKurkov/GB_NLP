{
 "cells": [
  {
   "cell_type": "markdown",
   "id": "cc7fbe15",
   "metadata": {},
   "source": [
    "**Задание**\n",
    "Берем отызывы за лето (из архива с материалами или предыдущего занятия)\n",
    "\n",
    "1. Учим conv сеть для классификации\n",
    "\n",
    "2. Рассмотреть 2-а варианта сеточек \n",
    "\n",
    "2.1 Инициализировать tf.keras.layers.Embedding предобученными векторами взять к примеру с https://rusvectores.org/ru/\n",
    "\n",
    "2.2 Инициализировать слой tf.keras.layers.Embedding по умолчанию (ну то есть вам ничего не делать с весами)\n",
    "\n",
    " \t\t\t\t\n",
    "Сравнить две архитектуры с предобученными весами и когда tf.keras.layers.Embedding обучается сразу со всей сеточкой, что получилось лучше"
   ]
  },
  {
   "cell_type": "code",
   "execution_count": 15,
   "id": "f40c1525",
   "metadata": {},
   "outputs": [],
   "source": [
    "import pandas as pd\n",
    "from sklearn.model_selection import train_test_split\n",
    "from string import punctuation\n",
    "from stop_words import get_stop_words\n",
    "from pymorphy2 import MorphAnalyzer\n",
    "import re"
   ]
  },
  {
   "cell_type": "code",
   "execution_count": 186,
   "id": "79238f3a",
   "metadata": {},
   "outputs": [],
   "source": [
    "max_words = 10000\n",
    "max_len = 40\n",
    "num_classes = 1\n",
    "EMBEDDING_DIM = 300\n",
    "# Training\n",
    "epochs = 10\n",
    "batch_size = 512\n",
    "print_batch_n = 100"
   ]
  },
  {
   "cell_type": "code",
   "execution_count": 53,
   "id": "6398c0e4",
   "metadata": {},
   "outputs": [],
   "source": [
    "data = pd.read_excel('data.xls')"
   ]
  },
  {
   "cell_type": "code",
   "execution_count": 54,
   "id": "cf5d8575",
   "metadata": {},
   "outputs": [],
   "source": [
    "data = data[(data['Rating'] != 3)]"
   ]
  },
  {
   "cell_type": "code",
   "execution_count": 55,
   "id": "7b151de8",
   "metadata": {},
   "outputs": [],
   "source": [
    "data['Rating'] = (data['Rating'] > 3).astype(int)"
   ]
  },
  {
   "cell_type": "code",
   "execution_count": 56,
   "id": "38da8283",
   "metadata": {},
   "outputs": [],
   "source": [
    "X_train, X_test, y_train, y_test = train_test_split(data['Content'], data['Rating'], test_size=0.33, random_state=42)"
   ]
  },
  {
   "cell_type": "markdown",
   "id": "4c0abac8",
   "metadata": {},
   "source": [
    "#### Подготовим текст, уберем стопслова, пунктуацию, приведем слова к нормальной форме."
   ]
  },
  {
   "cell_type": "code",
   "execution_count": 57,
   "id": "e5daabe4",
   "metadata": {},
   "outputs": [],
   "source": [
    "sw = set(get_stop_words(\"ru\"))\n",
    "exclude = set(punctuation)\n",
    "morpher = MorphAnalyzer()\n",
    "\n",
    "def preprocess_text(txt):\n",
    "    txt = str(txt)\n",
    "    txt = \"\".join(c for c in txt if c not in exclude)\n",
    "    txt = txt.lower()\n",
    "    txt = re.sub(\"\\sне\", \"не\", txt)\n",
    "    txt = [morpher.parse(word)[0].normal_form for word in txt.split() if word not in sw]\n",
    "    return \" \".join(txt)\n"
   ]
  },
  {
   "cell_type": "code",
   "execution_count": 58,
   "id": "707dc18b",
   "metadata": {},
   "outputs": [],
   "source": [
    "X_train = X_train.apply(preprocess_text)"
   ]
  },
  {
   "cell_type": "code",
   "execution_count": 59,
   "id": "63da4974",
   "metadata": {},
   "outputs": [],
   "source": [
    "X_test = X_test.apply(preprocess_text)"
   ]
  },
  {
   "cell_type": "markdown",
   "id": "5948bda5",
   "metadata": {},
   "source": [
    "#### Соберем весть трейн сет в корпус слов (склеим все строки) и разобьем на токены."
   ]
  },
  {
   "cell_type": "code",
   "execution_count": 60,
   "id": "2f46a88a",
   "metadata": {},
   "outputs": [],
   "source": [
    "train_corpus = \" \".join(X_train)\n",
    "train_corpus = train_corpus.lower()"
   ]
  },
  {
   "cell_type": "code",
   "execution_count": 61,
   "id": "f7a94c9a",
   "metadata": {},
   "outputs": [
    {
     "name": "stderr",
     "output_type": "stream",
     "text": [
      "[nltk_data] Downloading package punkt to\n",
      "[nltk_data]     C:\\Users\\user\\AppData\\Roaming\\nltk_data...\n",
      "[nltk_data]   Package punkt is already up-to-date!\n"
     ]
    }
   ],
   "source": [
    "import nltk\n",
    "from nltk.tokenize import word_tokenize\n",
    "nltk.download(\"punkt\")\n",
    "\n",
    "tokens = word_tokenize(train_corpus)"
   ]
  },
  {
   "cell_type": "markdown",
   "id": "caf59cb2",
   "metadata": {},
   "source": [
    "#### Отфильтруем данные и соберём в корпус N наиболее частых токенов (параметр max_world)"
   ]
  },
  {
   "cell_type": "code",
   "execution_count": 62,
   "id": "85695131",
   "metadata": {},
   "outputs": [],
   "source": [
    "tokens_filtered = [word for word in tokens if word.isalnum()]  # Фильтруем, чтобы не было чисел в токенах, т.к. они бесполезны"
   ]
  },
  {
   "cell_type": "code",
   "execution_count": 63,
   "id": "80d12e92",
   "metadata": {},
   "outputs": [],
   "source": [
    "from nltk.probability import FreqDist\n",
    "dist = FreqDist(tokens_filtered)\n",
    "tokens_filtered_top = [pair[0] for pair in dist.most_common(max_words-1)]"
   ]
  },
  {
   "cell_type": "code",
   "execution_count": 64,
   "id": "20342125",
   "metadata": {},
   "outputs": [
    {
     "data": {
      "text/plain": [
       "['приложение',\n",
       " 'удобно',\n",
       " 'работать',\n",
       " 'удобный',\n",
       " 'отлично',\n",
       " 'нравиться',\n",
       " 'отличный',\n",
       " 'хороший',\n",
       " 'супер',\n",
       " 'телефон']"
      ]
     },
     "execution_count": 64,
     "metadata": {},
     "output_type": "execute_result"
    }
   ],
   "source": [
    "tokens_filtered_top[:10]"
   ]
  },
  {
   "cell_type": "code",
   "execution_count": 65,
   "id": "b07da57c",
   "metadata": {},
   "outputs": [],
   "source": [
    "vocabulary = {v: k for k, v in dict(enumerate(tokens_filtered_top, 1)).items()} # Делаем словарь типа слово:индекс слова"
   ]
  },
  {
   "cell_type": "markdown",
   "id": "9186374a",
   "metadata": {},
   "source": [
    "#### Переводим текст в массив нампи, где значение ячейки = индексу слова. Длина строки - параметр max_len"
   ]
  },
  {
   "cell_type": "code",
   "execution_count": 66,
   "id": "516b9a27",
   "metadata": {},
   "outputs": [],
   "source": [
    "import numpy as np\n",
    "\n",
    "def text_to_sequence(text, maxlen):\n",
    "    result = []\n",
    "    tokens = word_tokenize(text.lower())\n",
    "    tokens_filtered = [word for word in tokens if word.isalnum()]\n",
    "    for word in tokens_filtered:\n",
    "        if word in vocabulary:\n",
    "            result.append(vocabulary[word])\n",
    "    padding = [0]*(maxlen-len(result))\n",
    "    return padding + result[-maxlen:]"
   ]
  },
  {
   "cell_type": "code",
   "execution_count": 67,
   "id": "56eb38f8",
   "metadata": {},
   "outputs": [],
   "source": [
    "X_train = np.asarray([text_to_sequence(text, max_len) for text in X_train], dtype=np.int32)\n",
    "X_test = np.asarray([text_to_sequence(text, max_len) for text in X_test], dtype=np.int32)"
   ]
  },
  {
   "cell_type": "code",
   "execution_count": 68,
   "id": "7ee6e3be",
   "metadata": {},
   "outputs": [
    {
     "data": {
      "text/plain": [
       "array([   0,    0,    0,    0,    0,    0,    0,    0,    0,    0,    0,\n",
       "          0,    0,    0,    0,    0,    0,    0,    0,    0,    0,    0,\n",
       "          0,    0,    0,    0,    0,    0,    0,    0,    0,    0,    0,\n",
       "          0,    0,    0,    0,  308,    1, 2206])"
      ]
     },
     "execution_count": 68,
     "metadata": {},
     "output_type": "execute_result"
    }
   ],
   "source": [
    "X_train[4]"
   ]
  },
  {
   "cell_type": "markdown",
   "id": "dcbdd40d",
   "metadata": {},
   "source": [
    "#### Создаем модель на Keras"
   ]
  },
  {
   "cell_type": "code",
   "execution_count": 226,
   "id": "030a7d08",
   "metadata": {},
   "outputs": [],
   "source": [
    "import numpy as np\n",
    "import keras\n",
    "from keras.models import Sequential, Model\n",
    "from keras.layers import Dense, Dropout, Activation, Input, Embedding, Conv1D, GlobalMaxPool1D\n",
    "from keras.preprocessing.text import Tokenizer\n",
    "from keras.utils import pad_sequences\n",
    "from keras.callbacks import TensorBoard \n",
    "from keras.losses import BinaryCrossentropy \n",
    "from keras.callbacks import EarlyStopping  "
   ]
  },
  {
   "cell_type": "code",
   "execution_count": 227,
   "id": "3cee1a4c",
   "metadata": {},
   "outputs": [],
   "source": [
    "model = Sequential()\n",
    "model.add(Embedding(input_dim=max_words, output_dim=EMBEDDING_DIM, input_length=max_len))\n",
    "model.add(Conv1D(128, 3))\n",
    "model.add(Activation(\"relu\"))\n",
    "model.add(GlobalMaxPool1D())\n",
    "model.add(Dense(10))\n",
    "model.add(Activation(\"relu\"))\n",
    "model.add(Dense(num_classes))\n",
    "model.add(Activation('sigmoid'))"
   ]
  },
  {
   "cell_type": "code",
   "execution_count": 228,
   "id": "1d5f7250",
   "metadata": {},
   "outputs": [],
   "source": [
    "model.compile(loss='binary_crossentropy',\n",
    "              optimizer='adam',\n",
    "              metrics=['accuracy'])"
   ]
  },
  {
   "cell_type": "code",
   "execution_count": 229,
   "id": "c4a921cb",
   "metadata": {},
   "outputs": [
    {
     "name": "stdout",
     "output_type": "stream",
     "text": [
      "Epoch 1/10\n",
      "24/24 [==============================] - 1s 31ms/step - loss: 0.5097 - accuracy: 0.8221 - val_loss: 0.3815 - val_accuracy: 0.8565\n",
      "Epoch 2/10\n",
      "24/24 [==============================] - 0s 10ms/step - loss: 0.3241 - accuracy: 0.8670 - val_loss: 0.2390 - val_accuracy: 0.9041\n"
     ]
    }
   ],
   "source": [
    "tensorboard=TensorBoard(log_dir='./logs', write_graph=True, write_images=True)\n",
    "early_stopping=EarlyStopping(monitor='val_loss')  \n",
    "\n",
    "\n",
    "history = model.fit(X_train, y_train,\n",
    "                    batch_size=batch_size,\n",
    "                    epochs=epochs,\n",
    "                    verbose=1,\n",
    "                    validation_split=0.1,\n",
    "                    callbacks=[tensorboard, early_stopping])"
   ]
  },
  {
   "cell_type": "code",
   "execution_count": 230,
   "id": "66ec0c20",
   "metadata": {},
   "outputs": [
    {
     "name": "stdout",
     "output_type": "stream",
     "text": [
      "13/13 [==============================] - 0s 2ms/step\n"
     ]
    }
   ],
   "source": [
    "results = model.predict(X_test, batch_size=batch_size, verbose=1)"
   ]
  },
  {
   "cell_type": "code",
   "execution_count": 231,
   "id": "dcb58e7f",
   "metadata": {},
   "outputs": [],
   "source": [
    "from sklearn.metrics import f1_score, classification_report, roc_auc_score"
   ]
  },
  {
   "cell_type": "code",
   "execution_count": 232,
   "id": "252e6060",
   "metadata": {},
   "outputs": [],
   "source": [
    "results_tresh = (results > 0.5) * 1"
   ]
  },
  {
   "cell_type": "code",
   "execution_count": 233,
   "id": "2bbe89fc",
   "metadata": {},
   "outputs": [
    {
     "name": "stdout",
     "output_type": "stream",
     "text": [
      "              precision    recall  f1-score   support\n",
      "\n",
      "           0       0.78      0.51      0.62      1029\n",
      "           1       0.91      0.97      0.94      5488\n",
      "\n",
      "    accuracy                           0.90      6517\n",
      "   macro avg       0.84      0.74      0.78      6517\n",
      "weighted avg       0.89      0.90      0.89      6517\n",
      "\n"
     ]
    }
   ],
   "source": [
    "print(classification_report(y_test, results_tresh))"
   ]
  },
  {
   "cell_type": "code",
   "execution_count": 234,
   "id": "801a98a1",
   "metadata": {},
   "outputs": [
    {
     "name": "stdout",
     "output_type": "stream",
     "text": [
      "0.945660396603456\n"
     ]
    }
   ],
   "source": [
    "print(roc_auc_score(y_test, results))"
   ]
  },
  {
   "cell_type": "markdown",
   "id": "ba67f4a6",
   "metadata": {},
   "source": [
    "#### Вторая модель. "
   ]
  },
  {
   "cell_type": "code",
   "execution_count": 235,
   "id": "003f84f1",
   "metadata": {},
   "outputs": [],
   "source": [
    "model = Sequential()\n",
    "model.add(Embedding(input_dim=max_words, output_dim=EMBEDDING_DIM, input_length=max_len))\n",
    "model.add(Conv1D(256, 2))\n",
    "model.add(Activation(\"relu\"))\n",
    "model.add(Conv1D(128, 3))\n",
    "model.add(Activation(\"relu\"))\n",
    "model.add(Conv1D(128, 4))\n",
    "model.add(Activation(\"relu\"))\n",
    "model.add(GlobalMaxPool1D())\n",
    "model.add(Dense(100))\n",
    "model.add(Activation(\"relu\"))\n",
    "model.add(Dense(10))\n",
    "model.add(Activation(\"relu\"))\n",
    "model.add(Dense(num_classes))\n",
    "model.add(Activation('sigmoid'))"
   ]
  },
  {
   "cell_type": "code",
   "execution_count": 236,
   "id": "f679f8c8",
   "metadata": {},
   "outputs": [],
   "source": [
    "model.compile(loss='binary_crossentropy',\n",
    "              optimizer='adam',\n",
    "              metrics=['accuracy'])"
   ]
  },
  {
   "cell_type": "code",
   "execution_count": 237,
   "id": "560e0d14",
   "metadata": {},
   "outputs": [
    {
     "name": "stdout",
     "output_type": "stream",
     "text": [
      "Epoch 1/10\n",
      "24/24 [==============================] - 1s 23ms/step - loss: 0.4720 - accuracy: 0.8187 - val_loss: 0.3197 - val_accuracy: 0.8603\n",
      "Epoch 2/10\n",
      "24/24 [==============================] - 0s 14ms/step - loss: 0.2488 - accuracy: 0.8960 - val_loss: 0.2128 - val_accuracy: 0.9086\n"
     ]
    }
   ],
   "source": [
    "tensorboard=TensorBoard(log_dir='./logs', write_graph=True, write_images=True)\n",
    "early_stopping=EarlyStopping(monitor='val_loss')  \n",
    "\n",
    "\n",
    "history = model.fit(X_train, y_train,\n",
    "                    batch_size=batch_size,\n",
    "                    epochs=epochs,\n",
    "                    verbose=1,\n",
    "                    validation_split=0.1,\n",
    "                    callbacks=[tensorboard, early_stopping])"
   ]
  },
  {
   "cell_type": "code",
   "execution_count": 238,
   "id": "f18a00db",
   "metadata": {},
   "outputs": [
    {
     "name": "stdout",
     "output_type": "stream",
     "text": [
      "13/13 [==============================] - 0s 3ms/step\n"
     ]
    }
   ],
   "source": [
    "results = model.predict(X_test, batch_size=batch_size, verbose=1)"
   ]
  },
  {
   "cell_type": "code",
   "execution_count": 239,
   "id": "60837bb9",
   "metadata": {},
   "outputs": [],
   "source": [
    "from sklearn.metrics import f1_score, classification_report, roc_auc_score"
   ]
  },
  {
   "cell_type": "code",
   "execution_count": 240,
   "id": "2e1b8ee6",
   "metadata": {},
   "outputs": [],
   "source": [
    "results_tresh = (results > 0.5) * 1"
   ]
  },
  {
   "cell_type": "code",
   "execution_count": 241,
   "id": "eee9b06a",
   "metadata": {},
   "outputs": [
    {
     "name": "stdout",
     "output_type": "stream",
     "text": [
      "              precision    recall  f1-score   support\n",
      "\n",
      "           0       0.73      0.73      0.73      1029\n",
      "           1       0.95      0.95      0.95      5488\n",
      "\n",
      "    accuracy                           0.91      6517\n",
      "   macro avg       0.84      0.84      0.84      6517\n",
      "weighted avg       0.91      0.91      0.91      6517\n",
      "\n"
     ]
    }
   ],
   "source": [
    "print(classification_report(y_test, results_tresh))"
   ]
  },
  {
   "cell_type": "code",
   "execution_count": 242,
   "id": "95916592",
   "metadata": {},
   "outputs": [
    {
     "name": "stdout",
     "output_type": "stream",
     "text": [
      "0.9382272692500574\n"
     ]
    }
   ],
   "source": [
    "print(roc_auc_score(y_test, results))"
   ]
  },
  {
   "cell_type": "code",
   "execution_count": null,
   "id": "1e496376",
   "metadata": {},
   "outputs": [],
   "source": []
  },
  {
   "cell_type": "markdown",
   "id": "8f4336c8",
   "metadata": {},
   "source": [
    "#### Возьмем предобученный слой ембедингов"
   ]
  },
  {
   "cell_type": "markdown",
   "id": "9a8f3041",
   "metadata": {},
   "source": [
    "model.txt это скаченная с https://rusvectores.org/ru/ матрица эмбедингов на русские слова. Модель обучалась с дополнительными метками частей речи, но т.к. мы изначально их не использовали, то и отсюда удалим, чтоб мы могли использовать наш предобработанный текст."
   ]
  },
  {
   "cell_type": "code",
   "execution_count": 243,
   "id": "79c89d4d",
   "metadata": {},
   "outputs": [],
   "source": [
    "import re"
   ]
  },
  {
   "cell_type": "code",
   "execution_count": 244,
   "id": "495c5f20",
   "metadata": {},
   "outputs": [
    {
     "name": "stdout",
     "output_type": "stream",
     "text": [
      "Found 157543 word vectors.\n"
     ]
    }
   ],
   "source": [
    "embeddings_index = {}\n",
    "with open('model.txt', encoding=\"utf-8\") as f:\n",
    "    for line in f:\n",
    "        values = line.split()\n",
    "        try:\n",
    "            word = re.findall(r'(\\w+)_\\w+', values[0])[0]\n",
    "        except:\n",
    "            word = values[0]\n",
    "        coefs = np.asarray(values[1:], dtype='float32')\n",
    "        embeddings_index[word] = coefs\n",
    "        \n",
    "            \n",
    "\n",
    "print('Found %s word vectors.' % len(embeddings_index))"
   ]
  },
  {
   "cell_type": "markdown",
   "id": "f11dfc28",
   "metadata": {},
   "source": [
    "#### Мы слоставили словарь типа слово:вектор эмбединга из файла модели. Теперь мы берем наш словарь который мы составили на основе наших текстов, и создаем матрицу весов. Т.е. берем слово в нашем словаре и по его индексу в словаре вставляем вектор эмбединга."
   ]
  },
  {
   "cell_type": "code",
   "execution_count": 245,
   "id": "3507c358",
   "metadata": {},
   "outputs": [],
   "source": [
    "embedding_matrix = np.zeros((max_words, EMBEDDING_DIM))\n",
    "for word, i in vocabulary.items():\n",
    "    embedding_vector = embeddings_index.get(word)\n",
    "    if embedding_vector is not None:\n",
    "        # words not found in embedding index will be all-zeros.\n",
    "        embedding_matrix[i] = embedding_vector"
   ]
  },
  {
   "cell_type": "code",
   "execution_count": 246,
   "id": "67d92ece",
   "metadata": {},
   "outputs": [
    {
     "data": {
      "text/plain": [
       "10000"
      ]
     },
     "execution_count": 246,
     "metadata": {},
     "output_type": "execute_result"
    }
   ],
   "source": [
    "len(embedding_matrix)"
   ]
  },
  {
   "cell_type": "markdown",
   "id": "dde6d13b",
   "metadata": {},
   "source": [
    "#### Теперь создаем сетку, и в качестве матрицы весов эмбединга задаем подготовленную матрицу. В первом варианте мы не будем дообучать наш эмбединг, во втором будем дообучать."
   ]
  },
  {
   "cell_type": "code",
   "execution_count": 247,
   "id": "ee1b5f6c",
   "metadata": {},
   "outputs": [],
   "source": [
    "model = Sequential()\n",
    "model.add(Embedding(input_dim=max_words, output_dim=EMBEDDING_DIM, weights=[embedding_matrix], input_length=max_len, trainable=False))\n",
    "model.add(Conv1D(256, 2))\n",
    "model.add(Activation(\"relu\"))\n",
    "model.add(Conv1D(128, 3))\n",
    "model.add(Activation(\"relu\"))\n",
    "model.add(Conv1D(128, 4))\n",
    "model.add(Activation(\"relu\"))\n",
    "model.add(GlobalMaxPool1D())\n",
    "model.add(Dense(100))\n",
    "model.add(Activation(\"relu\"))\n",
    "model.add(Dense(10))\n",
    "model.add(Activation(\"relu\"))\n",
    "model.add(Dense(num_classes))\n",
    "model.add(Activation('sigmoid'))"
   ]
  },
  {
   "cell_type": "code",
   "execution_count": 248,
   "id": "e61f529c",
   "metadata": {},
   "outputs": [],
   "source": [
    "model.compile(loss='binary_crossentropy',\n",
    "              optimizer='adam',\n",
    "              metrics=['accuracy'])"
   ]
  },
  {
   "cell_type": "code",
   "execution_count": 249,
   "id": "d0dbdbfa",
   "metadata": {},
   "outputs": [
    {
     "name": "stdout",
     "output_type": "stream",
     "text": [
      "Epoch 1/10\n",
      "24/24 [==============================] - 2s 25ms/step - loss: 0.3921 - accuracy: 0.8608 - val_loss: 0.2709 - val_accuracy: 0.8829\n",
      "Epoch 2/10\n",
      "24/24 [==============================] - 0s 16ms/step - loss: 0.2318 - accuracy: 0.8996 - val_loss: 0.2246 - val_accuracy: 0.9011\n"
     ]
    }
   ],
   "source": [
    "tensorboard=TensorBoard(log_dir='./logs', write_graph=True, write_images=True)\n",
    "early_stopping=EarlyStopping(monitor='val_loss')  \n",
    "\n",
    "\n",
    "history = model.fit(X_train, y_train,\n",
    "                    batch_size=batch_size,\n",
    "                    epochs=epochs,\n",
    "                    verbose=1,\n",
    "                    validation_split=0.1,\n",
    "                    callbacks=[tensorboard, early_stopping])"
   ]
  },
  {
   "cell_type": "code",
   "execution_count": 250,
   "id": "742e0c47",
   "metadata": {},
   "outputs": [
    {
     "name": "stdout",
     "output_type": "stream",
     "text": [
      "13/13 [==============================] - 0s 5ms/step\n"
     ]
    }
   ],
   "source": [
    "results = model.predict(X_test, batch_size=batch_size, verbose=1)"
   ]
  },
  {
   "cell_type": "code",
   "execution_count": 251,
   "id": "e597487e",
   "metadata": {},
   "outputs": [],
   "source": [
    "from sklearn.metrics import f1_score, classification_report, roc_auc_score"
   ]
  },
  {
   "cell_type": "code",
   "execution_count": 252,
   "id": "28f7a3af",
   "metadata": {},
   "outputs": [],
   "source": [
    "results_tresh = (results > 0.5) * 1"
   ]
  },
  {
   "cell_type": "code",
   "execution_count": 253,
   "id": "63ab0259",
   "metadata": {},
   "outputs": [
    {
     "name": "stdout",
     "output_type": "stream",
     "text": [
      "              precision    recall  f1-score   support\n",
      "\n",
      "           0       0.68      0.71      0.70      1029\n",
      "           1       0.95      0.94      0.94      5488\n",
      "\n",
      "    accuracy                           0.90      6517\n",
      "   macro avg       0.81      0.82      0.82      6517\n",
      "weighted avg       0.90      0.90      0.90      6517\n",
      "\n"
     ]
    }
   ],
   "source": [
    "print(classification_report(y_test, results_tresh))"
   ]
  },
  {
   "cell_type": "code",
   "execution_count": 254,
   "id": "89a3a8ea",
   "metadata": {},
   "outputs": [
    {
     "name": "stdout",
     "output_type": "stream",
     "text": [
      "0.9386883866416204\n"
     ]
    }
   ],
   "source": [
    "print(roc_auc_score(y_test, results))"
   ]
  },
  {
   "cell_type": "markdown",
   "id": "9e7e5724",
   "metadata": {},
   "source": [
    "#### Второй вариант"
   ]
  },
  {
   "cell_type": "code",
   "execution_count": 255,
   "id": "fef253b5",
   "metadata": {},
   "outputs": [],
   "source": [
    "model = Sequential()\n",
    "model.add(Embedding(input_dim=max_words, output_dim=EMBEDDING_DIM, weights=[embedding_matrix], input_length=max_len))\n",
    "model.add(Conv1D(256, 2))\n",
    "model.add(Activation(\"relu\"))\n",
    "model.add(Conv1D(128, 3))\n",
    "model.add(Activation(\"relu\"))\n",
    "model.add(Conv1D(128, 4))\n",
    "model.add(Activation(\"relu\"))\n",
    "model.add(GlobalMaxPool1D())\n",
    "model.add(Dense(100))\n",
    "model.add(Activation(\"relu\"))\n",
    "model.add(Dense(10))\n",
    "model.add(Activation(\"relu\"))\n",
    "model.add(Dense(num_classes))\n",
    "model.add(Activation('sigmoid'))"
   ]
  },
  {
   "cell_type": "code",
   "execution_count": 256,
   "id": "11771533",
   "metadata": {},
   "outputs": [],
   "source": [
    "model.compile(loss='binary_crossentropy',\n",
    "              optimizer='adam',\n",
    "              metrics=['accuracy'])"
   ]
  },
  {
   "cell_type": "code",
   "execution_count": 257,
   "id": "e79e6b76",
   "metadata": {},
   "outputs": [
    {
     "name": "stdout",
     "output_type": "stream",
     "text": [
      "Epoch 1/10\n",
      "24/24 [==============================] - 1s 27ms/step - loss: 0.3898 - accuracy: 0.8446 - val_loss: 0.2706 - val_accuracy: 0.8557\n",
      "Epoch 2/10\n",
      "24/24 [==============================] - 0s 20ms/step - loss: 0.2346 - accuracy: 0.8489 - val_loss: 0.2155 - val_accuracy: 0.8625\n"
     ]
    }
   ],
   "source": [
    "tensorboard=TensorBoard(log_dir='./logs', write_graph=True, write_images=True)\n",
    "early_stopping=EarlyStopping(monitor='val_loss')  \n",
    "\n",
    "\n",
    "history = model.fit(X_train, y_train,\n",
    "                    batch_size=batch_size,\n",
    "                    epochs=epochs,\n",
    "                    verbose=1,\n",
    "                    validation_split=0.1,\n",
    "                    callbacks=[tensorboard, early_stopping])"
   ]
  },
  {
   "cell_type": "code",
   "execution_count": 258,
   "id": "9bb2629a",
   "metadata": {},
   "outputs": [
    {
     "name": "stdout",
     "output_type": "stream",
     "text": [
      "13/13 [==============================] - 0s 4ms/step\n"
     ]
    }
   ],
   "source": [
    "results = model.predict(X_test, batch_size=batch_size, verbose=1)"
   ]
  },
  {
   "cell_type": "code",
   "execution_count": 259,
   "id": "c347fe75",
   "metadata": {},
   "outputs": [],
   "source": [
    "from sklearn.metrics import f1_score, classification_report, roc_auc_score"
   ]
  },
  {
   "cell_type": "code",
   "execution_count": 260,
   "id": "6e465d03",
   "metadata": {},
   "outputs": [],
   "source": [
    "results_tresh = (results > 0.5) * 1"
   ]
  },
  {
   "cell_type": "code",
   "execution_count": 261,
   "id": "6cfb3039",
   "metadata": {},
   "outputs": [
    {
     "name": "stdout",
     "output_type": "stream",
     "text": [
      "              precision    recall  f1-score   support\n",
      "\n",
      "           0       0.64      0.21      0.32      1029\n",
      "           1       0.87      0.98      0.92      5488\n",
      "\n",
      "    accuracy                           0.86      6517\n",
      "   macro avg       0.76      0.59      0.62      6517\n",
      "weighted avg       0.83      0.86      0.83      6517\n",
      "\n"
     ]
    }
   ],
   "source": [
    "print(classification_report(y_test, results_tresh))"
   ]
  },
  {
   "cell_type": "code",
   "execution_count": 262,
   "id": "014067a3",
   "metadata": {},
   "outputs": [
    {
     "name": "stdout",
     "output_type": "stream",
     "text": [
      "0.9381632546812978\n"
     ]
    }
   ],
   "source": [
    "print(roc_auc_score(y_test, results))"
   ]
  },
  {
   "cell_type": "markdown",
   "id": "ff1daa42",
   "metadata": {},
   "source": [
    "#### В Целом если не дообучать эмбединг, то лучше результат на f1 score, да и вообще лучший результат. Если включить дообучение, то ввиду дисбаланса классов, модель работает хуже."
   ]
  },
  {
   "cell_type": "code",
   "execution_count": null,
   "id": "0d0d2196",
   "metadata": {},
   "outputs": [],
   "source": []
  }
 ],
 "metadata": {
  "kernelspec": {
   "display_name": "Python 3 (ipykernel)",
   "language": "python",
   "name": "python3"
  },
  "language_info": {
   "codemirror_mode": {
    "name": "ipython",
    "version": 3
   },
   "file_extension": ".py",
   "mimetype": "text/x-python",
   "name": "python",
   "nbconvert_exporter": "python",
   "pygments_lexer": "ipython3",
   "version": "3.9.12"
  }
 },
 "nbformat": 4,
 "nbformat_minor": 5
}
