{
 "cells": [
  {
   "cell_type": "markdown",
   "id": "8d3b1dd4",
   "metadata": {},
   "source": [
    "### Тема “Предобработка текста с помощью Python”\n",
    "\n",
    "Осуществим предобработку данных с Твиттера, чтобы очищенные данные в дальнейшем\n",
    "использовать для задачи классификации. Данный датасет содержит негативные (label = 1)\n",
    "и нейтральные (label = 0) высказывания. Для работы объединим train_df и test_df.\n",
    "\n",
    "Задания:\n",
    "\n",
    "1. Удалим @user из всех твитов с помощью паттерна \"@[\\w]*\". Для этого создадим\n",
    "функцию:\n",
    " ● для того, чтобы найти все вхождения паттерна в тексте, необходимо\n",
    "использовать re.findall(pattern, input_txt)\n",
    " ● для для замены @user на пробел, необходимо использовать re.sub()\n",
    " \n",
    "2. Изменим регистр твитов на нижний с помощью .lower().\n",
    "\n",
    "3. Заменим сокращения с апострофами (пример: ain't, can't) на пробел, используя\n",
    "apostrophe_dict. Для этого необходимо сделать функцию: для каждого слова в\n",
    "тексте проверить (for word in text.split()), если слово есть в словаре apostrophe_dict в\n",
    "качестве ключа (сокращенного слова), то заменить ключ на значение (полную\n",
    "версию слова).\n",
    "\n",
    "4. Заменим сокращения на их полные формы, используя short_word_dict. Для этого\n",
    "воспользуемся функцией, используемой в предыдущем пункте.\n",
    "\n",
    "5. Заменим эмотиконы (пример: \":)\" = \"happy\") на пробелы, используя emoticon_dict.\n",
    "Для этого воспользуемся функцией, используемой в предыдущем пункте.\n",
    "\n",
    "6. Заменим пунктуацию на пробелы, используя re.sub() и паттерн r'[^\\w\\s]'.\n",
    "\n",
    "7. Заменим спец. символы на пробелы, используя re.sub() и паттерн r'[^a-zA-Z0-9]'.\n",
    "\n",
    "8. Заменим числа на пробелы, используя re.sub() и паттерн r'[^a-zA-Z]'.\n",
    "\n",
    "9. Удалим из текста слова длиной в 1 символ, используя ' '.join([w for w in x.split() if\n",
    "len(w)>1]).\n",
    "\n",
    "10. Поделим твиты на токены с помощью nltk.tokenize.word_tokenize, создав новый\n",
    "столбец 'tweet_token'.\n",
    "\n",
    "11. Удалим стоп-слова из токенов, используя nltk.corpus.stopwords. Создадим столбец\n",
    "'tweet_token_filtered' без стоп-слов.\n",
    "\n",
    "12. Применим стемминг к токенам с помощью nltk.stem.PorterStemmer. Создадим\n",
    "столбец 'tweet_stemmed' после применения стемминга.\n",
    "\n",
    "13. Применим лемматизацию к токенам с помощью\n",
    "nltk.stem.wordnet.WordNetLemmatizer. Создадим столбец 'tweet_lemmatized' после\n",
    "применения лемматизации.\n",
    "\n",
    "14. Сохраним результат предобработки в pickle-файл"
   ]
  },
  {
   "cell_type": "code",
   "execution_count": 147,
   "id": "956469b6",
   "metadata": {},
   "outputs": [],
   "source": [
    "import pandas as pd\n",
    "import re\n",
    "from nltk.tokenize import word_tokenize\n",
    "from nltk.corpus import stopwords\n",
    "from nltk.stem import PorterStemmer\n",
    "from nltk.stem.wordnet import WordNetLemmatizer"
   ]
  },
  {
   "cell_type": "code",
   "execution_count": 155,
   "id": "912a269c",
   "metadata": {},
   "outputs": [
    {
     "name": "stderr",
     "output_type": "stream",
     "text": [
      "[nltk_data] Downloading package punkt to\n",
      "[nltk_data]     C:\\Users\\user\\AppData\\Roaming\\nltk_data...\n",
      "[nltk_data]   Package punkt is already up-to-date!\n",
      "[nltk_data] Downloading package wordnet to\n",
      "[nltk_data]     C:\\Users\\user\\AppData\\Roaming\\nltk_data...\n",
      "[nltk_data]   Package wordnet is already up-to-date!\n",
      "[nltk_data] Downloading package stopwords to\n",
      "[nltk_data]     C:\\Users\\user\\AppData\\Roaming\\nltk_data...\n",
      "[nltk_data]   Package stopwords is already up-to-date!\n",
      "[nltk_data] Downloading package omw-1.4 to\n",
      "[nltk_data]     C:\\Users\\user\\AppData\\Roaming\\nltk_data...\n"
     ]
    },
    {
     "data": {
      "text/plain": [
       "True"
      ]
     },
     "execution_count": 155,
     "metadata": {},
     "output_type": "execute_result"
    }
   ],
   "source": [
    "nltk.download('punkt')\n",
    "nltk.download('wordnet')\n",
    "nltk.download('stopwords')\n",
    "nltk.download('omw-1.4')"
   ]
  },
  {
   "cell_type": "code",
   "execution_count": 3,
   "id": "8239d16e",
   "metadata": {},
   "outputs": [],
   "source": [
    "TRAIN_PATH = 'train_tweets.csv'\n",
    "TEST_PATH = 'test_tweets.csv'"
   ]
  },
  {
   "cell_type": "code",
   "execution_count": 7,
   "id": "c0014836",
   "metadata": {},
   "outputs": [],
   "source": [
    "train_data = pd.read_csv(TRAIN_PATH, index_col= 'id')"
   ]
  },
  {
   "cell_type": "code",
   "execution_count": 8,
   "id": "3a6b43ce",
   "metadata": {},
   "outputs": [
    {
     "data": {
      "text/html": [
       "<div>\n",
       "<style scoped>\n",
       "    .dataframe tbody tr th:only-of-type {\n",
       "        vertical-align: middle;\n",
       "    }\n",
       "\n",
       "    .dataframe tbody tr th {\n",
       "        vertical-align: top;\n",
       "    }\n",
       "\n",
       "    .dataframe thead th {\n",
       "        text-align: right;\n",
       "    }\n",
       "</style>\n",
       "<table border=\"1\" class=\"dataframe\">\n",
       "  <thead>\n",
       "    <tr style=\"text-align: right;\">\n",
       "      <th></th>\n",
       "      <th>label</th>\n",
       "      <th>tweet</th>\n",
       "    </tr>\n",
       "    <tr>\n",
       "      <th>id</th>\n",
       "      <th></th>\n",
       "      <th></th>\n",
       "    </tr>\n",
       "  </thead>\n",
       "  <tbody>\n",
       "    <tr>\n",
       "      <th>1</th>\n",
       "      <td>0</td>\n",
       "      <td>@user when a father is dysfunctional and is s...</td>\n",
       "    </tr>\n",
       "    <tr>\n",
       "      <th>2</th>\n",
       "      <td>0</td>\n",
       "      <td>@user @user thanks for #lyft credit i can't us...</td>\n",
       "    </tr>\n",
       "    <tr>\n",
       "      <th>3</th>\n",
       "      <td>0</td>\n",
       "      <td>bihday your majesty</td>\n",
       "    </tr>\n",
       "    <tr>\n",
       "      <th>4</th>\n",
       "      <td>0</td>\n",
       "      <td>#model   i love u take with u all the time in ...</td>\n",
       "    </tr>\n",
       "    <tr>\n",
       "      <th>5</th>\n",
       "      <td>0</td>\n",
       "      <td>factsguide: society now    #motivation</td>\n",
       "    </tr>\n",
       "  </tbody>\n",
       "</table>\n",
       "</div>"
      ],
      "text/plain": [
       "    label                                              tweet\n",
       "id                                                          \n",
       "1       0   @user when a father is dysfunctional and is s...\n",
       "2       0  @user @user thanks for #lyft credit i can't us...\n",
       "3       0                                bihday your majesty\n",
       "4       0  #model   i love u take with u all the time in ...\n",
       "5       0             factsguide: society now    #motivation"
      ]
     },
     "execution_count": 8,
     "metadata": {},
     "output_type": "execute_result"
    }
   ],
   "source": [
    "train_data.head()"
   ]
  },
  {
   "cell_type": "code",
   "execution_count": 24,
   "id": "dabcce8a",
   "metadata": {},
   "outputs": [
    {
     "name": "stdout",
     "output_type": "stream",
     "text": [
      "@user @user thanks for #lyft credit i can't use cause they don't offer wheelchair vans in pdx.    #disapointed #getthanked\n",
      "  thanks for #lyft credit i can't use cause they don't offer wheelchair vans in pdx.    #disapointed #getthanked\n"
     ]
    }
   ],
   "source": [
    "print(train_data['tweet'].iloc[1])\n",
    "print(re.sub('@[\\w]*','', train_data['tweet'].iloc[1]))"
   ]
  },
  {
   "cell_type": "code",
   "execution_count": 136,
   "id": "2c524384",
   "metadata": {},
   "outputs": [],
   "source": [
    "def del_stop_words(x, stop_set):\n",
    "    x = [w for w in x if w not in stop_set]\n",
    "    return x"
   ]
  },
  {
   "cell_type": "code",
   "execution_count": 144,
   "id": "99a2101e",
   "metadata": {},
   "outputs": [],
   "source": [
    "def stemming(x, stemmer):\n",
    "    x = [stemmer.stem(w) for w in x]\n",
    "    return x\n",
    "    "
   ]
  },
  {
   "cell_type": "code",
   "execution_count": 148,
   "id": "4c578198",
   "metadata": {},
   "outputs": [],
   "source": [
    "def lemmatising(x, lemmatiser):\n",
    "    x = [lemmatiser.lemmatize(w) for w in x]\n",
    "    return x\n",
    "    "
   ]
  },
  {
   "cell_type": "code",
   "execution_count": 104,
   "id": "4674e034",
   "metadata": {},
   "outputs": [],
   "source": [
    "def replace_apos(y, apostrophe_dict):\n",
    "    y = y.split()\n",
    "    for n, word in enumerate(y):\n",
    "        if word in apostrophe_dict:\n",
    "            del y[n]\n",
    "            y = y[:n] + apostrophe_dict[word].split() + y[n:]\n",
    "    return \" \".join(y)"
   ]
  },
  {
   "cell_type": "code",
   "execution_count": 76,
   "id": "1da8055a",
   "metadata": {},
   "outputs": [],
   "source": [
    "def replace(y, my_dict):    \n",
    "    for n, word in enumerate(y):\n",
    "        if word in my_dict:\n",
    "            y[n] = my_dict[word]            \n",
    "    return y"
   ]
  },
  {
   "cell_type": "code",
   "execution_count": 112,
   "id": "fb90c201",
   "metadata": {},
   "outputs": [],
   "source": [
    "def preprocess(x, apostrophe_dict, short_word_dict, emoticon_dict):\n",
    "    x = re.sub('@[\\w]*',' ', x)\n",
    "    x = replace_apos(x, apostrophe_dict)\n",
    "    x = re.sub('[^\\w\\s]',' ', x)\n",
    "    x = re.sub('[^a-zA-Z0-9]',' ', x)\n",
    "    x = re.sub('[^a-zA-Z]',' ', x)\n",
    "    x = x.lower()\n",
    "    x = x.split()    \n",
    "    x = replace(x, short_word_dict)\n",
    "    x = replace(x, emoticon_dict)\n",
    "    x = ' '.join([w for w in x if len(w)>1])\n",
    "    return x"
   ]
  },
  {
   "cell_type": "code",
   "execution_count": 114,
   "id": "151b820b",
   "metadata": {},
   "outputs": [],
   "source": [
    "apostrophe_dict = {\"can't\": 'can not'}\n",
    "short_word_dict = {\"pdx\" : \"paradox\"}\n",
    "emoticon_dict = {\":)\" : \"happy\"}"
   ]
  },
  {
   "cell_type": "code",
   "execution_count": 115,
   "id": "d5fc29b1",
   "metadata": {},
   "outputs": [
    {
     "data": {
      "text/plain": [
       "'thanks for lyft credit can not use cause they don offer wheelchair vans in paradox disapointed getthanked'"
      ]
     },
     "execution_count": 115,
     "metadata": {},
     "output_type": "execute_result"
    }
   ],
   "source": [
    "preprocess(train_data['tweet'].iloc[1],  apostrophe_dict, short_word_dict, emoticon_dict)"
   ]
  },
  {
   "cell_type": "code",
   "execution_count": 117,
   "id": "302af205",
   "metadata": {},
   "outputs": [],
   "source": [
    "train_data['tweet'] = train_data['tweet'].apply(lambda x: preprocess(x,  apostrophe_dict, short_word_dict, emoticon_dict))"
   ]
  },
  {
   "cell_type": "code",
   "execution_count": 129,
   "id": "7d226ead",
   "metadata": {},
   "outputs": [],
   "source": [
    "train_data['tweet_token'] = train_data['tweet'].apply(lambda x: word_tokenize(x))"
   ]
  },
  {
   "cell_type": "code",
   "execution_count": 134,
   "id": "8cba8617",
   "metadata": {},
   "outputs": [],
   "source": [
    "stop_words = set(stopwords.words(\"english\"))"
   ]
  },
  {
   "cell_type": "code",
   "execution_count": 137,
   "id": "1fce7e27",
   "metadata": {},
   "outputs": [],
   "source": [
    "train_data['tweet_token_filtered'] = train_data['tweet_token'].apply(lambda x: del_stop_words(x, stop_words) )"
   ]
  },
  {
   "cell_type": "code",
   "execution_count": 141,
   "id": "3ccda803",
   "metadata": {},
   "outputs": [],
   "source": [
    "stemmer = PorterStemmer()"
   ]
  },
  {
   "cell_type": "code",
   "execution_count": 145,
   "id": "b8cbafd8",
   "metadata": {},
   "outputs": [],
   "source": [
    "train_data['tweet_stemmed'] = train_data['tweet_token_filtered'].apply(lambda x: stemming(x, stemmer) )"
   ]
  },
  {
   "cell_type": "code",
   "execution_count": 149,
   "id": "10f08eb1",
   "metadata": {},
   "outputs": [],
   "source": [
    "lemmatiser = WordNetLemmatizer()"
   ]
  },
  {
   "cell_type": "code",
   "execution_count": 156,
   "id": "7f0545c6",
   "metadata": {},
   "outputs": [],
   "source": [
    "train_data['tweet_lemmatized'] = train_data['tweet_token_filtered'].apply(lambda x: lemmatising(x, lemmatiser) )"
   ]
  },
  {
   "cell_type": "code",
   "execution_count": 157,
   "id": "0cc3e945",
   "metadata": {},
   "outputs": [
    {
     "data": {
      "text/html": [
       "<div>\n",
       "<style scoped>\n",
       "    .dataframe tbody tr th:only-of-type {\n",
       "        vertical-align: middle;\n",
       "    }\n",
       "\n",
       "    .dataframe tbody tr th {\n",
       "        vertical-align: top;\n",
       "    }\n",
       "\n",
       "    .dataframe thead th {\n",
       "        text-align: right;\n",
       "    }\n",
       "</style>\n",
       "<table border=\"1\" class=\"dataframe\">\n",
       "  <thead>\n",
       "    <tr style=\"text-align: right;\">\n",
       "      <th></th>\n",
       "      <th>label</th>\n",
       "      <th>tweet</th>\n",
       "      <th>tweet_token</th>\n",
       "      <th>tweet_token_filtered</th>\n",
       "      <th>tweet_stemmed</th>\n",
       "      <th>tweet_lemmatized</th>\n",
       "    </tr>\n",
       "    <tr>\n",
       "      <th>id</th>\n",
       "      <th></th>\n",
       "      <th></th>\n",
       "      <th></th>\n",
       "      <th></th>\n",
       "      <th></th>\n",
       "      <th></th>\n",
       "    </tr>\n",
       "  </thead>\n",
       "  <tbody>\n",
       "    <tr>\n",
       "      <th>1</th>\n",
       "      <td>0</td>\n",
       "      <td>when father is dysfunctional and is so selfish...</td>\n",
       "      <td>[when, father, is, dysfunctional, and, is, so,...</td>\n",
       "      <td>[father, dysfunctional, selfish, drags, kids, ...</td>\n",
       "      <td>[father, dysfunct, selfish, drag, kid, dysfunc...</td>\n",
       "      <td>[father, dysfunctional, selfish, drag, kid, dy...</td>\n",
       "    </tr>\n",
       "    <tr>\n",
       "      <th>2</th>\n",
       "      <td>0</td>\n",
       "      <td>thanks for lyft credit can not use cause they ...</td>\n",
       "      <td>[thanks, for, lyft, credit, can, not, use, cau...</td>\n",
       "      <td>[thanks, lyft, credit, use, cause, offer, whee...</td>\n",
       "      <td>[thank, lyft, credit, use, caus, offer, wheelc...</td>\n",
       "      <td>[thanks, lyft, credit, use, cause, offer, whee...</td>\n",
       "    </tr>\n",
       "    <tr>\n",
       "      <th>3</th>\n",
       "      <td>0</td>\n",
       "      <td>bihday your majesty</td>\n",
       "      <td>[bihday, your, majesty]</td>\n",
       "      <td>[bihday, majesty]</td>\n",
       "      <td>[bihday, majesti]</td>\n",
       "      <td>[bihday, majesty]</td>\n",
       "    </tr>\n",
       "    <tr>\n",
       "      <th>4</th>\n",
       "      <td>0</td>\n",
       "      <td>model love take with all the time in ur</td>\n",
       "      <td>[model, love, take, with, all, the, time, in, ur]</td>\n",
       "      <td>[model, love, take, time, ur]</td>\n",
       "      <td>[model, love, take, time, ur]</td>\n",
       "      <td>[model, love, take, time, ur]</td>\n",
       "    </tr>\n",
       "    <tr>\n",
       "      <th>5</th>\n",
       "      <td>0</td>\n",
       "      <td>factsguide society now motivation</td>\n",
       "      <td>[factsguide, society, now, motivation]</td>\n",
       "      <td>[factsguide, society, motivation]</td>\n",
       "      <td>[factsguid, societi, motiv]</td>\n",
       "      <td>[factsguide, society, motivation]</td>\n",
       "    </tr>\n",
       "    <tr>\n",
       "      <th>...</th>\n",
       "      <td>...</td>\n",
       "      <td>...</td>\n",
       "      <td>...</td>\n",
       "      <td>...</td>\n",
       "      <td>...</td>\n",
       "      <td>...</td>\n",
       "    </tr>\n",
       "    <tr>\n",
       "      <th>31958</th>\n",
       "      <td>0</td>\n",
       "      <td>ate isz that youuu</td>\n",
       "      <td>[ate, isz, that, youuu]</td>\n",
       "      <td>[ate, isz, youuu]</td>\n",
       "      <td>[ate, isz, youuu]</td>\n",
       "      <td>[ate, isz, youuu]</td>\n",
       "    </tr>\n",
       "    <tr>\n",
       "      <th>31959</th>\n",
       "      <td>0</td>\n",
       "      <td>to see nina turner on the airwaves trying to w...</td>\n",
       "      <td>[to, see, nina, turner, on, the, airwaves, try...</td>\n",
       "      <td>[see, nina, turner, airwaves, trying, wrap, ma...</td>\n",
       "      <td>[see, nina, turner, airwav, tri, wrap, mantl, ...</td>\n",
       "      <td>[see, nina, turner, airwave, trying, wrap, man...</td>\n",
       "    </tr>\n",
       "    <tr>\n",
       "      <th>31960</th>\n",
       "      <td>0</td>\n",
       "      <td>listening to sad songs on monday morning otw t...</td>\n",
       "      <td>[listening, to, sad, songs, on, monday, mornin...</td>\n",
       "      <td>[listening, sad, songs, monday, morning, otw, ...</td>\n",
       "      <td>[listen, sad, song, monday, morn, otw, work, sad]</td>\n",
       "      <td>[listening, sad, song, monday, morning, otw, w...</td>\n",
       "    </tr>\n",
       "    <tr>\n",
       "      <th>31961</th>\n",
       "      <td>1</td>\n",
       "      <td>sikh temple vandalised in in calgary wso conde...</td>\n",
       "      <td>[sikh, temple, vandalised, in, in, calgary, ws...</td>\n",
       "      <td>[sikh, temple, vandalised, calgary, wso, conde...</td>\n",
       "      <td>[sikh, templ, vandalis, calgari, wso, condemn,...</td>\n",
       "      <td>[sikh, temple, vandalised, calgary, wso, conde...</td>\n",
       "    </tr>\n",
       "    <tr>\n",
       "      <th>31962</th>\n",
       "      <td>0</td>\n",
       "      <td>thank you for you follow</td>\n",
       "      <td>[thank, you, for, you, follow]</td>\n",
       "      <td>[thank, follow]</td>\n",
       "      <td>[thank, follow]</td>\n",
       "      <td>[thank, follow]</td>\n",
       "    </tr>\n",
       "  </tbody>\n",
       "</table>\n",
       "<p>31962 rows × 6 columns</p>\n",
       "</div>"
      ],
      "text/plain": [
       "       label                                              tweet  \\\n",
       "id                                                                \n",
       "1          0  when father is dysfunctional and is so selfish...   \n",
       "2          0  thanks for lyft credit can not use cause they ...   \n",
       "3          0                                bihday your majesty   \n",
       "4          0            model love take with all the time in ur   \n",
       "5          0                  factsguide society now motivation   \n",
       "...      ...                                                ...   \n",
       "31958      0                                 ate isz that youuu   \n",
       "31959      0  to see nina turner on the airwaves trying to w...   \n",
       "31960      0  listening to sad songs on monday morning otw t...   \n",
       "31961      1  sikh temple vandalised in in calgary wso conde...   \n",
       "31962      0                           thank you for you follow   \n",
       "\n",
       "                                             tweet_token  \\\n",
       "id                                                         \n",
       "1      [when, father, is, dysfunctional, and, is, so,...   \n",
       "2      [thanks, for, lyft, credit, can, not, use, cau...   \n",
       "3                                [bihday, your, majesty]   \n",
       "4      [model, love, take, with, all, the, time, in, ur]   \n",
       "5                 [factsguide, society, now, motivation]   \n",
       "...                                                  ...   \n",
       "31958                            [ate, isz, that, youuu]   \n",
       "31959  [to, see, nina, turner, on, the, airwaves, try...   \n",
       "31960  [listening, to, sad, songs, on, monday, mornin...   \n",
       "31961  [sikh, temple, vandalised, in, in, calgary, ws...   \n",
       "31962                     [thank, you, for, you, follow]   \n",
       "\n",
       "                                    tweet_token_filtered  \\\n",
       "id                                                         \n",
       "1      [father, dysfunctional, selfish, drags, kids, ...   \n",
       "2      [thanks, lyft, credit, use, cause, offer, whee...   \n",
       "3                                      [bihday, majesty]   \n",
       "4                          [model, love, take, time, ur]   \n",
       "5                      [factsguide, society, motivation]   \n",
       "...                                                  ...   \n",
       "31958                                  [ate, isz, youuu]   \n",
       "31959  [see, nina, turner, airwaves, trying, wrap, ma...   \n",
       "31960  [listening, sad, songs, monday, morning, otw, ...   \n",
       "31961  [sikh, temple, vandalised, calgary, wso, conde...   \n",
       "31962                                    [thank, follow]   \n",
       "\n",
       "                                           tweet_stemmed  \\\n",
       "id                                                         \n",
       "1      [father, dysfunct, selfish, drag, kid, dysfunc...   \n",
       "2      [thank, lyft, credit, use, caus, offer, wheelc...   \n",
       "3                                      [bihday, majesti]   \n",
       "4                          [model, love, take, time, ur]   \n",
       "5                            [factsguid, societi, motiv]   \n",
       "...                                                  ...   \n",
       "31958                                  [ate, isz, youuu]   \n",
       "31959  [see, nina, turner, airwav, tri, wrap, mantl, ...   \n",
       "31960  [listen, sad, song, monday, morn, otw, work, sad]   \n",
       "31961  [sikh, templ, vandalis, calgari, wso, condemn,...   \n",
       "31962                                    [thank, follow]   \n",
       "\n",
       "                                        tweet_lemmatized  \n",
       "id                                                        \n",
       "1      [father, dysfunctional, selfish, drag, kid, dy...  \n",
       "2      [thanks, lyft, credit, use, cause, offer, whee...  \n",
       "3                                      [bihday, majesty]  \n",
       "4                          [model, love, take, time, ur]  \n",
       "5                      [factsguide, society, motivation]  \n",
       "...                                                  ...  \n",
       "31958                                  [ate, isz, youuu]  \n",
       "31959  [see, nina, turner, airwave, trying, wrap, man...  \n",
       "31960  [listening, sad, song, monday, morning, otw, w...  \n",
       "31961  [sikh, temple, vandalised, calgary, wso, conde...  \n",
       "31962                                    [thank, follow]  \n",
       "\n",
       "[31962 rows x 6 columns]"
      ]
     },
     "execution_count": 157,
     "metadata": {},
     "output_type": "execute_result"
    }
   ],
   "source": [
    "train_data"
   ]
  },
  {
   "cell_type": "code",
   "execution_count": null,
   "id": "106f3154",
   "metadata": {},
   "outputs": [],
   "source": []
  }
 ],
 "metadata": {
  "kernelspec": {
   "display_name": "Python 3 (ipykernel)",
   "language": "python",
   "name": "python3"
  },
  "language_info": {
   "codemirror_mode": {
    "name": "ipython",
    "version": 3
   },
   "file_extension": ".py",
   "mimetype": "text/x-python",
   "name": "python",
   "nbconvert_exporter": "python",
   "pygments_lexer": "ipython3",
   "version": "3.9.12"
  }
 },
 "nbformat": 4,
 "nbformat_minor": 5
}
