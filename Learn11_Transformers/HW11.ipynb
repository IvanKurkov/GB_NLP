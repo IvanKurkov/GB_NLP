{
 "cells": [
  {
   "cell_type": "markdown",
   "metadata": {
    "id": "J0Qjg6vuaHNt"
   },
   "source": [
    "# Neural machine translation with attention"
   ]
  },
  {
   "cell_type": "code",
   "execution_count": 1,
   "metadata": {
    "id": "tnxXKDjq3jEL"
   },
   "outputs": [],
   "source": [
    "import tensorflow as tf\n",
    "\n",
    "import matplotlib.pyplot as plt\n",
    "import matplotlib.ticker as ticker\n",
    "from sklearn.model_selection import train_test_split\n",
    "\n",
    "import unicodedata\n",
    "import re\n",
    "import numpy as np\n",
    "import os\n",
    "import io\n",
    "import time"
   ]
  },
  {
   "cell_type": "markdown",
   "metadata": {
    "id": "wfodePkj3jEa"
   },
   "source": [
    "## Download and prepare the dataset\n",
    "\n",
    "We'll use a language dataset provided by http://www.manythings.org/anki/"
   ]
  },
  {
   "cell_type": "code",
   "execution_count": null,
   "metadata": {
    "colab": {
     "base_uri": "https://localhost:8080/"
    },
    "id": "CNvjhDyAKk3U",
    "outputId": "6c4134ee-2bcc-44fb-f159-10685073fa65"
   },
   "outputs": [
    {
     "name": "stdout",
     "output_type": "stream",
     "text": [
      "--2020-12-18 23:35:43--  http://www.manythings.org/anki/rus-eng.zip\n",
      "Resolving www.manythings.org (www.manythings.org)... 172.67.173.198, 104.24.109.196, 104.24.108.196, ...\n",
      "Connecting to www.manythings.org (www.manythings.org)|172.67.173.198|:80... connected.\n",
      "HTTP request sent, awaiting response... 200 OK\n",
      "Length: 13811083 (13M) [application/zip]\n",
      "Saving to: ‘rus-eng.zip’\n",
      "\n",
      "rus-eng.zip         100%[===================>]  13.17M  1.85MB/s    in 10s     \n",
      "\n",
      "2020-12-18 23:35:53 (1.32 MB/s) - ‘rus-eng.zip’ saved [13811083/13811083]\n",
      "\n"
     ]
    }
   ],
   "source": [
    "!wget http://www.manythings.org/anki/rus-eng.zip"
   ]
  },
  {
   "cell_type": "code",
   "execution_count": null,
   "metadata": {
    "colab": {
     "base_uri": "https://localhost:8080/"
    },
    "id": "83bg17Lr-7XK",
    "outputId": "eeb9d53d-e2b2-4324-e0e7-0646e187da62"
   },
   "outputs": [
    {
     "name": "stdout",
     "output_type": "stream",
     "text": [
      "Archive:  rus-eng.zip\n",
      "  inflating: rus-eng/rus.txt         \n",
      "  inflating: rus-eng/_about.txt      \n"
     ]
    }
   ],
   "source": [
    "!mkdir rus-eng\n",
    "!unzip rus-eng.zip -d rus-eng/"
   ]
  },
  {
   "cell_type": "code",
   "execution_count": null,
   "metadata": {
    "colab": {
     "base_uri": "https://localhost:8080/"
    },
    "id": "7o5L92efMMhf",
    "outputId": "1742dd1c-be9c-4b0c-a845-8967a3bab60e"
   },
   "outputs": [
    {
     "name": "stdout",
     "output_type": "stream",
     "text": [
      "total 66M\n",
      "drwxr-xr-x 2 root root 4.0K Dec 18 23:35 .\n",
      "drwxr-xr-x 1 root root 4.0K Dec 18 23:35 ..\n",
      "-rw-r--r-- 1 root root 1.5K Nov 22 01:35 _about.txt\n",
      "-rw-r--r-- 1 root root  66M Nov 22 01:35 rus.txt\n"
     ]
    }
   ],
   "source": [
    "!ls /content/rus-eng/ -lah"
   ]
  },
  {
   "cell_type": "code",
   "execution_count": 2,
   "metadata": {
    "id": "kRVATYOgJs1b"
   },
   "outputs": [],
   "source": [
    "# Download the file\n",
    "path_to_file = \"rus-eng/rus.txt\""
   ]
  },
  {
   "cell_type": "code",
   "execution_count": 3,
   "metadata": {
    "id": "rd0jw-eC3jEh"
   },
   "outputs": [],
   "source": [
    "def preprocess_sentence(w):\n",
    "  w = w.lower().strip()\n",
    "\n",
    "  # creating a space between a word and the punctuation following it\n",
    "  # eg: \"he is a boy.\" => \"he is a boy .\"\n",
    "  # Reference:- https://stackoverflow.com/questions/3645931/python-padding-punctuation-with-white-spaces-keeping-punctuation\n",
    "  w = re.sub(r\"([?.!,])\", r\" \\1 \", w)\n",
    "  w = re.sub(r'[\" \"]+', \" \", w)\n",
    "\n",
    "  # replacing everything with space except (a-z, A-Z, \".\", \"?\", \"!\", \",\")\n",
    "  w = re.sub(r\"[^a-zA-Zа-яА-Я?.!,']+\", \" \", w)\n",
    "\n",
    "  w = w.strip()\n",
    "\n",
    "  # adding a start and an end token to the sentence\n",
    "  # so that the model know when to start and stop predicting.\n",
    "  w = '<start> ' + w + ' <end>'\n",
    "  return w"
   ]
  },
  {
   "cell_type": "code",
   "execution_count": 4,
   "metadata": {
    "colab": {
     "base_uri": "https://localhost:8080/",
     "height": 35
    },
    "id": "yV9lZXQXNbnH",
    "outputId": "62abb77d-47e0-4640-9d96-2ae53f702131"
   },
   "outputs": [
    {
     "data": {
      "text/plain": [
       "\"<start> i can't go . <end>\""
      ]
     },
     "execution_count": 4,
     "metadata": {},
     "output_type": "execute_result"
    }
   ],
   "source": [
    "preprocess_sentence(\"I can't go.\")"
   ]
  },
  {
   "cell_type": "code",
   "execution_count": 5,
   "metadata": {
    "id": "OHn4Dct23jEm"
   },
   "outputs": [],
   "source": [
    "# 1. Remove the accents\n",
    "# 2. Clean the sentences\n",
    "# 3. Return word pairs in the format: [ENG, RUS]\n",
    "def create_dataset(path, num_examples):\n",
    "  lines = io.open(path, encoding='UTF-8').read().strip().split('\\n')\n",
    "\n",
    "  word_pairs = [[preprocess_sentence(w) for w in l.split('\\t')[:2]]  for l in lines[:num_examples]]\n",
    "\n",
    "  return zip(*word_pairs)"
   ]
  },
  {
   "cell_type": "code",
   "execution_count": 6,
   "metadata": {
    "colab": {
     "base_uri": "https://localhost:8080/"
    },
    "id": "cTbSbBz55QtF",
    "outputId": "a6d817af-c6cc-4fcf-b6fd-3ef49cda2a27"
   },
   "outputs": [
    {
     "name": "stdout",
     "output_type": "stream",
     "text": [
      "<start> doubtless there exists in this world precisely the right woman for any given man to marry and vice versa but when you consider that a human being has the opportunity of being acquainted with only a few hundred people , and out of the few hundred that there are but a dozen or less whom he knows intimately , and out of the dozen , one or two friends at most , it will easily be seen , when we remember the number of millions who inhabit this world , that probably , since the earth was created , the right man has never yet met the right woman . <end>\n",
      "<start> несомненно , для каждого мужчины в этом мире где то есть подходящая женщина , которая может стать ему женой , обратное верно и для женщин . но если учесть , что у человека может быть максимум несколько сотен знакомых , из которых лишь дюжина , а то и меньше , тех , кого он знает близко , а из этой дюжины у него один или от силы два друга , то можно легко увидеть , что с уч том миллионов живущих на земле людей , ни один подходящий мужчина , возможно , ещ не встретил подходящую женщину . <end>\n"
     ]
    }
   ],
   "source": [
    "en, ru = create_dataset(path_to_file, None)\n",
    "print(en[-1])\n",
    "print(ru[-1])"
   ]
  },
  {
   "cell_type": "code",
   "execution_count": 7,
   "metadata": {
    "id": "bIOn8RCNDJXG"
   },
   "outputs": [],
   "source": [
    "def tokenize(lang):\n",
    "  lang_tokenizer = tf.keras.preprocessing.text.Tokenizer(\n",
    "      filters='')\n",
    "  lang_tokenizer.fit_on_texts(lang)\n",
    "\n",
    "  tensor = lang_tokenizer.texts_to_sequences(lang)\n",
    "\n",
    "  tensor = tf.keras.preprocessing.sequence.pad_sequences(tensor,\n",
    "                                                         padding='post')\n",
    "\n",
    "  return tensor, lang_tokenizer"
   ]
  },
  {
   "cell_type": "code",
   "execution_count": 8,
   "metadata": {
    "id": "eAY9k49G3jE_"
   },
   "outputs": [],
   "source": [
    "def load_dataset(path, num_examples=None):\n",
    "  # creating cleaned input, output pairs\n",
    "  targ_lang, inp_lang = create_dataset(path, num_examples)\n",
    "\n",
    "  input_tensor, inp_lang_tokenizer = tokenize(inp_lang)\n",
    "  target_tensor, targ_lang_tokenizer = tokenize(targ_lang)\n",
    "\n",
    "  return input_tensor, target_tensor, inp_lang_tokenizer, targ_lang_tokenizer"
   ]
  },
  {
   "cell_type": "markdown",
   "metadata": {
    "id": "GOi42V79Ydlr"
   },
   "source": [
    "### Limit the size of the dataset to experiment faster (optional)\n"
   ]
  },
  {
   "cell_type": "code",
   "execution_count": 9,
   "metadata": {
    "colab": {
     "base_uri": "https://localhost:8080/"
    },
    "id": "C8j9g9AnIeZV",
    "outputId": "2ef267ad-0118-4a27-c6fe-700538dce395"
   },
   "outputs": [
    {
     "data": {
      "text/plain": [
       "(451436, 451436)"
      ]
     },
     "execution_count": 9,
     "metadata": {},
     "output_type": "execute_result"
    }
   ],
   "source": [
    "len(en), len(ru)"
   ]
  },
  {
   "cell_type": "code",
   "execution_count": 10,
   "metadata": {
    "id": "cnxC7q-j3jFD"
   },
   "outputs": [],
   "source": [
    "# Try experimenting with the size of that dataset\n",
    "num_examples = 100000\n",
    "input_tensor, target_tensor, inp_lang, targ_lang = load_dataset(path_to_file, num_examples)\n",
    "\n",
    "# Calculate max_length of the target tensors\n",
    "max_length_targ, max_length_inp = target_tensor.shape[1], input_tensor.shape[1]"
   ]
  },
  {
   "cell_type": "code",
   "execution_count": 11,
   "metadata": {
    "colab": {
     "base_uri": "https://localhost:8080/"
    },
    "id": "4QILQkOs3jFG",
    "outputId": "6080cf0b-ce7a-41da-fdff-cff002d0e4da"
   },
   "outputs": [
    {
     "name": "stdout",
     "output_type": "stream",
     "text": [
      "80000 80000 20000 20000\n"
     ]
    }
   ],
   "source": [
    "# Creating training and validation sets using an 80-20 split\n",
    "input_tensor_train, input_tensor_val, target_tensor_train, target_tensor_val = train_test_split(input_tensor, target_tensor, test_size=0.2)\n",
    "\n",
    "# Show length\n",
    "print(len(input_tensor_train), len(target_tensor_train), len(input_tensor_val), len(target_tensor_val))"
   ]
  },
  {
   "cell_type": "code",
   "execution_count": 12,
   "metadata": {
    "id": "lJPmLZGMeD5q"
   },
   "outputs": [],
   "source": [
    "def convert(lang, tensor):\n",
    "  for t in tensor:\n",
    "    if t!=0:\n",
    "      print (\"%d ----> %s\" % (t, lang.index_word[t]))"
   ]
  },
  {
   "cell_type": "code",
   "execution_count": 13,
   "metadata": {
    "colab": {
     "base_uri": "https://localhost:8080/"
    },
    "id": "VXukARTDd7MT",
    "outputId": "341e28ce-7ca5-4f66-e751-157f5bbaa276"
   },
   "outputs": [
    {
     "name": "stdout",
     "output_type": "stream",
     "text": [
      "Input Language; index to word mapping\n",
      "1 ----> <start>\n",
      "78 ----> можно\n",
      "12 ----> мне\n",
      "349 ----> ваше\n",
      "347 ----> взять\n",
      "5 ----> ?\n",
      "2 ----> <end>\n",
      "\n",
      "Target Language; index to word mapping\n",
      "1 ----> <start>\n",
      "25 ----> can\n",
      "4 ----> i\n",
      "798 ----> borrow\n",
      "215 ----> yours\n",
      "6 ----> ?\n",
      "2 ----> <end>\n"
     ]
    }
   ],
   "source": [
    "print (\"Input Language; index to word mapping\")\n",
    "convert(inp_lang, input_tensor_train[0])\n",
    "print ()\n",
    "print (\"Target Language; index to word mapping\")\n",
    "convert(targ_lang, target_tensor_train[0])"
   ]
  },
  {
   "cell_type": "markdown",
   "metadata": {
    "id": "rgCLkfv5uO3d"
   },
   "source": [
    "### Create a tf.data dataset"
   ]
  },
  {
   "cell_type": "code",
   "execution_count": 14,
   "metadata": {
    "id": "TqHsArVZ3jFS"
   },
   "outputs": [],
   "source": [
    "BUFFER_SIZE = len(input_tensor_train)\n",
    "BATCH_SIZE = 256\n",
    "steps_per_epoch = len(input_tensor_train)//BATCH_SIZE\n",
    "embedding_dim = 512\n",
    "units = 2024\n",
    "vocab_inp_size = len(inp_lang.word_index)+1\n",
    "vocab_tar_size = len(targ_lang.word_index)+1\n",
    "\n",
    "dataset = tf.data.Dataset.from_tensor_slices((input_tensor_train, target_tensor_train)).shuffle(BUFFER_SIZE)\n",
    "dataset = dataset.batch(BATCH_SIZE, drop_remainder=True)"
   ]
  },
  {
   "cell_type": "code",
   "execution_count": 15,
   "metadata": {
    "colab": {
     "base_uri": "https://localhost:8080/"
    },
    "id": "qc6-NK1GtWQt",
    "outputId": "119b41d0-fae4-4422-cc8e-ce6a758be16d"
   },
   "outputs": [
    {
     "data": {
      "text/plain": [
       "(TensorShape([256, 15]), TensorShape([256, 11]))"
      ]
     },
     "execution_count": 15,
     "metadata": {},
     "output_type": "execute_result"
    }
   ],
   "source": [
    "example_input_batch, example_target_batch = next(iter(dataset))\n",
    "example_input_batch.shape, example_target_batch.shape"
   ]
  },
  {
   "cell_type": "code",
   "execution_count": 16,
   "metadata": {
    "id": "nZ2rI24i3jFg"
   },
   "outputs": [],
   "source": [
    "class Encoder(tf.keras.Model):\n",
    "  def __init__(self, vocab_size, embedding_dim, enc_units, batch_sz):\n",
    "    super(Encoder, self).__init__()\n",
    "    self.batch_sz = batch_sz\n",
    "    self.enc_units = enc_units\n",
    "    self.embedding = tf.keras.layers.Embedding(vocab_size, embedding_dim)\n",
    "    self.gru = tf.keras.layers.GRU(self.enc_units,\n",
    "                                   return_sequences=True,\n",
    "                                   return_state=True,\n",
    "                                   recurrent_initializer='glorot_uniform')\n",
    "\n",
    "  def call(self, x, hidden):\n",
    "    x = self.embedding(x)\n",
    "    output, state = self.gru(x, initial_state = hidden)\n",
    "    return output, state\n",
    "\n",
    "  def initialize_hidden_state(self):\n",
    "    return tf.zeros((self.batch_sz, self.enc_units))"
   ]
  },
  {
   "cell_type": "code",
   "execution_count": 17,
   "metadata": {
    "colab": {
     "base_uri": "https://localhost:8080/"
    },
    "id": "60gSVh05Jl6l",
    "outputId": "5b654acc-f67d-4357-b000-fdde32228982"
   },
   "outputs": [
    {
     "name": "stdout",
     "output_type": "stream",
     "text": [
      "Encoder output shape: (batch size, sequence length, units) (256, 15, 2024)\n",
      "Encoder Hidden state shape: (batch size, units) (256, 2024)\n"
     ]
    }
   ],
   "source": [
    "encoder = Encoder(vocab_inp_size, embedding_dim, units, BATCH_SIZE)\n",
    "\n",
    "# sample input\n",
    "sample_hidden = encoder.initialize_hidden_state()\n",
    "sample_output, sample_hidden = encoder(example_input_batch, sample_hidden)\n",
    "print ('Encoder output shape: (batch size, sequence length, units) {}'.format(sample_output.shape))\n",
    "print ('Encoder Hidden state shape: (batch size, units) {}'.format(sample_hidden.shape))"
   ]
  },
  {
   "cell_type": "code",
   "execution_count": 18,
   "metadata": {
    "id": "YTyhL28Niqk1"
   },
   "outputs": [],
   "source": [
    "class BahdanauAttention(tf.keras.layers.Layer):\n",
    "  def __init__(self, units):\n",
    "    super(BahdanauAttention, self).__init__()\n",
    "    self.W1 = tf.keras.layers.Dense(units)\n",
    "    self.W2 = tf.keras.layers.Dense(units)\n",
    "    self.V = tf.keras.layers.Dense(1)\n",
    "\n",
    "  def call(self, query, values):\n",
    "    # query hidden state shape == (batch_size, hidden size)\n",
    "    # query_with_time_axis shape == (batch_size, 1, hidden size)\n",
    "    # values shape == (batch_size, max_len, hidden size)\n",
    "    # we are doing this to broadcast addition along the time axis to calculate the score\n",
    "    query_with_time_axis = tf.expand_dims(query, 1)\n",
    "\n",
    "    # score shape == (batch_size, max_length, 1)\n",
    "    # we get 1 at the last axis because we are applying score to self.V\n",
    "    # the shape of the tensor before applying self.V is (batch_size, max_length, units)\n",
    "    score = self.V(tf.nn.tanh(\n",
    "        self.W1(query_with_time_axis) + self.W2(values)))\n",
    "\n",
    "    # attention_weights shape == (batch_size, max_length, 1)\n",
    "    attention_weights = tf.nn.softmax(score, axis=1)\n",
    "\n",
    "    # context_vector shape after sum == (batch_size, hidden_size)\n",
    "    context_vector = attention_weights * values\n",
    "    context_vector = tf.reduce_sum(context_vector, axis=1)\n",
    "\n",
    "    return context_vector, attention_weights"
   ]
  },
  {
   "cell_type": "code",
   "execution_count": 19,
   "metadata": {
    "colab": {
     "base_uri": "https://localhost:8080/"
    },
    "id": "XUqssWcci1XJ",
    "outputId": "607dc7d5-fa08-4d88-9935-ce76fc101464"
   },
   "outputs": [
    {
     "name": "stdout",
     "output_type": "stream",
     "text": [
      "Attention result shape: (batch size, units) (256, 2024)\n",
      "Attention weights shape: (batch_size, sequence_length, 1) (256, 15, 1)\n"
     ]
    }
   ],
   "source": [
    "attention_layer = BahdanauAttention(10)\n",
    "attention_result, attention_weights = attention_layer(sample_hidden, sample_output)\n",
    "\n",
    "print(\"Attention result shape: (batch size, units) {}\".format(attention_result.shape))\n",
    "print(\"Attention weights shape: (batch_size, sequence_length, 1) {}\".format(attention_weights.shape))"
   ]
  },
  {
   "cell_type": "code",
   "execution_count": 20,
   "metadata": {
    "id": "yJ_B3mhW3jFk"
   },
   "outputs": [],
   "source": [
    "class Decoder(tf.keras.Model):\n",
    "  def __init__(self, vocab_size, embedding_dim, dec_units, batch_sz):\n",
    "    super(Decoder, self).__init__()\n",
    "    self.batch_sz = batch_sz\n",
    "    self.dec_units = dec_units\n",
    "    self.embedding = tf.keras.layers.Embedding(vocab_size, embedding_dim)\n",
    "    self.gru = tf.keras.layers.GRU(self.dec_units,\n",
    "                                   return_sequences=True,\n",
    "                                   return_state=True,\n",
    "                                   recurrent_initializer='glorot_uniform')\n",
    "    self.fc = tf.keras.layers.Dense(vocab_size)\n",
    "\n",
    "    # used for attention\n",
    "    self.attention = BahdanauAttention(self.dec_units)\n",
    "\n",
    "  def call(self, x, hidden, enc_output):\n",
    "    # enc_output shape == (batch_size, max_length, hidden_size)\n",
    "    context_vector, attention_weights = self.attention(hidden, enc_output)\n",
    "\n",
    "    # x shape after passing through embedding == (batch_size, 1, embedding_dim)\n",
    "    x = self.embedding(x)\n",
    "\n",
    "    # x shape after concatenation == (batch_size, 1, embedding_dim + hidden_size)\n",
    "    x = tf.concat([tf.expand_dims(context_vector, 1), x], axis=-1)\n",
    "\n",
    "    # passing the concatenated vector to the GRU\n",
    "    output, state = self.gru(x)\n",
    "\n",
    "    # output shape == (batch_size * 1, hidden_size)\n",
    "    output = tf.reshape(output, (-1, output.shape[2]))\n",
    "\n",
    "    # output shape == (batch_size, vocab)\n",
    "    x = self.fc(output)\n",
    "\n",
    "    return x, state, attention_weights"
   ]
  },
  {
   "cell_type": "code",
   "execution_count": 21,
   "metadata": {
    "colab": {
     "base_uri": "https://localhost:8080/"
    },
    "id": "P5UY8wko3jFp",
    "outputId": "e8cb3233-c781-4016-8f6d-9ba936848a51"
   },
   "outputs": [
    {
     "name": "stdout",
     "output_type": "stream",
     "text": [
      "Decoder output shape: (batch_size, vocab size) (256, 7335)\n"
     ]
    }
   ],
   "source": [
    "decoder = Decoder(vocab_tar_size, embedding_dim, units, BATCH_SIZE)\n",
    "\n",
    "sample_decoder_output, _, _ = decoder(tf.random.uniform((BATCH_SIZE, 1)),\n",
    "                                      sample_hidden, sample_output)\n",
    "\n",
    "print ('Decoder output shape: (batch_size, vocab size) {}'.format(sample_decoder_output.shape))"
   ]
  },
  {
   "cell_type": "markdown",
   "metadata": {
    "id": "_ch_71VbIRfK"
   },
   "source": [
    "## Define the optimizer and the loss function"
   ]
  },
  {
   "cell_type": "code",
   "execution_count": 22,
   "metadata": {
    "id": "WmTHr5iV3jFr"
   },
   "outputs": [],
   "source": [
    "optimizer = tf.keras.optimizers.Adam()\n",
    "loss_object = tf.keras.losses.SparseCategoricalCrossentropy(\n",
    "    from_logits=True, reduction='none')\n",
    "\n",
    "def loss_function(real, pred):\n",
    "  mask = tf.math.logical_not(tf.math.equal(real, 0))\n",
    "  loss_ = loss_object(real, pred)\n",
    "\n",
    "  mask = tf.cast(mask, dtype=loss_.dtype)\n",
    "  loss_ *= mask\n",
    "\n",
    "  return tf.reduce_mean(loss_)"
   ]
  },
  {
   "cell_type": "markdown",
   "metadata": {
    "id": "DMVWzzsfNl4e"
   },
   "source": [
    "## Checkpoints (Object-based saving)"
   ]
  },
  {
   "cell_type": "code",
   "execution_count": 23,
   "metadata": {
    "id": "Zj8bXQTgNwrF"
   },
   "outputs": [],
   "source": [
    "checkpoint_dir = './training_attention_checkpoints'\n",
    "checkpoint_prefix = os.path.join(checkpoint_dir, \"ckpt\")\n",
    "checkpoint = tf.train.Checkpoint(optimizer=optimizer,\n",
    "                                 encoder=encoder,\n",
    "                                 decoder=decoder)"
   ]
  },
  {
   "cell_type": "code",
   "execution_count": 24,
   "metadata": {
    "id": "sC9ArXSsVfqn"
   },
   "outputs": [],
   "source": [
    "@tf.function\n",
    "def train_step(inp, targ, enc_hidden):\n",
    "  loss = 0\n",
    "\n",
    "  with tf.GradientTape() as tape:\n",
    "    enc_output, enc_hidden = encoder(inp, enc_hidden)\n",
    "\n",
    "    dec_hidden = enc_hidden\n",
    "\n",
    "    dec_input = tf.expand_dims([targ_lang.word_index['<start>']] * BATCH_SIZE, 1)\n",
    "\n",
    "    # Teacher forcing - feeding the target as the next input\n",
    "    for t in range(1, targ.shape[1]):\n",
    "      # passing enc_output to the decoder\n",
    "      predictions, dec_hidden, _ = decoder(dec_input, dec_hidden, enc_output)\n",
    "\n",
    "      loss += loss_function(targ[:, t], predictions)\n",
    "\n",
    "      # using teacher forcing\n",
    "      dec_input = tf.expand_dims(targ[:, t], 1)\n",
    "\n",
    "  batch_loss = (loss / int(targ.shape[1]))\n",
    "\n",
    "  variables = encoder.trainable_variables + decoder.trainable_variables\n",
    "\n",
    "  gradients = tape.gradient(loss, variables)\n",
    "\n",
    "  optimizer.apply_gradients(zip(gradients, variables))\n",
    "\n",
    "  return batch_loss"
   ]
  },
  {
   "cell_type": "code",
   "execution_count": 25,
   "metadata": {
    "colab": {
     "base_uri": "https://localhost:8080/",
     "height": 1000
    },
    "id": "ddefjBMa3jF0",
    "outputId": "18129808-55c4-4935-869b-ad5fa8f4de43"
   },
   "outputs": [
    {
     "name": "stdout",
     "output_type": "stream",
     "text": [
      "Epoch 1 Batch 0 Loss 4.6871\n",
      "Epoch 1 Batch 100 Loss 1.8552\n",
      "Epoch 1 Batch 200 Loss 1.5324\n",
      "Epoch 1 Batch 300 Loss 1.3024\n",
      "Epoch 1 Loss 1.7501\n",
      "Time taken for 1 epoch 91.43547105789185 sec\n",
      "\n",
      "Epoch 2 Batch 0 Loss 1.1794\n",
      "Epoch 2 Batch 100 Loss 1.0517\n",
      "Epoch 2 Batch 200 Loss 0.8927\n",
      "Epoch 2 Batch 300 Loss 0.8258\n",
      "Epoch 2 Loss 0.9785\n",
      "Time taken for 1 epoch 80.36789298057556 sec\n",
      "\n",
      "Epoch 3 Batch 0 Loss 0.6751\n",
      "Epoch 3 Batch 100 Loss 0.6169\n",
      "Epoch 3 Batch 200 Loss 0.5346\n",
      "Epoch 3 Batch 300 Loss 0.5163\n",
      "Epoch 3 Loss 0.5762\n",
      "Time taken for 1 epoch 78.89647698402405 sec\n",
      "\n",
      "Epoch 4 Batch 0 Loss 0.3279\n",
      "Epoch 4 Batch 100 Loss 0.3783\n",
      "Epoch 4 Batch 200 Loss 0.3381\n",
      "Epoch 4 Batch 300 Loss 0.3563\n",
      "Epoch 4 Loss 0.3457\n",
      "Time taken for 1 epoch 83.042227268219 sec\n",
      "\n",
      "Epoch 5 Batch 0 Loss 0.2325\n",
      "Epoch 5 Batch 100 Loss 0.2405\n",
      "Epoch 5 Batch 200 Loss 0.2191\n",
      "Epoch 5 Batch 300 Loss 0.2528\n",
      "Epoch 5 Loss 0.2215\n",
      "Time taken for 1 epoch 81.9699957370758 sec\n",
      "\n",
      "Epoch 6 Batch 0 Loss 0.1546\n",
      "Epoch 6 Batch 100 Loss 0.1666\n",
      "Epoch 6 Batch 200 Loss 0.1692\n",
      "Epoch 6 Batch 300 Loss 0.1550\n",
      "Epoch 6 Loss 0.1535\n",
      "Time taken for 1 epoch 82.16487956047058 sec\n",
      "\n",
      "Epoch 7 Batch 0 Loss 0.1084\n",
      "Epoch 7 Batch 100 Loss 0.0982\n",
      "Epoch 7 Batch 200 Loss 0.1109\n",
      "Epoch 7 Batch 300 Loss 0.1428\n",
      "Epoch 7 Loss 0.1155\n",
      "Time taken for 1 epoch 82.09569072723389 sec\n",
      "\n",
      "Epoch 8 Batch 0 Loss 0.0810\n",
      "Epoch 8 Batch 100 Loss 0.0904\n",
      "Epoch 8 Batch 200 Loss 0.1048\n",
      "Epoch 8 Batch 300 Loss 0.1171\n",
      "Epoch 8 Loss 0.0927\n",
      "Time taken for 1 epoch 81.07703351974487 sec\n",
      "\n",
      "Epoch 9 Batch 0 Loss 0.0699\n",
      "Epoch 9 Batch 100 Loss 0.0699\n",
      "Epoch 9 Batch 200 Loss 0.0844\n",
      "Epoch 9 Batch 300 Loss 0.0840\n",
      "Epoch 9 Loss 0.0803\n",
      "Time taken for 1 epoch 78.69520258903503 sec\n",
      "\n",
      "Epoch 10 Batch 0 Loss 0.0682\n",
      "Epoch 10 Batch 100 Loss 0.0553\n",
      "Epoch 10 Batch 200 Loss 0.0864\n",
      "Epoch 10 Batch 300 Loss 0.0859\n",
      "Epoch 10 Loss 0.0738\n",
      "Time taken for 1 epoch 80.88900208473206 sec\n",
      "\n",
      "Epoch 11 Batch 0 Loss 0.0606\n",
      "Epoch 11 Batch 100 Loss 0.0628\n",
      "Epoch 11 Batch 200 Loss 0.0771\n",
      "Epoch 11 Batch 300 Loss 0.0738\n",
      "Epoch 11 Loss 0.0671\n",
      "Time taken for 1 epoch 79.02060079574585 sec\n",
      "\n",
      "Epoch 12 Batch 0 Loss 0.0420\n",
      "Epoch 12 Batch 100 Loss 0.0463\n",
      "Epoch 12 Batch 200 Loss 0.0659\n",
      "Epoch 12 Batch 300 Loss 0.0671\n",
      "Epoch 12 Loss 0.0628\n",
      "Time taken for 1 epoch 80.4131498336792 sec\n",
      "\n",
      "Epoch 13 Batch 0 Loss 0.0422\n",
      "Epoch 13 Batch 100 Loss 0.0769\n",
      "Epoch 13 Batch 200 Loss 0.0520\n",
      "Epoch 13 Batch 300 Loss 0.0632\n",
      "Epoch 13 Loss 0.0608\n",
      "Time taken for 1 epoch 78.35203433036804 sec\n",
      "\n",
      "Epoch 14 Batch 0 Loss 0.0700\n",
      "Epoch 14 Batch 100 Loss 0.0468\n",
      "Epoch 14 Batch 200 Loss 0.0459\n",
      "Epoch 14 Batch 300 Loss 0.0795\n",
      "Epoch 14 Loss 0.0579\n",
      "Time taken for 1 epoch 80.65694546699524 sec\n",
      "\n",
      "Epoch 15 Batch 0 Loss 0.0458\n",
      "Epoch 15 Batch 100 Loss 0.0579\n",
      "Epoch 15 Batch 200 Loss 0.0579\n",
      "Epoch 15 Batch 300 Loss 0.0837\n",
      "Epoch 15 Loss 0.0576\n",
      "Time taken for 1 epoch 78.35821080207825 sec\n",
      "\n",
      "Epoch 16 Batch 0 Loss 0.0301\n",
      "Epoch 16 Batch 100 Loss 0.0494\n",
      "Epoch 16 Batch 200 Loss 0.0628\n",
      "Epoch 16 Batch 300 Loss 0.0669\n",
      "Epoch 16 Loss 0.0564\n",
      "Time taken for 1 epoch 80.36568689346313 sec\n",
      "\n",
      "Epoch 17 Batch 0 Loss 0.0488\n",
      "Epoch 17 Batch 100 Loss 0.0535\n",
      "Epoch 17 Batch 200 Loss 0.0486\n",
      "Epoch 17 Batch 300 Loss 0.0653\n",
      "Epoch 17 Loss 0.0567\n",
      "Time taken for 1 epoch 78.95282030105591 sec\n",
      "\n",
      "Epoch 18 Batch 0 Loss 0.0558\n",
      "Epoch 18 Batch 100 Loss 0.0454\n",
      "Epoch 18 Batch 200 Loss 0.0568\n",
      "Epoch 18 Batch 300 Loss 0.0606\n",
      "Epoch 18 Loss 0.0554\n",
      "Time taken for 1 epoch 82.27549719810486 sec\n",
      "\n",
      "Epoch 19 Batch 0 Loss 0.0446\n",
      "Epoch 19 Batch 100 Loss 0.0579\n",
      "Epoch 19 Batch 200 Loss 0.0569\n",
      "Epoch 19 Batch 300 Loss 0.0579\n",
      "Epoch 19 Loss 0.0534\n",
      "Time taken for 1 epoch 78.49699473381042 sec\n",
      "\n",
      "Epoch 20 Batch 0 Loss 0.0405\n",
      "Epoch 20 Batch 100 Loss 0.0498\n",
      "Epoch 20 Batch 200 Loss 0.0709\n",
      "Epoch 20 Batch 300 Loss 0.0506\n",
      "Epoch 20 Loss 0.0501\n",
      "Time taken for 1 epoch 80.41121053695679 sec\n",
      "\n",
      "Epoch 21 Batch 0 Loss 0.0383\n",
      "Epoch 21 Batch 100 Loss 0.0578\n",
      "Epoch 21 Batch 200 Loss 0.0503\n",
      "Epoch 21 Batch 300 Loss 0.0594\n",
      "Epoch 21 Loss 0.0486\n",
      "Time taken for 1 epoch 78.38240933418274 sec\n",
      "\n",
      "Epoch 22 Batch 0 Loss 0.0397\n",
      "Epoch 22 Batch 100 Loss 0.0535\n",
      "Epoch 22 Batch 200 Loss 0.0529\n",
      "Epoch 22 Batch 300 Loss 0.0685\n",
      "Epoch 22 Loss 0.0475\n",
      "Time taken for 1 epoch 80.50389003753662 sec\n",
      "\n",
      "Epoch 23 Batch 0 Loss 0.0471\n",
      "Epoch 23 Batch 100 Loss 0.0419\n",
      "Epoch 23 Batch 200 Loss 0.0457\n",
      "Epoch 23 Batch 300 Loss 0.0522\n",
      "Epoch 23 Loss 0.0462\n",
      "Time taken for 1 epoch 78.47783780097961 sec\n",
      "\n",
      "Epoch 24 Batch 0 Loss 0.0371\n",
      "Epoch 24 Batch 100 Loss 0.0515\n",
      "Epoch 24 Batch 200 Loss 0.0383\n",
      "Epoch 24 Batch 300 Loss 0.0512\n",
      "Epoch 24 Loss 0.0443\n",
      "Time taken for 1 epoch 80.9167251586914 sec\n",
      "\n",
      "Epoch 25 Batch 0 Loss 0.0272\n",
      "Epoch 25 Batch 100 Loss 0.0354\n",
      "Epoch 25 Batch 200 Loss 0.0460\n",
      "Epoch 25 Batch 300 Loss 0.0587\n",
      "Epoch 25 Loss 0.0449\n",
      "Time taken for 1 epoch 79.05273509025574 sec\n",
      "\n",
      "Epoch 26 Batch 0 Loss 0.0338\n",
      "Epoch 26 Batch 100 Loss 0.0293\n",
      "Epoch 26 Batch 200 Loss 0.0535\n",
      "Epoch 26 Batch 300 Loss 0.0497\n",
      "Epoch 26 Loss 0.0441\n",
      "Time taken for 1 epoch 80.50755214691162 sec\n",
      "\n",
      "Epoch 27 Batch 0 Loss 0.0341\n",
      "Epoch 27 Batch 100 Loss 0.0342\n",
      "Epoch 27 Batch 200 Loss 0.0440\n",
      "Epoch 27 Batch 300 Loss 0.0485\n",
      "Epoch 27 Loss 0.0433\n",
      "Time taken for 1 epoch 78.41420388221741 sec\n",
      "\n",
      "Epoch 28 Batch 0 Loss 0.0343\n",
      "Epoch 28 Batch 100 Loss 0.0428\n",
      "Epoch 28 Batch 200 Loss 0.0514\n",
      "Epoch 28 Batch 300 Loss 0.0469\n",
      "Epoch 28 Loss 0.0431\n",
      "Time taken for 1 epoch 81.41149401664734 sec\n",
      "\n",
      "Epoch 29 Batch 0 Loss 0.0374\n",
      "Epoch 29 Batch 100 Loss 0.0304\n",
      "Epoch 29 Batch 200 Loss 0.0421\n",
      "Epoch 29 Batch 300 Loss 0.0486\n",
      "Epoch 29 Loss 0.0410\n",
      "Time taken for 1 epoch 78.49320888519287 sec\n",
      "\n",
      "Epoch 30 Batch 0 Loss 0.0375\n",
      "Epoch 30 Batch 100 Loss 0.0434\n",
      "Epoch 30 Batch 200 Loss 0.0493\n",
      "Epoch 30 Batch 300 Loss 0.0511\n",
      "Epoch 30 Loss 0.0401\n",
      "Time taken for 1 epoch 80.40578079223633 sec\n",
      "\n",
      "Epoch 31 Batch 0 Loss 0.0357\n",
      "Epoch 31 Batch 100 Loss 0.0343\n",
      "Epoch 31 Batch 200 Loss 0.0438\n",
      "Epoch 31 Batch 300 Loss 0.0426\n",
      "Epoch 31 Loss 0.0398\n",
      "Time taken for 1 epoch 78.47375154495239 sec\n",
      "\n",
      "Epoch 32 Batch 0 Loss 0.0337\n",
      "Epoch 32 Batch 100 Loss 0.0353\n",
      "Epoch 32 Batch 200 Loss 0.0417\n",
      "Epoch 32 Batch 300 Loss 0.0475\n",
      "Epoch 32 Loss 0.0399\n",
      "Time taken for 1 epoch 81.05195379257202 sec\n",
      "\n",
      "Epoch 33 Batch 0 Loss 0.0284\n",
      "Epoch 33 Batch 100 Loss 0.0282\n",
      "Epoch 33 Batch 200 Loss 0.0395\n",
      "Epoch 33 Batch 300 Loss 0.0542\n",
      "Epoch 33 Loss 0.0394\n",
      "Time taken for 1 epoch 78.43924069404602 sec\n",
      "\n",
      "Epoch 34 Batch 0 Loss 0.0275\n",
      "Epoch 34 Batch 100 Loss 0.0404\n",
      "Epoch 34 Batch 200 Loss 0.0444\n",
      "Epoch 34 Batch 300 Loss 0.0417\n",
      "Epoch 34 Loss 0.0388\n",
      "Time taken for 1 epoch 80.98897981643677 sec\n",
      "\n",
      "Epoch 35 Batch 0 Loss 0.0334\n",
      "Epoch 35 Batch 100 Loss 0.0473\n",
      "Epoch 35 Batch 200 Loss 0.0307\n",
      "Epoch 35 Batch 300 Loss 0.0501\n",
      "Epoch 35 Loss 0.0376\n",
      "Time taken for 1 epoch 78.38935613632202 sec\n",
      "\n",
      "Epoch 36 Batch 0 Loss 0.0287\n",
      "Epoch 36 Batch 100 Loss 0.0404\n",
      "Epoch 36 Batch 200 Loss 0.0285\n",
      "Epoch 36 Batch 300 Loss 0.0434\n",
      "Epoch 36 Loss 0.0364\n",
      "Time taken for 1 epoch 82.82348656654358 sec\n",
      "\n",
      "Epoch 37 Batch 0 Loss 0.0273\n",
      "Epoch 37 Batch 100 Loss 0.0374\n",
      "Epoch 37 Batch 200 Loss 0.0396\n",
      "Epoch 37 Batch 300 Loss 0.0430\n",
      "Epoch 37 Loss 0.0367\n",
      "Time taken for 1 epoch 78.50543665885925 sec\n",
      "\n",
      "Epoch 38 Batch 0 Loss 0.0229\n",
      "Epoch 38 Batch 100 Loss 0.0296\n",
      "Epoch 38 Batch 200 Loss 0.0460\n",
      "Epoch 38 Batch 300 Loss 0.0389\n",
      "Epoch 38 Loss 0.0367\n",
      "Time taken for 1 epoch 80.38300776481628 sec\n",
      "\n",
      "Epoch 39 Batch 0 Loss 0.0405\n",
      "Epoch 39 Batch 100 Loss 0.0365\n",
      "Epoch 39 Batch 200 Loss 0.0330\n",
      "Epoch 39 Batch 300 Loss 0.0448\n",
      "Epoch 39 Loss 0.0371\n",
      "Time taken for 1 epoch 78.36193943023682 sec\n",
      "\n",
      "Epoch 40 Batch 0 Loss 0.0291\n",
      "Epoch 40 Batch 100 Loss 0.0343\n",
      "Epoch 40 Batch 200 Loss 0.0338\n",
      "Epoch 40 Batch 300 Loss 0.0428\n",
      "Epoch 40 Loss 0.0360\n",
      "Time taken for 1 epoch 80.46441674232483 sec\n",
      "\n",
      "Epoch 41 Batch 0 Loss 0.0322\n",
      "Epoch 41 Batch 100 Loss 0.0256\n",
      "Epoch 41 Batch 200 Loss 0.0418\n",
      "Epoch 41 Batch 300 Loss 0.0418\n",
      "Epoch 41 Loss 0.0352\n",
      "Time taken for 1 epoch 78.37857913970947 sec\n",
      "\n",
      "Epoch 42 Batch 0 Loss 0.0328\n",
      "Epoch 42 Batch 100 Loss 0.0371\n",
      "Epoch 42 Batch 200 Loss 0.0360\n",
      "Epoch 42 Batch 300 Loss 0.0319\n",
      "Epoch 42 Loss 0.0330\n",
      "Time taken for 1 epoch 80.43309259414673 sec\n",
      "\n",
      "Epoch 43 Batch 0 Loss 0.0263\n",
      "Epoch 43 Batch 100 Loss 0.0353\n",
      "Epoch 43 Batch 200 Loss 0.0326\n",
      "Epoch 43 Batch 300 Loss 0.0309\n",
      "Epoch 43 Loss 0.0324\n",
      "Time taken for 1 epoch 78.37001609802246 sec\n",
      "\n",
      "Epoch 44 Batch 0 Loss 0.0252\n",
      "Epoch 44 Batch 100 Loss 0.0344\n",
      "Epoch 44 Batch 200 Loss 0.0300\n",
      "Epoch 44 Batch 300 Loss 0.0310\n"
     ]
    },
    {
     "name": "stdout",
     "output_type": "stream",
     "text": [
      "Epoch 44 Loss 0.0321\n",
      "Time taken for 1 epoch 82.18470096588135 sec\n",
      "\n",
      "Epoch 45 Batch 0 Loss 0.0199\n",
      "Epoch 45 Batch 100 Loss 0.0249\n",
      "Epoch 45 Batch 200 Loss 0.0405\n",
      "Epoch 45 Batch 300 Loss 0.0419\n",
      "Epoch 45 Loss 0.0322\n",
      "Time taken for 1 epoch 78.41535687446594 sec\n",
      "\n",
      "Epoch 46 Batch 0 Loss 0.0240\n",
      "Epoch 46 Batch 100 Loss 0.0425\n",
      "Epoch 46 Batch 200 Loss 0.0345\n",
      "Epoch 46 Batch 300 Loss 0.0415\n",
      "Epoch 46 Loss 0.0326\n",
      "Time taken for 1 epoch 80.90506887435913 sec\n",
      "\n",
      "Epoch 47 Batch 0 Loss 0.0242\n",
      "Epoch 47 Batch 100 Loss 0.0289\n",
      "Epoch 47 Batch 200 Loss 0.0388\n",
      "Epoch 47 Batch 300 Loss 0.0366\n",
      "Epoch 47 Loss 0.0336\n",
      "Time taken for 1 epoch 78.50250792503357 sec\n",
      "\n",
      "Epoch 48 Batch 0 Loss 0.0286\n",
      "Epoch 48 Batch 100 Loss 0.0228\n",
      "Epoch 48 Batch 200 Loss 0.0373\n",
      "Epoch 48 Batch 300 Loss 0.0315\n",
      "Epoch 48 Loss 0.0338\n",
      "Time taken for 1 epoch 80.57606220245361 sec\n",
      "\n",
      "Epoch 49 Batch 0 Loss 0.0363\n",
      "Epoch 49 Batch 100 Loss 0.0331\n",
      "Epoch 49 Batch 200 Loss 0.0392\n",
      "Epoch 49 Batch 300 Loss 0.0281\n",
      "Epoch 49 Loss 0.0361\n",
      "Time taken for 1 epoch 78.54092955589294 sec\n",
      "\n",
      "Epoch 50 Batch 0 Loss 0.0307\n",
      "Epoch 50 Batch 100 Loss 0.0346\n",
      "Epoch 50 Batch 200 Loss 0.0354\n",
      "Epoch 50 Batch 300 Loss 0.0355\n",
      "Epoch 50 Loss 0.0338\n",
      "Time taken for 1 epoch 80.59741759300232 sec\n",
      "\n"
     ]
    }
   ],
   "source": [
    "EPOCHS = 50\n",
    "\n",
    "for epoch in range(EPOCHS):\n",
    "  start = time.time()\n",
    "\n",
    "  enc_hidden = encoder.initialize_hidden_state()\n",
    "  total_loss = 0\n",
    "\n",
    "  for (batch, (inp, targ)) in enumerate(dataset.take(steps_per_epoch)):\n",
    "    batch_loss = train_step(inp, targ, enc_hidden)\n",
    "    total_loss += batch_loss\n",
    "\n",
    "    if batch % 100 == 0:\n",
    "      print('Epoch {} Batch {} Loss {:.4f}'.format(epoch + 1,\n",
    "                                                   batch,\n",
    "                                                   batch_loss.numpy()))\n",
    "  # saving (checkpoint) the model every 2 epochs\n",
    "  if (epoch + 1) % 2 == 0:\n",
    "    checkpoint.save(file_prefix = checkpoint_prefix)\n",
    "\n",
    "  print('Epoch {} Loss {:.4f}'.format(epoch + 1,\n",
    "                                      total_loss / steps_per_epoch))\n",
    "  print('Time taken for 1 epoch {} sec\\n'.format(time.time() - start))"
   ]
  },
  {
   "cell_type": "markdown",
   "metadata": {
    "id": "mU3Ce8M6I3rz"
   },
   "source": [
    "## Translate\n",
    "\n",
    "* The evaluate function is similar to the training loop, except we don't use *teacher forcing* here. The input to the decoder at each time step is its previous predictions along with the hidden state and the encoder output.\n",
    "* Stop predicting when the model predicts the *end token*.\n",
    "* And store the *attention weights for every time step*.\n",
    "\n",
    "Note: The encoder output is calculated only once for one input."
   ]
  },
  {
   "cell_type": "code",
   "execution_count": 26,
   "metadata": {
    "id": "EbQpyYs13jF_"
   },
   "outputs": [],
   "source": [
    "def evaluate(sentence):\n",
    "  attention_plot = np.zeros((max_length_targ, max_length_inp))\n",
    "\n",
    "  sentence = preprocess_sentence(sentence)\n",
    "\n",
    "  inputs = [inp_lang.word_index[i] for i in sentence.split(' ')]\n",
    "  inputs = tf.keras.preprocessing.sequence.pad_sequences([inputs],\n",
    "                                                         maxlen=max_length_inp,\n",
    "                                                         padding='post')\n",
    "  inputs = tf.convert_to_tensor(inputs)\n",
    "\n",
    "  result = ''\n",
    "\n",
    "  hidden = [tf.zeros((1, units))]\n",
    "  enc_out, enc_hidden = encoder(inputs, hidden)\n",
    "\n",
    "  dec_hidden = enc_hidden\n",
    "  dec_input = tf.expand_dims([targ_lang.word_index['<start>']], 0)\n",
    "\n",
    "  for t in range(max_length_targ):\n",
    "    predictions, dec_hidden, attention_weights = decoder(dec_input,\n",
    "                                                         dec_hidden,\n",
    "                                                         enc_out)\n",
    "\n",
    "    # storing the attention weights to plot later on\n",
    "    attention_weights = tf.reshape(attention_weights, (-1, ))\n",
    "    attention_plot[t] = attention_weights.numpy()\n",
    "\n",
    "    predicted_id = tf.argmax(predictions[0]).numpy()\n",
    "\n",
    "    result += targ_lang.index_word[predicted_id] + ' '\n",
    "\n",
    "    if targ_lang.index_word[predicted_id] == '<end>':\n",
    "      return result, sentence, attention_plot\n",
    "\n",
    "    # the predicted ID is fed back into the model\n",
    "    dec_input = tf.expand_dims([predicted_id], 0)\n",
    "\n",
    "  return result, sentence, attention_plot"
   ]
  },
  {
   "cell_type": "code",
   "execution_count": 27,
   "metadata": {
    "id": "Qjy26Fe8Bv5d"
   },
   "outputs": [],
   "source": [
    "# function for plotting the attention weights\n",
    "def plot_attention(attention, sentence, predicted_sentence):\n",
    "  fig = plt.figure(figsize=(10,10))\n",
    "  ax = fig.add_subplot(1, 1, 1)\n",
    "  ax.matshow(attention, cmap='viridis')\n",
    "\n",
    "  fontdict = {'fontsize': 14}\n",
    "\n",
    "  ax.set_xticklabels([''] + sentence, fontdict=fontdict, rotation=90)\n",
    "  ax.set_yticklabels([''] + predicted_sentence, fontdict=fontdict)\n",
    "\n",
    "  ax.xaxis.set_major_locator(ticker.MultipleLocator(1))\n",
    "  ax.yaxis.set_major_locator(ticker.MultipleLocator(1))\n",
    "\n",
    "  plt.show()"
   ]
  },
  {
   "cell_type": "code",
   "execution_count": 28,
   "metadata": {
    "id": "sl9zUHzg3jGI"
   },
   "outputs": [],
   "source": [
    "def translate(sentence):\n",
    "  result, sentence, attention_plot = evaluate(sentence)\n",
    "\n",
    "  print('Input: %s' % (sentence))\n",
    "  print('Predicted translation: {}'.format(result))\n",
    "\n",
    "  attention_plot = attention_plot[:len(result.split(' ')), :len(sentence.split(' '))]\n",
    "  plot_attention(attention_plot, sentence.split(' '), result.split(' '))"
   ]
  },
  {
   "cell_type": "markdown",
   "metadata": {
    "id": "n250XbnjOaqP"
   },
   "source": [
    "## Restore the latest checkpoint and test"
   ]
  },
  {
   "cell_type": "code",
   "execution_count": 29,
   "metadata": {
    "colab": {
     "base_uri": "https://localhost:8080/"
    },
    "id": "UJpT9D5_OgP6",
    "outputId": "28722f54-a505-40a1-f884-ca7815272d0c"
   },
   "outputs": [
    {
     "data": {
      "text/plain": [
       "<tensorflow.python.checkpoint.checkpoint.CheckpointLoadStatus at 0x1cfc9080c70>"
      ]
     },
     "execution_count": 29,
     "metadata": {},
     "output_type": "execute_result"
    }
   ],
   "source": [
    "# restoring the latest checkpoint in checkpoint_dir\n",
    "checkpoint.restore(tf.train.latest_checkpoint(checkpoint_dir))"
   ]
  },
  {
   "cell_type": "code",
   "execution_count": 30,
   "metadata": {
    "colab": {
     "base_uri": "https://localhost:8080/",
     "height": 677
    },
    "id": "WrAM0FDomq3E",
    "outputId": "1441a3f6-b48f-4970-f372-4c8103bbb4b6"
   },
   "outputs": [
    {
     "name": "stdout",
     "output_type": "stream",
     "text": [
      "Input: <start> здесь хорошо . <end>\n",
      "Predicted translation: it's fine here . <end> \n"
     ]
    },
    {
     "name": "stderr",
     "output_type": "stream",
     "text": [
      "C:\\Users\\user\\AppData\\Local\\Temp\\ipykernel_7880\\282331986.py:9: UserWarning: FixedFormatter should only be used together with FixedLocator\n",
      "  ax.set_xticklabels([''] + sentence, fontdict=fontdict, rotation=90)\n",
      "C:\\Users\\user\\AppData\\Local\\Temp\\ipykernel_7880\\282331986.py:10: UserWarning: FixedFormatter should only be used together with FixedLocator\n",
      "  ax.set_yticklabels([''] + predicted_sentence, fontdict=fontdict)\n"
     ]
    },
    {
     "data": {
      "image/png": "[encoded data removed]",
      "text/plain": [
       "<Figure size 720x720 with 1 Axes>"
      ]
     },
     "metadata": {
      "needs_background": "light"
     },
     "output_type": "display_data"
    }
   ],
   "source": [
    "translate('Здесь хорошо.')"
   ]
  },
  {
   "cell_type": "code",
   "execution_count": 31,
   "metadata": {
    "colab": {
     "base_uri": "https://localhost:8080/",
     "height": 615
    },
    "id": "5bhFfwcIMX5i",
    "outputId": "7fe0e655-0b2d-4ade-db04-d4c146a80713"
   },
   "outputs": [
    {
     "name": "stdout",
     "output_type": "stream",
     "text": [
      "Input: <start> я не смогу поехать . <end>\n",
      "Predicted translation: i can't go . <end> \n"
     ]
    },
    {
     "name": "stderr",
     "output_type": "stream",
     "text": [
      "C:\\Users\\user\\AppData\\Local\\Temp\\ipykernel_7880\\282331986.py:9: UserWarning: FixedFormatter should only be used together with FixedLocator\n",
      "  ax.set_xticklabels([''] + sentence, fontdict=fontdict, rotation=90)\n",
      "C:\\Users\\user\\AppData\\Local\\Temp\\ipykernel_7880\\282331986.py:10: UserWarning: FixedFormatter should only be used together with FixedLocator\n",
      "  ax.set_yticklabels([''] + predicted_sentence, fontdict=fontdict)\n"
     ]
    },
    {
     "data": {
      "image/png": "[encoded data removed]",
      "text/plain": [
       "<Figure size 720x720 with 1 Axes>"
      ]
     },
     "metadata": {
      "needs_background": "light"
     },
     "output_type": "display_data"
    }
   ],
   "source": [
    "translate('Я не смогу поехать.')"
   ]
  },
  {
   "cell_type": "code",
   "execution_count": 32,
   "metadata": {
    "colab": {
     "base_uri": "https://localhost:8080/",
     "height": 677
    },
    "id": "zSx2iM36EZQZ",
    "outputId": "dbe4427c-3b27-40a5-f3ca-9d29e04b18a2"
   },
   "outputs": [
    {
     "name": "stdout",
     "output_type": "stream",
     "text": [
      "Input: <start> вы еще дома ? <end>\n",
      "Predicted translation: are you still at home ? <end> \n"
     ]
    },
    {
     "name": "stderr",
     "output_type": "stream",
     "text": [
      "C:\\Users\\user\\AppData\\Local\\Temp\\ipykernel_7880\\282331986.py:9: UserWarning: FixedFormatter should only be used together with FixedLocator\n",
      "  ax.set_xticklabels([''] + sentence, fontdict=fontdict, rotation=90)\n",
      "C:\\Users\\user\\AppData\\Local\\Temp\\ipykernel_7880\\282331986.py:10: UserWarning: FixedFormatter should only be used together with FixedLocator\n",
      "  ax.set_yticklabels([''] + predicted_sentence, fontdict=fontdict)\n"
     ]
    },
    {
     "data": {
      "image/png": "[encoded data removed]",
      "text/plain": [
       "<Figure size 720x720 with 1 Axes>"
      ]
     },
     "metadata": {
      "needs_background": "light"
     },
     "output_type": "display_data"
    }
   ],
   "source": [
    "translate(u'Вы еще дома?')"
   ]
  },
  {
   "cell_type": "code",
   "execution_count": 33,
   "metadata": {
    "colab": {
     "base_uri": "https://localhost:8080/",
     "height": 677
    },
    "id": "A3LLCx3ZE0Ls",
    "outputId": "1549f08a-fef9-4621-aec3-26a38d9a8f54"
   },
   "outputs": [
    {
     "name": "stdout",
     "output_type": "stream",
     "text": [
      "Input: <start> вы все еще дома ? <end>\n",
      "Predicted translation: are you still at home ? <end> \n"
     ]
    },
    {
     "name": "stderr",
     "output_type": "stream",
     "text": [
      "C:\\Users\\user\\AppData\\Local\\Temp\\ipykernel_7880\\282331986.py:9: UserWarning: FixedFormatter should only be used together with FixedLocator\n",
      "  ax.set_xticklabels([''] + sentence, fontdict=fontdict, rotation=90)\n",
      "C:\\Users\\user\\AppData\\Local\\Temp\\ipykernel_7880\\282331986.py:10: UserWarning: FixedFormatter should only be used together with FixedLocator\n",
      "  ax.set_yticklabels([''] + predicted_sentence, fontdict=fontdict)\n"
     ]
    },
    {
     "data": {
      "image/png": "[encoded data removed]",
      "text/plain": [
       "<Figure size 720x720 with 1 Axes>"
      ]
     },
     "metadata": {
      "needs_background": "light"
     },
     "output_type": "display_data"
    }
   ],
   "source": [
    "translate(u'Вы все еще дома?')"
   ]
  },
  {
   "cell_type": "code",
   "execution_count": 34,
   "metadata": {
    "colab": {
     "base_uri": "https://localhost:8080/",
     "height": 691
    },
    "id": "DUQVLVqUE1YW",
    "outputId": "386cbb83-4e83-423a-cdee-f4b53d61a457"
   },
   "outputs": [
    {
     "name": "stdout",
     "output_type": "stream",
     "text": [
      "Input: <start> попробуй сделать это . <end>\n",
      "Predicted translation: try and do it . <end> \n"
     ]
    },
    {
     "name": "stderr",
     "output_type": "stream",
     "text": [
      "C:\\Users\\user\\AppData\\Local\\Temp\\ipykernel_7880\\282331986.py:9: UserWarning: FixedFormatter should only be used together with FixedLocator\n",
      "  ax.set_xticklabels([''] + sentence, fontdict=fontdict, rotation=90)\n",
      "C:\\Users\\user\\AppData\\Local\\Temp\\ipykernel_7880\\282331986.py:10: UserWarning: FixedFormatter should only be used together with FixedLocator\n",
      "  ax.set_yticklabels([''] + predicted_sentence, fontdict=fontdict)\n"
     ]
    },
    {
     "data": {
      "image/png": "[encoded data removed]",
      "text/plain": [
       "<Figure size 720x720 with 1 Axes>"
      ]
     },
     "metadata": {
      "needs_background": "light"
     },
     "output_type": "display_data"
    }
   ],
   "source": [
    "translate(u'Попробуй сделать это.')"
   ]
  },
  {
   "cell_type": "code",
   "execution_count": 35,
   "metadata": {
    "colab": {
     "base_uri": "https://localhost:8080/",
     "height": 525
    },
    "id": "f09_hUFx9EJh",
    "outputId": "0a870a16-883d-45ee-84e3-123f41607bd6"
   },
   "outputs": [
    {
     "name": "stdout",
     "output_type": "stream",
     "text": [
      "Input: <start> я не люблю , когда идет снег . <end>\n",
      "Predicted translation: i like him like snow . <end> \n"
     ]
    },
    {
     "name": "stderr",
     "output_type": "stream",
     "text": [
      "C:\\Users\\user\\AppData\\Local\\Temp\\ipykernel_7880\\282331986.py:9: UserWarning: FixedFormatter should only be used together with FixedLocator\n",
      "  ax.set_xticklabels([''] + sentence, fontdict=fontdict, rotation=90)\n",
      "C:\\Users\\user\\AppData\\Local\\Temp\\ipykernel_7880\\282331986.py:10: UserWarning: FixedFormatter should only be used together with FixedLocator\n",
      "  ax.set_yticklabels([''] + predicted_sentence, fontdict=fontdict)\n"
     ]
    },
    {
     "data": {
      "image/png": "[encoded data removed]",
      "text/plain": [
       "<Figure size 720x720 with 1 Axes>"
      ]
     },
     "metadata": {
      "needs_background": "light"
     },
     "output_type": "display_data"
    }
   ],
   "source": [
    "translate(u'Я не люблю, когда идет снег.')"
   ]
  },
  {
   "cell_type": "code",
   "execution_count": 36,
   "metadata": {
    "colab": {
     "base_uri": "https://localhost:8080/",
     "height": 627
    },
    "id": "e7c5p8rmkHQG",
    "outputId": "b77034fd-d8eb-4755-87f8-5b79861190fd"
   },
   "outputs": [
    {
     "name": "stderr",
     "output_type": "stream",
     "text": [
      "C:\\Users\\user\\AppData\\Local\\Temp\\ipykernel_7880\\282331986.py:9: UserWarning: FixedFormatter should only be used together with FixedLocator\n",
      "  ax.set_xticklabels([''] + sentence, fontdict=fontdict, rotation=90)\n",
      "C:\\Users\\user\\AppData\\Local\\Temp\\ipykernel_7880\\282331986.py:10: UserWarning: FixedFormatter should only be used together with FixedLocator\n",
      "  ax.set_yticklabels([''] + predicted_sentence, fontdict=fontdict)\n"
     ]
    },
    {
     "name": "stdout",
     "output_type": "stream",
     "text": [
      "Input: <start> я никогда такого не делаю . <end>\n",
      "Predicted translation: i never do that . <end> \n"
     ]
    },
    {
     "data": {
      "image/png": "[encoded data removed]",
      "text/plain": [
       "<Figure size 720x720 with 1 Axes>"
      ]
     },
     "metadata": {
      "needs_background": "light"
     },
     "output_type": "display_data"
    }
   ],
   "source": [
    "translate(u'Я никогда такого не делаю.')"
   ]
  },
  {
   "cell_type": "code",
   "execution_count": 37,
   "metadata": {
    "id": "jdXES85KkTVS"
   },
   "outputs": [
    {
     "name": "stdout",
     "output_type": "stream",
     "text": [
      "Input: <start> я хочу поесть мясо . <end>\n",
      "Predicted translation: i want to eat meat . <end> \n"
     ]
    },
    {
     "name": "stderr",
     "output_type": "stream",
     "text": [
      "C:\\Users\\user\\AppData\\Local\\Temp\\ipykernel_7880\\282331986.py:9: UserWarning: FixedFormatter should only be used together with FixedLocator\n",
      "  ax.set_xticklabels([''] + sentence, fontdict=fontdict, rotation=90)\n",
      "C:\\Users\\user\\AppData\\Local\\Temp\\ipykernel_7880\\282331986.py:10: UserWarning: FixedFormatter should only be used together with FixedLocator\n",
      "  ax.set_yticklabels([''] + predicted_sentence, fontdict=fontdict)\n"
     ]
    },
    {
     "data": {
      "image/png": "[encoded data removed]",
      "text/plain": [
       "<Figure size 720x720 with 1 Axes>"
      ]
     },
     "metadata": {
      "needs_background": "light"
     },
     "output_type": "display_data"
    }
   ],
   "source": [
    "translate(u'Я хочу поесть мясо.')"
   ]
  },
  {
   "cell_type": "code",
   "execution_count": null,
   "metadata": {},
   "outputs": [],
   "source": []
  },
  {
   "cell_type": "code",
   "execution_count": null,
   "metadata": {},
   "outputs": [],
   "source": []
  }
 ],
 "metadata": {
  "accelerator": "GPU",
  "colab": {
   "collapsed_sections": [],
   "name": "nmt_with_attention.ipynb",
   "provenance": [],
   "toc_visible": true
  },
  "kernelspec": {
   "display_name": "Python 3 (ipykernel)",
   "language": "python",
   "name": "python3"
  },
  "language_info": {
   "codemirror_mode": {
    "name": "ipython",
    "version": 3
   },
   "file_extension": ".py",
   "mimetype": "text/x-python",
   "name": "python",
   "nbconvert_exporter": "python",
   "pygments_lexer": "ipython3",
   "version": "3.9.12"
  }
 },
 "nbformat": 4,
 "nbformat_minor": 1
}
